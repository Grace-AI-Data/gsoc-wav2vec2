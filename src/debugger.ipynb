{
 "metadata": {
  "language_info": {
   "codemirror_mode": {
    "name": "ipython",
    "version": 3
   },
   "file_extension": ".py",
   "mimetype": "text/x-python",
   "name": "python",
   "nbconvert_exporter": "python",
   "pygments_lexer": "ipython3",
   "version": "3.8.5"
  },
  "orig_nbformat": 2,
  "kernelspec": {
   "name": "python385jvsc74a57bd007c4df7ea0886a603057dcbd29d886eaa26a0122c4b0c39e2937eba8f7497417",
   "display_name": "Python 3.8.5 64-bit ('base': conda)"
  }
 },
 "nbformat": 4,
 "nbformat_minor": 2,
 "cells": [
  {
   "cell_type": "code",
   "execution_count": 15,
   "metadata": {},
   "outputs": [],
   "source": [
    "from wav2vec2 import Wav2Vec2Config, Wav2Vec2ForCTC, Wav2Vec2Config\n",
    "\n",
    "import tensorflow as tf"
   ]
  },
  {
   "cell_type": "code",
   "execution_count": 16,
   "metadata": {},
   "outputs": [],
   "source": [
    "config = Wav2Vec2Config()\n",
    "model = Wav2Vec2ForCTC(config)"
   ]
  },
  {
   "cell_type": "code",
   "execution_count": 17,
   "metadata": {},
   "outputs": [],
   "source": [
    "# batch = tf.ones((1, 1024), dtype=tf.float32)\n",
    "# model(batch)"
   ]
  },
  {
   "cell_type": "code",
   "execution_count": 18,
   "metadata": {},
   "outputs": [
    {
     "output_type": "execute_result",
     "data": {
      "text/plain": [
       "['wav2vec-ctc/wav2vec2/feature_extractor/conv_layers/0/conv/kernel:0',\n",
       " 'wav2vec-ctc/wav2vec2/feature_extractor/conv_layers/0/layer_norm/gamma:0',\n",
       " 'wav2vec-ctc/wav2vec2/feature_extractor/conv_layers/0/layer_norm/beta:0',\n",
       " 'wav2vec-ctc/wav2vec2/feature_extractor/conv_layers/1/conv/kernel:0',\n",
       " 'wav2vec-ctc/wav2vec2/feature_extractor/conv_layers/2/conv/kernel:0',\n",
       " 'wav2vec-ctc/wav2vec2/feature_extractor/conv_layers/3/conv/kernel:0',\n",
       " 'wav2vec-ctc/wav2vec2/feature_extractor/conv_layers/4/conv/kernel:0',\n",
       " 'wav2vec-ctc/wav2vec2/feature_extractor/conv_layers/5/conv/kernel:0',\n",
       " 'wav2vec-ctc/wav2vec2/feature_extractor/conv_layers/6/conv/kernel:0',\n",
       " 'wav2vec-ctc/wav2vec2/feature_projection/layer_norm/gamma:0',\n",
       " 'wav2vec-ctc/wav2vec2/feature_projection/layer_norm/beta:0',\n",
       " 'wav2vec-ctc/wav2vec2/feature_projection/projection/kernel:0',\n",
       " 'wav2vec-ctc/wav2vec2/feature_projection/projection/bias:0',\n",
       " 'wav2vec-ctc/wav2vec2/encoder/layer_norm/gamma:0',\n",
       " 'wav2vec-ctc/wav2vec2/encoder/layer_norm/beta:0',\n",
       " 'wav2vec-ctc/wav2vec2/encoder/layers/0/attention/q_proj/kernel:0',\n",
       " 'wav2vec-ctc/wav2vec2/encoder/layers/0/attention/q_proj/bias:0',\n",
       " 'wav2vec-ctc/wav2vec2/encoder/layers/0/attention/k_proj/kernel:0',\n",
       " 'wav2vec-ctc/wav2vec2/encoder/layers/0/attention/k_proj/bias:0',\n",
       " 'wav2vec-ctc/wav2vec2/encoder/layers/0/attention/v_proj/kernel:0',\n",
       " 'wav2vec-ctc/wav2vec2/encoder/layers/0/attention/v_proj/bias:0',\n",
       " 'wav2vec-ctc/wav2vec2/encoder/layers/0/attention/out_proj/kernel:0',\n",
       " 'wav2vec-ctc/wav2vec2/encoder/layers/0/attention/out_proj/bias:0',\n",
       " 'wav2vec-ctc/wav2vec2/encoder/layers/0/layer_norm/gamma:0',\n",
       " 'wav2vec-ctc/wav2vec2/encoder/layers/0/layer_norm/beta:0',\n",
       " 'wav2vec-ctc/wav2vec2/encoder/layers/0/feed_forward/intermediate_dense/kernel:0',\n",
       " 'wav2vec-ctc/wav2vec2/encoder/layers/0/feed_forward/intermediate_dense/bias:0',\n",
       " 'wav2vec-ctc/wav2vec2/encoder/layers/0/feed_forward/output_dense/kernel:0',\n",
       " 'wav2vec-ctc/wav2vec2/encoder/layers/0/feed_forward/output_dense/bias:0',\n",
       " 'wav2vec-ctc/wav2vec2/encoder/layers/0/final_layer_norm/gamma:0',\n",
       " 'wav2vec-ctc/wav2vec2/encoder/layers/0/final_layer_norm/beta:0',\n",
       " 'wav2vec-ctc/wav2vec2/encoder/layers/1/attention/q_proj/kernel:0',\n",
       " 'wav2vec-ctc/wav2vec2/encoder/layers/1/attention/q_proj/bias:0',\n",
       " 'wav2vec-ctc/wav2vec2/encoder/layers/1/attention/k_proj/kernel:0',\n",
       " 'wav2vec-ctc/wav2vec2/encoder/layers/1/attention/k_proj/bias:0',\n",
       " 'wav2vec-ctc/wav2vec2/encoder/layers/1/attention/v_proj/kernel:0',\n",
       " 'wav2vec-ctc/wav2vec2/encoder/layers/1/attention/v_proj/bias:0',\n",
       " 'wav2vec-ctc/wav2vec2/encoder/layers/1/attention/out_proj/kernel:0',\n",
       " 'wav2vec-ctc/wav2vec2/encoder/layers/1/attention/out_proj/bias:0',\n",
       " 'wav2vec-ctc/wav2vec2/encoder/layers/1/layer_norm/gamma:0',\n",
       " 'wav2vec-ctc/wav2vec2/encoder/layers/1/layer_norm/beta:0',\n",
       " 'wav2vec-ctc/wav2vec2/encoder/layers/1/feed_forward/intermediate_dense/kernel:0',\n",
       " 'wav2vec-ctc/wav2vec2/encoder/layers/1/feed_forward/intermediate_dense/bias:0',\n",
       " 'wav2vec-ctc/wav2vec2/encoder/layers/1/feed_forward/output_dense/kernel:0',\n",
       " 'wav2vec-ctc/wav2vec2/encoder/layers/1/feed_forward/output_dense/bias:0',\n",
       " 'wav2vec-ctc/wav2vec2/encoder/layers/1/final_layer_norm/gamma:0',\n",
       " 'wav2vec-ctc/wav2vec2/encoder/layers/1/final_layer_norm/beta:0',\n",
       " 'wav2vec-ctc/wav2vec2/encoder/layers/2/attention/q_proj/kernel:0',\n",
       " 'wav2vec-ctc/wav2vec2/encoder/layers/2/attention/q_proj/bias:0',\n",
       " 'wav2vec-ctc/wav2vec2/encoder/layers/2/attention/k_proj/kernel:0',\n",
       " 'wav2vec-ctc/wav2vec2/encoder/layers/2/attention/k_proj/bias:0',\n",
       " 'wav2vec-ctc/wav2vec2/encoder/layers/2/attention/v_proj/kernel:0',\n",
       " 'wav2vec-ctc/wav2vec2/encoder/layers/2/attention/v_proj/bias:0',\n",
       " 'wav2vec-ctc/wav2vec2/encoder/layers/2/attention/out_proj/kernel:0',\n",
       " 'wav2vec-ctc/wav2vec2/encoder/layers/2/attention/out_proj/bias:0',\n",
       " 'wav2vec-ctc/wav2vec2/encoder/layers/2/layer_norm/gamma:0',\n",
       " 'wav2vec-ctc/wav2vec2/encoder/layers/2/layer_norm/beta:0',\n",
       " 'wav2vec-ctc/wav2vec2/encoder/layers/2/feed_forward/intermediate_dense/kernel:0',\n",
       " 'wav2vec-ctc/wav2vec2/encoder/layers/2/feed_forward/intermediate_dense/bias:0',\n",
       " 'wav2vec-ctc/wav2vec2/encoder/layers/2/feed_forward/output_dense/kernel:0',\n",
       " 'wav2vec-ctc/wav2vec2/encoder/layers/2/feed_forward/output_dense/bias:0',\n",
       " 'wav2vec-ctc/wav2vec2/encoder/layers/2/final_layer_norm/gamma:0',\n",
       " 'wav2vec-ctc/wav2vec2/encoder/layers/2/final_layer_norm/beta:0',\n",
       " 'wav2vec-ctc/wav2vec2/encoder/layers/3/attention/q_proj/kernel:0',\n",
       " 'wav2vec-ctc/wav2vec2/encoder/layers/3/attention/q_proj/bias:0',\n",
       " 'wav2vec-ctc/wav2vec2/encoder/layers/3/attention/k_proj/kernel:0',\n",
       " 'wav2vec-ctc/wav2vec2/encoder/layers/3/attention/k_proj/bias:0',\n",
       " 'wav2vec-ctc/wav2vec2/encoder/layers/3/attention/v_proj/kernel:0',\n",
       " 'wav2vec-ctc/wav2vec2/encoder/layers/3/attention/v_proj/bias:0',\n",
       " 'wav2vec-ctc/wav2vec2/encoder/layers/3/attention/out_proj/kernel:0',\n",
       " 'wav2vec-ctc/wav2vec2/encoder/layers/3/attention/out_proj/bias:0',\n",
       " 'wav2vec-ctc/wav2vec2/encoder/layers/3/layer_norm/gamma:0',\n",
       " 'wav2vec-ctc/wav2vec2/encoder/layers/3/layer_norm/beta:0',\n",
       " 'wav2vec-ctc/wav2vec2/encoder/layers/3/feed_forward/intermediate_dense/kernel:0',\n",
       " 'wav2vec-ctc/wav2vec2/encoder/layers/3/feed_forward/intermediate_dense/bias:0',\n",
       " 'wav2vec-ctc/wav2vec2/encoder/layers/3/feed_forward/output_dense/kernel:0',\n",
       " 'wav2vec-ctc/wav2vec2/encoder/layers/3/feed_forward/output_dense/bias:0',\n",
       " 'wav2vec-ctc/wav2vec2/encoder/layers/3/final_layer_norm/gamma:0',\n",
       " 'wav2vec-ctc/wav2vec2/encoder/layers/3/final_layer_norm/beta:0',\n",
       " 'wav2vec-ctc/wav2vec2/encoder/layers/4/attention/q_proj/kernel:0',\n",
       " 'wav2vec-ctc/wav2vec2/encoder/layers/4/attention/q_proj/bias:0',\n",
       " 'wav2vec-ctc/wav2vec2/encoder/layers/4/attention/k_proj/kernel:0',\n",
       " 'wav2vec-ctc/wav2vec2/encoder/layers/4/attention/k_proj/bias:0',\n",
       " 'wav2vec-ctc/wav2vec2/encoder/layers/4/attention/v_proj/kernel:0',\n",
       " 'wav2vec-ctc/wav2vec2/encoder/layers/4/attention/v_proj/bias:0',\n",
       " 'wav2vec-ctc/wav2vec2/encoder/layers/4/attention/out_proj/kernel:0',\n",
       " 'wav2vec-ctc/wav2vec2/encoder/layers/4/attention/out_proj/bias:0',\n",
       " 'wav2vec-ctc/wav2vec2/encoder/layers/4/layer_norm/gamma:0',\n",
       " 'wav2vec-ctc/wav2vec2/encoder/layers/4/layer_norm/beta:0',\n",
       " 'wav2vec-ctc/wav2vec2/encoder/layers/4/feed_forward/intermediate_dense/kernel:0',\n",
       " 'wav2vec-ctc/wav2vec2/encoder/layers/4/feed_forward/intermediate_dense/bias:0',\n",
       " 'wav2vec-ctc/wav2vec2/encoder/layers/4/feed_forward/output_dense/kernel:0',\n",
       " 'wav2vec-ctc/wav2vec2/encoder/layers/4/feed_forward/output_dense/bias:0',\n",
       " 'wav2vec-ctc/wav2vec2/encoder/layers/4/final_layer_norm/gamma:0',\n",
       " 'wav2vec-ctc/wav2vec2/encoder/layers/4/final_layer_norm/beta:0',\n",
       " 'wav2vec-ctc/wav2vec2/encoder/layers/5/attention/q_proj/kernel:0',\n",
       " 'wav2vec-ctc/wav2vec2/encoder/layers/5/attention/q_proj/bias:0',\n",
       " 'wav2vec-ctc/wav2vec2/encoder/layers/5/attention/k_proj/kernel:0',\n",
       " 'wav2vec-ctc/wav2vec2/encoder/layers/5/attention/k_proj/bias:0',\n",
       " 'wav2vec-ctc/wav2vec2/encoder/layers/5/attention/v_proj/kernel:0',\n",
       " 'wav2vec-ctc/wav2vec2/encoder/layers/5/attention/v_proj/bias:0',\n",
       " 'wav2vec-ctc/wav2vec2/encoder/layers/5/attention/out_proj/kernel:0',\n",
       " 'wav2vec-ctc/wav2vec2/encoder/layers/5/attention/out_proj/bias:0',\n",
       " 'wav2vec-ctc/wav2vec2/encoder/layers/5/layer_norm/gamma:0',\n",
       " 'wav2vec-ctc/wav2vec2/encoder/layers/5/layer_norm/beta:0',\n",
       " 'wav2vec-ctc/wav2vec2/encoder/layers/5/feed_forward/intermediate_dense/kernel:0',\n",
       " 'wav2vec-ctc/wav2vec2/encoder/layers/5/feed_forward/intermediate_dense/bias:0',\n",
       " 'wav2vec-ctc/wav2vec2/encoder/layers/5/feed_forward/output_dense/kernel:0',\n",
       " 'wav2vec-ctc/wav2vec2/encoder/layers/5/feed_forward/output_dense/bias:0',\n",
       " 'wav2vec-ctc/wav2vec2/encoder/layers/5/final_layer_norm/gamma:0',\n",
       " 'wav2vec-ctc/wav2vec2/encoder/layers/5/final_layer_norm/beta:0',\n",
       " 'wav2vec-ctc/wav2vec2/encoder/layers/6/attention/q_proj/kernel:0',\n",
       " 'wav2vec-ctc/wav2vec2/encoder/layers/6/attention/q_proj/bias:0',\n",
       " 'wav2vec-ctc/wav2vec2/encoder/layers/6/attention/k_proj/kernel:0',\n",
       " 'wav2vec-ctc/wav2vec2/encoder/layers/6/attention/k_proj/bias:0',\n",
       " 'wav2vec-ctc/wav2vec2/encoder/layers/6/attention/v_proj/kernel:0',\n",
       " 'wav2vec-ctc/wav2vec2/encoder/layers/6/attention/v_proj/bias:0',\n",
       " 'wav2vec-ctc/wav2vec2/encoder/layers/6/attention/out_proj/kernel:0',\n",
       " 'wav2vec-ctc/wav2vec2/encoder/layers/6/attention/out_proj/bias:0',\n",
       " 'wav2vec-ctc/wav2vec2/encoder/layers/6/layer_norm/gamma:0',\n",
       " 'wav2vec-ctc/wav2vec2/encoder/layers/6/layer_norm/beta:0',\n",
       " 'wav2vec-ctc/wav2vec2/encoder/layers/6/feed_forward/intermediate_dense/kernel:0',\n",
       " 'wav2vec-ctc/wav2vec2/encoder/layers/6/feed_forward/intermediate_dense/bias:0',\n",
       " 'wav2vec-ctc/wav2vec2/encoder/layers/6/feed_forward/output_dense/kernel:0',\n",
       " 'wav2vec-ctc/wav2vec2/encoder/layers/6/feed_forward/output_dense/bias:0',\n",
       " 'wav2vec-ctc/wav2vec2/encoder/layers/6/final_layer_norm/gamma:0',\n",
       " 'wav2vec-ctc/wav2vec2/encoder/layers/6/final_layer_norm/beta:0',\n",
       " 'wav2vec-ctc/wav2vec2/encoder/layers/7/attention/q_proj/kernel:0',\n",
       " 'wav2vec-ctc/wav2vec2/encoder/layers/7/attention/q_proj/bias:0',\n",
       " 'wav2vec-ctc/wav2vec2/encoder/layers/7/attention/k_proj/kernel:0',\n",
       " 'wav2vec-ctc/wav2vec2/encoder/layers/7/attention/k_proj/bias:0',\n",
       " 'wav2vec-ctc/wav2vec2/encoder/layers/7/attention/v_proj/kernel:0',\n",
       " 'wav2vec-ctc/wav2vec2/encoder/layers/7/attention/v_proj/bias:0',\n",
       " 'wav2vec-ctc/wav2vec2/encoder/layers/7/attention/out_proj/kernel:0',\n",
       " 'wav2vec-ctc/wav2vec2/encoder/layers/7/attention/out_proj/bias:0',\n",
       " 'wav2vec-ctc/wav2vec2/encoder/layers/7/layer_norm/gamma:0',\n",
       " 'wav2vec-ctc/wav2vec2/encoder/layers/7/layer_norm/beta:0',\n",
       " 'wav2vec-ctc/wav2vec2/encoder/layers/7/feed_forward/intermediate_dense/kernel:0',\n",
       " 'wav2vec-ctc/wav2vec2/encoder/layers/7/feed_forward/intermediate_dense/bias:0',\n",
       " 'wav2vec-ctc/wav2vec2/encoder/layers/7/feed_forward/output_dense/kernel:0',\n",
       " 'wav2vec-ctc/wav2vec2/encoder/layers/7/feed_forward/output_dense/bias:0',\n",
       " 'wav2vec-ctc/wav2vec2/encoder/layers/7/final_layer_norm/gamma:0',\n",
       " 'wav2vec-ctc/wav2vec2/encoder/layers/7/final_layer_norm/beta:0',\n",
       " 'wav2vec-ctc/wav2vec2/encoder/layers/8/attention/q_proj/kernel:0',\n",
       " 'wav2vec-ctc/wav2vec2/encoder/layers/8/attention/q_proj/bias:0',\n",
       " 'wav2vec-ctc/wav2vec2/encoder/layers/8/attention/k_proj/kernel:0',\n",
       " 'wav2vec-ctc/wav2vec2/encoder/layers/8/attention/k_proj/bias:0',\n",
       " 'wav2vec-ctc/wav2vec2/encoder/layers/8/attention/v_proj/kernel:0',\n",
       " 'wav2vec-ctc/wav2vec2/encoder/layers/8/attention/v_proj/bias:0',\n",
       " 'wav2vec-ctc/wav2vec2/encoder/layers/8/attention/out_proj/kernel:0',\n",
       " 'wav2vec-ctc/wav2vec2/encoder/layers/8/attention/out_proj/bias:0',\n",
       " 'wav2vec-ctc/wav2vec2/encoder/layers/8/layer_norm/gamma:0',\n",
       " 'wav2vec-ctc/wav2vec2/encoder/layers/8/layer_norm/beta:0',\n",
       " 'wav2vec-ctc/wav2vec2/encoder/layers/8/feed_forward/intermediate_dense/kernel:0',\n",
       " 'wav2vec-ctc/wav2vec2/encoder/layers/8/feed_forward/intermediate_dense/bias:0',\n",
       " 'wav2vec-ctc/wav2vec2/encoder/layers/8/feed_forward/output_dense/kernel:0',\n",
       " 'wav2vec-ctc/wav2vec2/encoder/layers/8/feed_forward/output_dense/bias:0',\n",
       " 'wav2vec-ctc/wav2vec2/encoder/layers/8/final_layer_norm/gamma:0',\n",
       " 'wav2vec-ctc/wav2vec2/encoder/layers/8/final_layer_norm/beta:0',\n",
       " 'wav2vec-ctc/wav2vec2/encoder/layers/9/attention/q_proj/kernel:0',\n",
       " 'wav2vec-ctc/wav2vec2/encoder/layers/9/attention/q_proj/bias:0',\n",
       " 'wav2vec-ctc/wav2vec2/encoder/layers/9/attention/k_proj/kernel:0',\n",
       " 'wav2vec-ctc/wav2vec2/encoder/layers/9/attention/k_proj/bias:0',\n",
       " 'wav2vec-ctc/wav2vec2/encoder/layers/9/attention/v_proj/kernel:0',\n",
       " 'wav2vec-ctc/wav2vec2/encoder/layers/9/attention/v_proj/bias:0',\n",
       " 'wav2vec-ctc/wav2vec2/encoder/layers/9/attention/out_proj/kernel:0',\n",
       " 'wav2vec-ctc/wav2vec2/encoder/layers/9/attention/out_proj/bias:0',\n",
       " 'wav2vec-ctc/wav2vec2/encoder/layers/9/layer_norm/gamma:0',\n",
       " 'wav2vec-ctc/wav2vec2/encoder/layers/9/layer_norm/beta:0',\n",
       " 'wav2vec-ctc/wav2vec2/encoder/layers/9/feed_forward/intermediate_dense/kernel:0',\n",
       " 'wav2vec-ctc/wav2vec2/encoder/layers/9/feed_forward/intermediate_dense/bias:0',\n",
       " 'wav2vec-ctc/wav2vec2/encoder/layers/9/feed_forward/output_dense/kernel:0',\n",
       " 'wav2vec-ctc/wav2vec2/encoder/layers/9/feed_forward/output_dense/bias:0',\n",
       " 'wav2vec-ctc/wav2vec2/encoder/layers/9/final_layer_norm/gamma:0',\n",
       " 'wav2vec-ctc/wav2vec2/encoder/layers/9/final_layer_norm/beta:0',\n",
       " 'wav2vec-ctc/wav2vec2/encoder/layers/10/attention/q_proj/kernel:0',\n",
       " 'wav2vec-ctc/wav2vec2/encoder/layers/10/attention/q_proj/bias:0',\n",
       " 'wav2vec-ctc/wav2vec2/encoder/layers/10/attention/k_proj/kernel:0',\n",
       " 'wav2vec-ctc/wav2vec2/encoder/layers/10/attention/k_proj/bias:0',\n",
       " 'wav2vec-ctc/wav2vec2/encoder/layers/10/attention/v_proj/kernel:0',\n",
       " 'wav2vec-ctc/wav2vec2/encoder/layers/10/attention/v_proj/bias:0',\n",
       " 'wav2vec-ctc/wav2vec2/encoder/layers/10/attention/out_proj/kernel:0',\n",
       " 'wav2vec-ctc/wav2vec2/encoder/layers/10/attention/out_proj/bias:0',\n",
       " 'wav2vec-ctc/wav2vec2/encoder/layers/10/layer_norm/gamma:0',\n",
       " 'wav2vec-ctc/wav2vec2/encoder/layers/10/layer_norm/beta:0',\n",
       " 'wav2vec-ctc/wav2vec2/encoder/layers/10/feed_forward/intermediate_dense/kernel:0',\n",
       " 'wav2vec-ctc/wav2vec2/encoder/layers/10/feed_forward/intermediate_dense/bias:0',\n",
       " 'wav2vec-ctc/wav2vec2/encoder/layers/10/feed_forward/output_dense/kernel:0',\n",
       " 'wav2vec-ctc/wav2vec2/encoder/layers/10/feed_forward/output_dense/bias:0',\n",
       " 'wav2vec-ctc/wav2vec2/encoder/layers/10/final_layer_norm/gamma:0',\n",
       " 'wav2vec-ctc/wav2vec2/encoder/layers/10/final_layer_norm/beta:0',\n",
       " 'wav2vec-ctc/wav2vec2/encoder/layers/11/attention/q_proj/kernel:0',\n",
       " 'wav2vec-ctc/wav2vec2/encoder/layers/11/attention/q_proj/bias:0',\n",
       " 'wav2vec-ctc/wav2vec2/encoder/layers/11/attention/k_proj/kernel:0',\n",
       " 'wav2vec-ctc/wav2vec2/encoder/layers/11/attention/k_proj/bias:0',\n",
       " 'wav2vec-ctc/wav2vec2/encoder/layers/11/attention/v_proj/kernel:0',\n",
       " 'wav2vec-ctc/wav2vec2/encoder/layers/11/attention/v_proj/bias:0',\n",
       " 'wav2vec-ctc/wav2vec2/encoder/layers/11/attention/out_proj/kernel:0',\n",
       " 'wav2vec-ctc/wav2vec2/encoder/layers/11/attention/out_proj/bias:0',\n",
       " 'wav2vec-ctc/wav2vec2/encoder/layers/11/layer_norm/gamma:0',\n",
       " 'wav2vec-ctc/wav2vec2/encoder/layers/11/layer_norm/beta:0',\n",
       " 'wav2vec-ctc/wav2vec2/encoder/layers/11/feed_forward/intermediate_dense/kernel:0',\n",
       " 'wav2vec-ctc/wav2vec2/encoder/layers/11/feed_forward/intermediate_dense/bias:0',\n",
       " 'wav2vec-ctc/wav2vec2/encoder/layers/11/feed_forward/output_dense/kernel:0',\n",
       " 'wav2vec-ctc/wav2vec2/encoder/layers/11/feed_forward/output_dense/bias:0',\n",
       " 'wav2vec-ctc/wav2vec2/encoder/layers/11/final_layer_norm/gamma:0',\n",
       " 'wav2vec-ctc/wav2vec2/encoder/layers/11/final_layer_norm/beta:0',\n",
       " 'wav2vec-ctc/lm_head/kernel:0',\n",
       " 'wav2vec-ctc/lm_head/bias:0']"
      ]
     },
     "metadata": {},
     "execution_count": 18
    }
   ],
   "source": [
    "[v.name for v in model.variables]"
   ]
  },
  {
   "cell_type": "code",
   "execution_count": 19,
   "metadata": {},
   "outputs": [
    {
     "output_type": "stream",
     "name": "stderr",
     "text": [
      "Some weights of Wav2Vec2ForCTC were not initialized from the model checkpoint at facebook/wav2vec2-base-960h and are newly initialized: ['wav2vec2.masked_spec_embed']\nYou should probably TRAIN this model on a down-stream task to be able to use it for predictions and inference.\n"
     ]
    }
   ],
   "source": [
    "from transformers import Wav2Vec2ForCTC as HFWav2Vec2ForCTC\n",
    "\n",
    "hf_model = HFWav2Vec2ForCTC.from_pretrained(\"facebook/wav2vec2-base-960h\")"
   ]
  },
  {
   "cell_type": "code",
   "execution_count": 49,
   "metadata": {},
   "outputs": [
    {
     "output_type": "execute_result",
     "data": {
      "text/plain": [
       "<bound method BaseResourceVariable.value of <tf.Variable 'wav2vec-ctc/wav2vec2/feature_extractor/conv_layers/0/conv/kernel:0' shape=(10, 1, 512) dtype=float32, numpy=\n",
       "array([[[ 0.03120919, -0.01594949,  0.02279448, ..., -0.02652317,\n",
       "         -0.02737866, -0.00334822]],\n",
       "\n",
       "       [[ 0.01261151, -0.02343632,  0.01583271, ...,  0.02090617,\n",
       "          0.02896192, -0.00599178]],\n",
       "\n",
       "       [[ 0.017125  ,  0.0146711 ,  0.00668287, ..., -0.01111716,\n",
       "          0.02802647,  0.01305397]],\n",
       "\n",
       "       ...,\n",
       "\n",
       "       [[ 0.02383802,  0.00751015,  0.02661301, ..., -0.01388671,\n",
       "         -0.02314447, -0.0341196 ]],\n",
       "\n",
       "       [[ 0.00730148,  0.0042468 , -0.0157556 , ..., -0.02352146,\n",
       "          0.02210403, -0.02011244]],\n",
       "\n",
       "       [[-0.00910099,  0.01446106,  0.02493895, ...,  0.00298769,\n",
       "          0.03198862, -0.02054293]]], dtype=float32)>>"
      ]
     },
     "metadata": {},
     "execution_count": 49
    }
   ],
   "source": [
    "model.variables[0].value"
   ]
  },
  {
   "cell_type": "code",
   "execution_count": 27,
   "metadata": {},
   "outputs": [
    {
     "output_type": "execute_result",
     "data": {
      "text/plain": [
       "<tensorflow.python.training.tracking.util.CheckpointLoadStatus at 0x7f927c8b9d30>"
      ]
     },
     "metadata": {},
     "execution_count": 27
    }
   ],
   "source": [
    "model.load_weights(\"dummy\")"
   ]
  },
  {
   "cell_type": "code",
   "execution_count": 44,
   "metadata": {},
   "outputs": [],
   "source": [
    "model.get_weights()[0] = tf.ones((10,1,512))"
   ]
  },
  {
   "cell_type": "code",
   "execution_count": 47,
   "metadata": {},
   "outputs": [
    {
     "output_type": "execute_result",
     "data": {
      "text/plain": [
       "array([[[ 0.03120919, -0.01594949,  0.02279448, ..., -0.02652317,\n",
       "         -0.02737866, -0.00334822]],\n",
       "\n",
       "       [[ 0.01261151, -0.02343632,  0.01583271, ...,  0.02090617,\n",
       "          0.02896192, -0.00599178]],\n",
       "\n",
       "       [[ 0.017125  ,  0.0146711 ,  0.00668287, ..., -0.01111716,\n",
       "          0.02802647,  0.01305397]],\n",
       "\n",
       "       ...,\n",
       "\n",
       "       [[ 0.02383802,  0.00751015,  0.02661301, ..., -0.01388671,\n",
       "         -0.02314447, -0.0341196 ]],\n",
       "\n",
       "       [[ 0.00730148,  0.0042468 , -0.0157556 , ..., -0.02352146,\n",
       "          0.02210403, -0.02011244]],\n",
       "\n",
       "       [[-0.00910099,  0.01446106,  0.02493895, ...,  0.00298769,\n",
       "          0.03198862, -0.02054293]]], dtype=float32)"
      ]
     },
     "metadata": {},
     "execution_count": 47
    }
   ],
   "source": [
    "model.get_weights()[0]"
   ]
  },
  {
   "cell_type": "code",
   "execution_count": 50,
   "metadata": {},
   "outputs": [
    {
     "output_type": "execute_result",
     "data": {
      "text/plain": [
       "[<tf.Variable 'wav2vec-ctc/wav2vec2/feature_extractor/conv_layers/0/conv/kernel:0' shape=(10, 1, 512) dtype=float32, numpy=\n",
       " array([[[ 0.03120919, -0.01594949,  0.02279448, ..., -0.02652317,\n",
       "          -0.02737866, -0.00334822]],\n",
       " \n",
       "        [[ 0.01261151, -0.02343632,  0.01583271, ...,  0.02090617,\n",
       "           0.02896192, -0.00599178]],\n",
       " \n",
       "        [[ 0.017125  ,  0.0146711 ,  0.00668287, ..., -0.01111716,\n",
       "           0.02802647,  0.01305397]],\n",
       " \n",
       "        ...,\n",
       " \n",
       "        [[ 0.02383802,  0.00751015,  0.02661301, ..., -0.01388671,\n",
       "          -0.02314447, -0.0341196 ]],\n",
       " \n",
       "        [[ 0.00730148,  0.0042468 , -0.0157556 , ..., -0.02352146,\n",
       "           0.02210403, -0.02011244]],\n",
       " \n",
       "        [[-0.00910099,  0.01446106,  0.02493895, ...,  0.00298769,\n",
       "           0.03198862, -0.02054293]]], dtype=float32)>,\n",
       " <tf.Variable 'wav2vec-ctc/wav2vec2/feature_extractor/conv_layers/0/layer_norm/gamma:0' shape=(512,) dtype=float32, numpy=\n",
       " array([1., 1., 1., 1., 1., 1., 1., 1., 1., 1., 1., 1., 1., 1., 1., 1., 1.,\n",
       "        1., 1., 1., 1., 1., 1., 1., 1., 1., 1., 1., 1., 1., 1., 1., 1., 1.,\n",
       "        1., 1., 1., 1., 1., 1., 1., 1., 1., 1., 1., 1., 1., 1., 1., 1., 1.,\n",
       "        1., 1., 1., 1., 1., 1., 1., 1., 1., 1., 1., 1., 1., 1., 1., 1., 1.,\n",
       "        1., 1., 1., 1., 1., 1., 1., 1., 1., 1., 1., 1., 1., 1., 1., 1., 1.,\n",
       "        1., 1., 1., 1., 1., 1., 1., 1., 1., 1., 1., 1., 1., 1., 1., 1., 1.,\n",
       "        1., 1., 1., 1., 1., 1., 1., 1., 1., 1., 1., 1., 1., 1., 1., 1., 1.,\n",
       "        1., 1., 1., 1., 1., 1., 1., 1., 1., 1., 1., 1., 1., 1., 1., 1., 1.,\n",
       "        1., 1., 1., 1., 1., 1., 1., 1., 1., 1., 1., 1., 1., 1., 1., 1., 1.,\n",
       "        1., 1., 1., 1., 1., 1., 1., 1., 1., 1., 1., 1., 1., 1., 1., 1., 1.,\n",
       "        1., 1., 1., 1., 1., 1., 1., 1., 1., 1., 1., 1., 1., 1., 1., 1., 1.,\n",
       "        1., 1., 1., 1., 1., 1., 1., 1., 1., 1., 1., 1., 1., 1., 1., 1., 1.,\n",
       "        1., 1., 1., 1., 1., 1., 1., 1., 1., 1., 1., 1., 1., 1., 1., 1., 1.,\n",
       "        1., 1., 1., 1., 1., 1., 1., 1., 1., 1., 1., 1., 1., 1., 1., 1., 1.,\n",
       "        1., 1., 1., 1., 1., 1., 1., 1., 1., 1., 1., 1., 1., 1., 1., 1., 1.,\n",
       "        1., 1., 1., 1., 1., 1., 1., 1., 1., 1., 1., 1., 1., 1., 1., 1., 1.,\n",
       "        1., 1., 1., 1., 1., 1., 1., 1., 1., 1., 1., 1., 1., 1., 1., 1., 1.,\n",
       "        1., 1., 1., 1., 1., 1., 1., 1., 1., 1., 1., 1., 1., 1., 1., 1., 1.,\n",
       "        1., 1., 1., 1., 1., 1., 1., 1., 1., 1., 1., 1., 1., 1., 1., 1., 1.,\n",
       "        1., 1., 1., 1., 1., 1., 1., 1., 1., 1., 1., 1., 1., 1., 1., 1., 1.,\n",
       "        1., 1., 1., 1., 1., 1., 1., 1., 1., 1., 1., 1., 1., 1., 1., 1., 1.,\n",
       "        1., 1., 1., 1., 1., 1., 1., 1., 1., 1., 1., 1., 1., 1., 1., 1., 1.,\n",
       "        1., 1., 1., 1., 1., 1., 1., 1., 1., 1., 1., 1., 1., 1., 1., 1., 1.,\n",
       "        1., 1., 1., 1., 1., 1., 1., 1., 1., 1., 1., 1., 1., 1., 1., 1., 1.,\n",
       "        1., 1., 1., 1., 1., 1., 1., 1., 1., 1., 1., 1., 1., 1., 1., 1., 1.,\n",
       "        1., 1., 1., 1., 1., 1., 1., 1., 1., 1., 1., 1., 1., 1., 1., 1., 1.,\n",
       "        1., 1., 1., 1., 1., 1., 1., 1., 1., 1., 1., 1., 1., 1., 1., 1., 1.,\n",
       "        1., 1., 1., 1., 1., 1., 1., 1., 1., 1., 1., 1., 1., 1., 1., 1., 1.,\n",
       "        1., 1., 1., 1., 1., 1., 1., 1., 1., 1., 1., 1., 1., 1., 1., 1., 1.,\n",
       "        1., 1., 1., 1., 1., 1., 1., 1., 1., 1., 1., 1., 1., 1., 1., 1., 1.,\n",
       "        1., 1.], dtype=float32)>]"
      ]
     },
     "metadata": {},
     "execution_count": 50
    }
   ],
   "source": [
    "model.variables[:2]"
   ]
  },
  {
   "cell_type": "code",
   "execution_count": 51,
   "metadata": {},
   "outputs": [],
   "source": [
    "model.load_weights(\"dummy.h5\")"
   ]
  },
  {
   "cell_type": "code",
   "execution_count": null,
   "metadata": {},
   "outputs": [],
   "source": []
  }
 ]
}