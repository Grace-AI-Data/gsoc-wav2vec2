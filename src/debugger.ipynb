{
 "metadata": {
  "language_info": {
   "codemirror_mode": {
    "name": "ipython",
    "version": 3
   },
   "file_extension": ".py",
   "mimetype": "text/x-python",
   "name": "python",
   "nbconvert_exporter": "python",
   "pygments_lexer": "ipython3",
   "version": "3.8.5"
  },
  "orig_nbformat": 2,
  "kernelspec": {
   "name": "python385jvsc74a57bd007c4df7ea0886a603057dcbd29d886eaa26a0122c4b0c39e2937eba8f7497417",
   "display_name": "Python 3.8.5 64-bit ('base': conda)"
  }
 },
 "nbformat": 4,
 "nbformat_minor": 2,
 "cells": [
  {
   "cell_type": "code",
   "execution_count": 1,
   "metadata": {},
   "outputs": [],
   "source": [
    "from wav2vec2 import Wav2Vec2Config, Wav2Vec2ForCTC\n",
    "from transformers import Wav2Vec2ForCTC as HFWav2Vec2ForCTC\n",
    "\n",
    "import tensorflow as tf\n",
    "import torch\n",
    "import numpy as np\n",
    "\n",
    "def get_difference(tf_out, hf_out):\n",
    "    return np.max(tf_out.numpy() - hf_out.numpy())"
   ]
  },
  {
   "cell_type": "code",
   "execution_count": 2,
   "metadata": {},
   "outputs": [
    {
     "output_type": "stream",
     "name": "stdout",
     "text": [
      "{'sample_rate': 16000}\n"
     ]
    },
    {
     "output_type": "execute_result",
     "data": {
      "text/plain": [
       "(<tf.Tensor: shape=(1, 41000), dtype=float32, numpy=\n",
       " array([[ 3.0517578e-05, -3.0517578e-05,  6.1035156e-05, ...,\n",
       "          5.4931641e-04,  7.9345703e-04,  8.2397461e-04]], dtype=float32)>,\n",
       " tensor([[ 3.0518e-05, -3.0518e-05,  6.1035e-05,  ...,  5.4932e-04,\n",
       "           7.9346e-04,  8.2397e-04]]))"
      ]
     },
     "metadata": {},
     "execution_count": 2
    }
   ],
   "source": [
    "# np.random.seed(0)\n",
    "# seqlen = 41000\n",
    "# array = np.random.rand(1*seqlen).reshape(1, seqlen)\n",
    "import soundfile as sf\n",
    "def fetch_audio(f):\n",
    "    audio, samplerate = sf.read(f)\n",
    "    print({\"sample_rate\": samplerate})\n",
    "    return audio[None, :41000]\n",
    "\n",
    "array = fetch_audio(\"../data/sample.wav\")\n",
    "\n",
    "batch = tf.convert_to_tensor(array, dtype=tf.float32)\n",
    "hf_batch = torch.from_numpy(array).float()\n",
    "\n",
    "batch, hf_batch"
   ]
  },
  {
   "cell_type": "code",
   "execution_count": 3,
   "metadata": {},
   "outputs": [
    {
     "output_type": "stream",
     "name": "stdout",
     "text": [
      "Loading weights locally from `wav2vec2-base-960h`\n",
      "Total number of loaded variables: 212\n"
     ]
    }
   ],
   "source": [
    "tf_model = Wav2Vec2ForCTC.from_pretrained(\"wav2vec2-base-960h\", input_shape=batch.shape)"
   ]
  },
  {
   "cell_type": "code",
   "execution_count": 4,
   "metadata": {},
   "outputs": [
    {
     "output_type": "stream",
     "name": "stderr",
     "text": [
      "Some weights of Wav2Vec2ForCTC were not initialized from the model checkpoint at facebook/wav2vec2-base-960h and are newly initialized: ['wav2vec2.masked_spec_embed']\nYou should probably TRAIN this model on a down-stream task to be able to use it for predictions and inference.\n"
     ]
    }
   ],
   "source": [
    "hf_model = HFWav2Vec2ForCTC.from_pretrained(\"facebook/wav2vec2-base-960h\")"
   ]
  },
  {
   "cell_type": "code",
   "execution_count": 5,
   "metadata": {},
   "outputs": [],
   "source": [
    "tf_out = tf_model(batch, training=False)[\"logits\"]"
   ]
  },
  {
   "cell_type": "code",
   "execution_count": 6,
   "metadata": {},
   "outputs": [],
   "source": [
    "with torch.no_grad():\n",
    "    hf_out = hf_model(hf_batch)[\"logits\"]"
   ]
  },
  {
   "cell_type": "code",
   "execution_count": 7,
   "metadata": {},
   "outputs": [
    {
     "output_type": "execute_result",
     "data": {
      "text/plain": [
       "(TensorShape([1, 127, 32]), torch.Size([1, 127, 32]))"
      ]
     },
     "metadata": {},
     "execution_count": 7
    }
   ],
   "source": [
    "tf_out.shape, hf_out.shape"
   ]
  },
  {
   "cell_type": "code",
   "execution_count": 8,
   "metadata": {},
   "outputs": [
    {
     "output_type": "stream",
     "name": "stdout",
     "text": [
      "difference in logits: 0.0013465881\n"
     ]
    }
   ],
   "source": [
    "print(\"difference in logits:\", get_difference(tf_out, hf_out))"
   ]
  },
  {
   "cell_type": "code",
   "execution_count": 9,
   "metadata": {},
   "outputs": [],
   "source": [
    "def tf_forward(*args, **kwargs):\n",
    "    return tf_model(*args, **kwargs)\n",
    "tf_forward = tf.function(tf_forward, autograph=True, jit_compile=True)"
   ]
  },
  {
   "cell_type": "code",
   "execution_count": 14,
   "metadata": {},
   "outputs": [],
   "source": [
    "tf_out = tf_forward(batch, training=False)[\"logits\"]"
   ]
  },
  {
   "cell_type": "code",
   "execution_count": 15,
   "metadata": {},
   "outputs": [
    {
     "output_type": "stream",
     "name": "stdout",
     "text": [
      "difference in graph based model logits: 0.0013968945\n"
     ]
    }
   ],
   "source": [
    "print(\"difference in graph based model logits:\", get_difference(tf_out, hf_out))"
   ]
  },
  {
   "cell_type": "code",
   "execution_count": null,
   "metadata": {},
   "outputs": [],
   "source": []
  }
 ]
}