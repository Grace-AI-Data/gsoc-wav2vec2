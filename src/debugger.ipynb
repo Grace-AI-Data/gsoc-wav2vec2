{
 "metadata": {
  "language_info": {
   "codemirror_mode": {
    "name": "ipython",
    "version": 3
   },
   "file_extension": ".py",
   "mimetype": "text/x-python",
   "name": "python",
   "nbconvert_exporter": "python",
   "pygments_lexer": "ipython3",
   "version": "3.8.5"
  },
  "orig_nbformat": 2,
  "kernelspec": {
   "name": "python385jvsc74a57bd007c4df7ea0886a603057dcbd29d886eaa26a0122c4b0c39e2937eba8f7497417",
   "display_name": "Python 3.8.5 64-bit ('base': conda)"
  }
 },
 "nbformat": 4,
 "nbformat_minor": 2,
 "cells": [
  {
   "cell_type": "code",
   "execution_count": 1,
   "metadata": {},
   "outputs": [],
   "source": [
    "from wav2vec2 import Wav2Vec2Config, Wav2Vec2ForCTC, Wav2Vec2Config\n",
    "from transformers import Wav2Vec2ForCTC as HFWav2Vec2ForCTC\n",
    "\n",
    "import tensorflow as tf\n",
    "import torch\n",
    "import numpy as np\n",
    "\n",
    "def get_difference(tf_out, hf_out):\n",
    "    return np.max(tf_out.numpy() - hf_out.numpy())"
   ]
  },
  {
   "cell_type": "code",
   "execution_count": 2,
   "metadata": {},
   "outputs": [
    {
     "output_type": "stream",
     "name": "stdout",
     "text": [
      "Loading weights locally from `wav2vec2-base-960h`\n",
      "Total number of loaded variables: 209\n"
     ]
    }
   ],
   "source": [
    "tf_model = Wav2Vec2ForCTC.from_pretrained(\"wav2vec2-base-960h\")"
   ]
  },
  {
   "cell_type": "code",
   "execution_count": 3,
   "metadata": {},
   "outputs": [
    {
     "output_type": "stream",
     "name": "stderr",
     "text": [
      "Some weights of Wav2Vec2ForCTC were not initialized from the model checkpoint at facebook/wav2vec2-base-960h and are newly initialized: ['wav2vec2.masked_spec_embed']\nYou should probably TRAIN this model on a down-stream task to be able to use it for predictions and inference.\n"
     ]
    }
   ],
   "source": [
    "hf_model = HFWav2Vec2ForCTC.from_pretrained(\"facebook/wav2vec2-base-960h\")"
   ]
  },
  {
   "cell_type": "code",
   "execution_count": 4,
   "metadata": {},
   "outputs": [
    {
     "output_type": "execute_result",
     "data": {
      "text/plain": [
       "(<tf.Tensor: shape=(1, 2048), dtype=float32, numpy=array([[685., 560., 630., ..., 824., 178.,  27.]], dtype=float32)>,\n",
       " tensor([[685., 560., 630.,  ..., 824., 178.,  27.]]))"
      ]
     },
     "metadata": {},
     "execution_count": 4
    }
   ],
   "source": [
    "np.random.seed(0)\n",
    "array = np.random.randint(1, 1000,  size=(1, 2048))\n",
    "\n",
    "batch = tf.convert_to_tensor(array, dtype=tf.float32)\n",
    "hf_batch = torch.from_numpy(array).float()\n",
    "\n",
    "batch, hf_batch"
   ]
  },
  {
   "cell_type": "code",
   "execution_count": 5,
   "metadata": {},
   "outputs": [],
   "source": [
    "tf_out = tf_model(batch, training=False)[\"logits\"]"
   ]
  },
  {
   "cell_type": "code",
   "execution_count": 6,
   "metadata": {},
   "outputs": [],
   "source": [
    "with torch.no_grad():\n",
    "    hf_out = hf_model(hf_batch)[\"logits\"]"
   ]
  },
  {
   "cell_type": "code",
   "execution_count": 7,
   "metadata": {},
   "outputs": [
    {
     "output_type": "execute_result",
     "data": {
      "text/plain": [
       "(TensorShape([1, 6, 32]), torch.Size([1, 6, 32]))"
      ]
     },
     "metadata": {},
     "execution_count": 7
    }
   ],
   "source": [
    "tf_out.shape, hf_out.shape"
   ]
  },
  {
   "cell_type": "code",
   "execution_count": 8,
   "metadata": {},
   "outputs": [
    {
     "output_type": "stream",
     "name": "stdout",
     "text": [
      "difference in logits: 2.9087067e-05\n"
     ]
    }
   ],
   "source": [
    "print(\"difference in logits:\", get_difference(tf_out, hf_out))"
   ]
  },
  {
   "cell_type": "code",
   "execution_count": null,
   "metadata": {},
   "outputs": [],
   "source": []
  }
 ]
}