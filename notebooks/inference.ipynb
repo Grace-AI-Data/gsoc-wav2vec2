{
 "metadata": {
  "language_info": {
   "codemirror_mode": {
    "name": "ipython",
    "version": 3
   },
   "file_extension": ".py",
   "mimetype": "text/x-python",
   "name": "python",
   "nbconvert_exporter": "python",
   "pygments_lexer": "ipython3",
   "version": "3.8.5"
  },
  "orig_nbformat": 2,
  "kernelspec": {
   "name": "python3",
   "display_name": "Python 3.8.5 64-bit ('base': conda)"
  },
  "interpreter": {
   "hash": "07c4df7ea0886a603057dcbd29d886eaa26a0122c4b0c39e2937eba8f7497417"
  }
 },
 "nbformat": 4,
 "nbformat_minor": 2,
 "cells": [
  {
   "cell_type": "code",
   "execution_count": 1,
   "metadata": {},
   "outputs": [],
   "source": [
    "import sys\n",
    "sys.path.extend([\"../src\"])"
   ]
  },
  {
   "cell_type": "code",
   "execution_count": 2,
   "metadata": {},
   "outputs": [],
   "source": [
    "from wav2vec2 import Wav2Vec2Processer, Wav2Vec2ForCTC\n",
    "import tensorflow as tf"
   ]
  },
  {
   "cell_type": "code",
   "execution_count": 3,
   "metadata": {},
   "outputs": [
    {
     "output_type": "stream",
     "name": "stdout",
     "text": [
      "Loading weights locally from `../wav2vec2-base-960h`\n",
      "Total number of loaded variables: 212\n"
     ]
    }
   ],
   "source": [
    "processor = Wav2Vec2Processer(is_tokenizer=False)\n",
    "tokenizer = Wav2Vec2Processer(is_tokenizer=True)\n",
    "model = Wav2Vec2ForCTC.from_pretrained(\"../wav2vec2-base-960h\")"
   ]
  },
  {
   "cell_type": "code",
   "execution_count": 9,
   "metadata": {},
   "outputs": [
    {
     "output_type": "execute_result",
     "data": {
      "text/plain": [
       "<tf.Tensor: shape=(1, 47104), dtype=float32, numpy=\n",
       "array([[ 0.0157561 , -0.00084304,  0.00100131, ...,  0.00284566,\n",
       "         0.00653435,  0.00284566]], dtype=float32)>"
      ]
     },
     "metadata": {},
     "execution_count": 9
    }
   ],
   "source": [
    "batch, _ = tf.audio.decode_wav(tf.io.read_file(\"../data/SA2.wav\"))\n",
    "batch = tf.transpose(batch, perm=(1, 0))\n",
    "batch = processor(batch)\n",
    "batch"
   ]
  },
  {
   "cell_type": "code",
   "execution_count": 10,
   "metadata": {},
   "outputs": [],
   "source": [
    "tf_out = model(batch)[\"logits\"]"
   ]
  },
  {
   "cell_type": "code",
   "execution_count": 11,
   "metadata": {},
   "outputs": [
    {
     "output_type": "execute_result",
     "data": {
      "text/plain": [
       "TensorShape([1, 146, 32])"
      ]
     },
     "metadata": {},
     "execution_count": 11
    }
   ],
   "source": [
    "tf_out.shape"
   ]
  },
  {
   "cell_type": "code",
   "execution_count": 12,
   "metadata": {},
   "outputs": [
    {
     "output_type": "execute_result",
     "data": {
      "text/plain": [
       "\"DON'T ASK ME TO CARRY AN OILY RAG LIKE THAT\""
      ]
     },
     "metadata": {},
     "execution_count": 12
    }
   ],
   "source": [
    "tf_out = tf.squeeze(tf.argmax(tf_out, axis=-1)).numpy()\n",
    "tokenizer.decode(tf_out.tolist())"
   ]
  },
  {
   "cell_type": "code",
   "execution_count": null,
   "metadata": {},
   "outputs": [],
   "source": []
  }
 ]
}