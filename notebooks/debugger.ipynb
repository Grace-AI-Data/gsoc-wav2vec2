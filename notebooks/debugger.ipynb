{
 "metadata": {
  "language_info": {
   "codemirror_mode": {
    "name": "ipython",
    "version": 3
   },
   "file_extension": ".py",
   "mimetype": "text/x-python",
   "name": "python",
   "nbconvert_exporter": "python",
   "pygments_lexer": "ipython3",
   "version": "3.8.5"
  },
  "orig_nbformat": 2,
  "kernelspec": {
   "name": "python385jvsc74a57bd007c4df7ea0886a603057dcbd29d886eaa26a0122c4b0c39e2937eba8f7497417",
   "display_name": "Python 3.8.5 64-bit ('base': conda)"
  }
 },
 "nbformat": 4,
 "nbformat_minor": 2,
 "cells": [
  {
   "cell_type": "code",
   "execution_count": 1,
   "metadata": {},
   "outputs": [],
   "source": [
    "import sys\n",
    "sys.path.append(\"../src\")"
   ]
  },
  {
   "cell_type": "code",
   "execution_count": 2,
   "metadata": {},
   "outputs": [],
   "source": [
    "from wav2vec2 import Wav2Vec2Config, Wav2Vec2ForCTC, Wav2Vec2Processer\n",
    "from transformers import Wav2Vec2ForCTC as HFWav2Vec2ForCTC\n",
    "\n",
    "import tensorflow as tf\n",
    "import torch\n",
    "import numpy as np\n",
    "\n",
    "def get_difference(tf_out, hf_out):\n",
    "    return np.max(tf_out.numpy() - hf_out.numpy())"
   ]
  },
  {
   "cell_type": "code",
   "execution_count": 3,
   "metadata": {},
   "outputs": [
    {
     "output_type": "execute_result",
     "data": {
      "text/plain": [
       "(<tf.Tensor: shape=(2, 46797), dtype=float32, numpy=\n",
       " array([[ 0.00455413, -0.00263517,  0.00814878, ..., -0.00263517,\n",
       "         -0.01701376, -0.02779771],\n",
       "        [ 0.00455413, -0.00263517,  0.00814878, ..., -0.00263517,\n",
       "         -0.01701376, -0.02779771]], dtype=float32)>,\n",
       " tensor([[ 0.0046, -0.0026,  0.0081,  ..., -0.0026, -0.0170, -0.0278],\n",
       "         [ 0.0046, -0.0026,  0.0081,  ..., -0.0026, -0.0170, -0.0278]]))"
      ]
     },
     "metadata": {},
     "execution_count": 3
    }
   ],
   "source": [
    "batch, _ = tf.audio.decode_wav(tf.io.read_file(\"../data/sample.wav\"))\n",
    "processor = Wav2Vec2Processer(is_tokenizer=False)\n",
    "batch = tf.transpose(batch, perm=(1, 0))\n",
    "\n",
    "batch = tf.concat([batch, batch], axis=0)\n",
    "\n",
    "batch = processor(batch)\n",
    "hf_batch = torch.from_numpy(batch.numpy()).float()\n",
    "\n",
    "batch, hf_batch"
   ]
  },
  {
   "cell_type": "code",
   "execution_count": 4,
   "metadata": {},
   "outputs": [
    {
     "output_type": "stream",
     "name": "stdout",
     "text": [
      "Loading weights locally from `/Users/vasudevgupta/Local/wav2vec2/wav2vec2-base-960h`\n",
      "Total number of loaded variables: 212\n"
     ]
    }
   ],
   "source": [
    "tf_model = Wav2Vec2ForCTC.from_pretrained(\"/Users/vasudevgupta/Local/wav2vec2/wav2vec2-base-960h\", input_shape=batch.shape)"
   ]
  },
  {
   "cell_type": "code",
   "execution_count": 5,
   "metadata": {},
   "outputs": [
    {
     "output_type": "stream",
     "name": "stderr",
     "text": [
      "Some weights of Wav2Vec2ForCTC were not initialized from the model checkpoint at facebook/wav2vec2-base-960h and are newly initialized: ['wav2vec2.masked_spec_embed']\nYou should probably TRAIN this model on a down-stream task to be able to use it for predictions and inference.\n"
     ]
    }
   ],
   "source": [
    "hf_model = HFWav2Vec2ForCTC.from_pretrained(\"facebook/wav2vec2-base-960h\")"
   ]
  },
  {
   "cell_type": "code",
   "execution_count": 6,
   "metadata": {},
   "outputs": [],
   "source": [
    "tf_out = tf_model(batch, training=False)[\"logits\"]"
   ]
  },
  {
   "cell_type": "code",
   "execution_count": 7,
   "metadata": {},
   "outputs": [],
   "source": [
    "with torch.no_grad():\n",
    "    hf_out = hf_model(hf_batch)[\"logits\"]"
   ]
  },
  {
   "cell_type": "code",
   "execution_count": 8,
   "metadata": {},
   "outputs": [
    {
     "output_type": "execute_result",
     "data": {
      "text/plain": [
       "(TensorShape([2, 145, 32]), torch.Size([2, 145, 32]))"
      ]
     },
     "metadata": {},
     "execution_count": 8
    }
   ],
   "source": [
    "tf_out.shape, hf_out.shape"
   ]
  },
  {
   "cell_type": "code",
   "execution_count": 9,
   "metadata": {},
   "outputs": [
    {
     "output_type": "stream",
     "name": "stdout",
     "text": [
      "difference in logits: 0.003186226\n"
     ]
    }
   ],
   "source": [
    "print(\"difference in logits:\", get_difference(tf_out, hf_out))"
   ]
  },
  {
   "cell_type": "code",
   "execution_count": 10,
   "metadata": {},
   "outputs": [],
   "source": [
    "def tf_forward(*args, **kwargs):\n",
    "    return tf_model(*args, **kwargs)\n",
    "tf_forward = tf.function(tf_forward, autograph=True, jit_compile=True)"
   ]
  },
  {
   "cell_type": "code",
   "execution_count": 16,
   "metadata": {},
   "outputs": [],
   "source": [
    "tf_out = tf_forward(batch, training=False)[\"logits\"]"
   ]
  },
  {
   "cell_type": "code",
   "execution_count": 17,
   "metadata": {},
   "outputs": [
    {
     "output_type": "stream",
     "name": "stdout",
     "text": [
      "difference in graph based model logits: 0.0023155212\n"
     ]
    }
   ],
   "source": [
    "print(\"difference in graph based model logits:\", get_difference(tf_out, hf_out))"
   ]
  },
  {
   "cell_type": "code",
   "execution_count": 5,
   "metadata": {},
   "outputs": [
    {
     "output_type": "stream",
     "name": "stderr",
     "text": [
      "WARNING:absl:Found untraced functions such as layer_norm_layer_call_fn, layer_norm_layer_call_and_return_conditional_losses, projection_layer_call_fn, projection_layer_call_and_return_conditional_losses, dropout_layer_call_fn while saving (showing 5 of 795). These functions will not be directly callable after loading.\n",
      "WARNING:tensorflow:FOR KERAS USERS: The object that you are saving contains one or more Keras models or layers. If you are loading the SavedModel with `tf.keras.models.load_model`, continue reading (otherwise, you may ignore the following instructions). Please change your code to save with `tf.keras.models.save_model` or `model.save`, and confirm that the file \"keras.metadata\" exists in the export directory. In the future, Keras will only load the SavedModels that have this file. In other words, `tf.saved_model.save` will no longer write SavedModels that can be recovered as Keras models (this will apply in TF 2.5).\n",
      "\n",
      "FOR DEVS: If you are overwriting _tracking_metadata in your class, this property has been used to save metadata in the SavedModel. The metadta field will be deprecated soon, so please move the metadata to a different file.\n",
      "WARNING:tensorflow:FOR KERAS USERS: The object that you are saving contains one or more Keras models or layers. If you are loading the SavedModel with `tf.keras.models.load_model`, continue reading (otherwise, you may ignore the following instructions). Please change your code to save with `tf.keras.models.save_model` or `model.save`, and confirm that the file \"keras.metadata\" exists in the export directory. In the future, Keras will only load the SavedModels that have this file. In other words, `tf.saved_model.save` will no longer write SavedModels that can be recovered as Keras models (this will apply in TF 2.5).\n",
      "\n",
      "FOR DEVS: If you are overwriting _tracking_metadata in your class, this property has been used to save metadata in the SavedModel. The metadta field will be deprecated soon, so please move the metadata to a different file.\n",
      "INFO:tensorflow:Assets written to: dummy/assets\n",
      "INFO:tensorflow:Assets written to: dummy/assets\n"
     ]
    }
   ],
   "source": [
    "tf.saved_model.save(tf_model, \"dummy\")"
   ]
  },
  {
   "cell_type": "code",
   "execution_count": 7,
   "metadata": {},
   "outputs": [],
   "source": [
    "model = tf.saved_model.load(\"dummy\")"
   ]
  },
  {
   "cell_type": "code",
   "execution_count": 9,
   "metadata": {},
   "outputs": [],
   "source": [
    "@tf.function(autograph=True, jit_compile=True)\n",
    "def tf_foward(*args, **kwargs):\n",
    "    return model(*args, **kwargs)"
   ]
  },
  {
   "cell_type": "code",
   "execution_count": 10,
   "metadata": {},
   "outputs": [
    {
     "output_type": "execute_result",
     "data": {
      "text/plain": [
       "{'logits': <tf.Tensor: shape=(2, 145, 32), dtype=float32, numpy=\n",
       " array([[[ 13.001484 , -26.905651 , -26.621664 , ...,  -6.4049616,\n",
       "           -8.698974 ,  -7.6948757],\n",
       "         [ 13.019491 , -26.890331 , -26.60231  , ...,  -6.399632 ,\n",
       "           -8.719545 ,  -7.7269363],\n",
       "         [ 13.018565 , -26.89125  , -26.603218 , ...,  -6.4000196,\n",
       "           -8.720039 ,  -7.727183 ],\n",
       "         ...,\n",
       "         [ 13.018611 , -26.891388 , -26.603424 , ...,  -6.399854 ,\n",
       "           -8.719286 ,  -7.728012 ],\n",
       "         [ 13.016644 , -26.893538 , -26.605778 , ...,  -6.3998675,\n",
       "           -8.715607 ,  -7.730587 ],\n",
       "         [ 13.01872  , -26.890413 , -26.602463 , ...,  -6.399314 ,\n",
       "           -8.718278 ,  -7.7274504]],\n",
       " \n",
       "        [[ 13.001543 , -26.905685 , -26.6217   , ...,  -6.4050837,\n",
       "           -8.699371 ,  -7.6951613],\n",
       "         [ 13.0193405, -26.8908   , -26.60276  , ...,  -6.3998156,\n",
       "           -8.72005  ,  -7.7267733],\n",
       "         [ 13.018505 , -26.890938 , -26.602905 , ...,  -6.3999214,\n",
       "           -8.720138 ,  -7.7269917],\n",
       "         ...,\n",
       "         [ 13.018653 , -26.890934 , -26.602974 , ...,  -6.3997145,\n",
       "           -8.719246 ,  -7.7279034],\n",
       "         [ 13.016923 , -26.892216 , -26.60448  , ...,  -6.3998756,\n",
       "           -8.714289 ,  -7.730713 ],\n",
       "         [ 13.018705 , -26.889725 , -26.601788 , ...,  -6.3989687,\n",
       "           -8.717884 ,  -7.7273545]]], dtype=float32)>}"
      ]
     },
     "metadata": {},
     "execution_count": 10
    }
   ],
   "source": [
    "tf_foward(batch)"
   ]
  },
  {
   "cell_type": "code",
   "execution_count": null,
   "metadata": {},
   "outputs": [],
   "source": []
  }
 ]
}