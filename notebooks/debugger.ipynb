{
 "metadata": {
  "language_info": {
   "codemirror_mode": {
    "name": "ipython",
    "version": 3
   },
   "file_extension": ".py",
   "mimetype": "text/x-python",
   "name": "python",
   "nbconvert_exporter": "python",
   "pygments_lexer": "ipython3",
   "version": "3.8.10"
  },
  "orig_nbformat": 2,
  "kernelspec": {
   "name": "python3",
   "display_name": "Python 3.8.10 64-bit ('t5': conda)"
  },
  "interpreter": {
   "hash": "184c0bf4d405d4a36e719b504ff2a22c838d19108535bf816dff1a5aad495b87"
  }
 },
 "nbformat": 4,
 "nbformat_minor": 2,
 "cells": [
  {
   "cell_type": "code",
   "execution_count": 1,
   "metadata": {},
   "outputs": [],
   "source": [
    "import sys\n",
    "sys.path.append(\"../src\")"
   ]
  },
  {
   "cell_type": "code",
   "execution_count": 2,
   "metadata": {},
   "outputs": [],
   "source": [
    "from wav2vec2 import Wav2Vec2Config, Wav2Vec2ForCTC, Wav2Vec2Processer\n",
    "from transformers import Wav2Vec2ForCTC as HFWav2Vec2ForCTC\n",
    "\n",
    "import tensorflow as tf\n",
    "import torch\n",
    "import numpy as np\n",
    "\n",
    "def get_difference(tf_out, hf_out):\n",
    "    return np.max(tf_out.numpy() - hf_out.numpy())"
   ]
  },
  {
   "cell_type": "code",
   "execution_count": 3,
   "metadata": {},
   "outputs": [
    {
     "output_type": "execute_result",
     "data": {
      "text/plain": [
       "(<tf.Tensor: shape=(2, 46797), dtype=float32, numpy=\n",
       " array([[ 0.00455413, -0.00263517,  0.00814878, ..., -0.00263517,\n",
       "         -0.01701376, -0.02779771],\n",
       "        [ 0.00455413, -0.00263517,  0.00814878, ..., -0.00263517,\n",
       "         -0.01701376, -0.02779771]], dtype=float32)>,\n",
       " tensor([[ 0.0046, -0.0026,  0.0081,  ..., -0.0026, -0.0170, -0.0278],\n",
       "         [ 0.0046, -0.0026,  0.0081,  ..., -0.0026, -0.0170, -0.0278]]))"
      ]
     },
     "metadata": {},
     "execution_count": 3
    }
   ],
   "source": [
    "batch, _ = tf.audio.decode_wav(tf.io.read_file(\"../data/sample.wav\"))\n",
    "processor = Wav2Vec2Processer(is_tokenizer=False)\n",
    "batch = tf.transpose(batch, perm=(1, 0))\n",
    "\n",
    "batch = tf.concat([batch, batch], axis=0)\n",
    "\n",
    "batch = processor(batch)\n",
    "hf_batch = torch.from_numpy(batch.numpy()).float()\n",
    "\n",
    "batch, hf_batch"
   ]
  },
  {
   "cell_type": "code",
   "execution_count": 4,
   "metadata": {},
   "outputs": [
    {
     "output_type": "stream",
     "name": "stdout",
     "text": [
      "Loading weights locally from `/Users/vasudevgupta/Local/wav2vec2/wav2vec2-base-960h`\n",
      "Total number of loaded variables: 212\n"
     ]
    }
   ],
   "source": [
    "tf_model = Wav2Vec2ForCTC.from_pretrained(\"/Users/vasudevgupta/Local/wav2vec2/wav2vec2-base-960h\", input_shape=batch.shape)"
   ]
  },
  {
   "cell_type": "code",
   "execution_count": 5,
   "metadata": {},
   "outputs": [
    {
     "output_type": "stream",
     "name": "stderr",
     "text": [
      "Some weights of Wav2Vec2ForCTC were not initialized from the model checkpoint at facebook/wav2vec2-base-960h and are newly initialized: ['wav2vec2.masked_spec_embed']\nYou should probably TRAIN this model on a down-stream task to be able to use it for predictions and inference.\n"
     ]
    }
   ],
   "source": [
    "hf_model = HFWav2Vec2ForCTC.from_pretrained(\"facebook/wav2vec2-base-960h\")"
   ]
  },
  {
   "cell_type": "code",
   "execution_count": 6,
   "metadata": {},
   "outputs": [],
   "source": [
    "tf_out = tf_model(batch, training=False)[\"logits\"]"
   ]
  },
  {
   "cell_type": "code",
   "execution_count": 7,
   "metadata": {},
   "outputs": [],
   "source": [
    "with torch.no_grad():\n",
    "    hf_out = hf_model(hf_batch)[\"logits\"]"
   ]
  },
  {
   "cell_type": "code",
   "execution_count": 8,
   "metadata": {},
   "outputs": [
    {
     "output_type": "execute_result",
     "data": {
      "text/plain": [
       "(TensorShape([2, 145, 32]), torch.Size([2, 145, 32]))"
      ]
     },
     "metadata": {},
     "execution_count": 8
    }
   ],
   "source": [
    "tf_out.shape, hf_out.shape"
   ]
  },
  {
   "cell_type": "code",
   "execution_count": 9,
   "metadata": {},
   "outputs": [
    {
     "output_type": "stream",
     "name": "stdout",
     "text": [
      "difference in logits: 0.003186226\n"
     ]
    }
   ],
   "source": [
    "print(\"difference in logits:\", get_difference(tf_out, hf_out))"
   ]
  },
  {
   "cell_type": "code",
   "execution_count": 10,
   "metadata": {},
   "outputs": [],
   "source": [
    "def tf_forward(*args, **kwargs):\n",
    "    return tf_model(*args, **kwargs)\n",
    "tf_forward = tf.function(tf_forward, autograph=True, jit_compile=True)"
   ]
  },
  {
   "cell_type": "code",
   "execution_count": 16,
   "metadata": {},
   "outputs": [],
   "source": [
    "tf_out = tf_forward(batch, training=False)[\"logits\"]"
   ]
  },
  {
   "cell_type": "code",
   "execution_count": 17,
   "metadata": {},
   "outputs": [
    {
     "output_type": "stream",
     "name": "stdout",
     "text": [
      "difference in graph based model logits: 0.0023155212\n"
     ]
    }
   ],
   "source": [
    "print(\"difference in graph based model logits:\", get_difference(tf_out, hf_out))"
   ]
  },
  {
   "cell_type": "code",
   "execution_count": 5,
   "metadata": {},
   "outputs": [
    {
     "output_type": "stream",
     "name": "stderr",
     "text": [
      "WARNING:absl:Found untraced functions such as layer_norm_layer_call_fn, layer_norm_layer_call_and_return_conditional_losses, projection_layer_call_fn, projection_layer_call_and_return_conditional_losses, dropout_layer_call_fn while saving (showing 5 of 795). These functions will not be directly callable after loading.\n",
      "WARNING:tensorflow:FOR KERAS USERS: The object that you are saving contains one or more Keras models or layers. If you are loading the SavedModel with `tf.keras.models.load_model`, continue reading (otherwise, you may ignore the following instructions). Please change your code to save with `tf.keras.models.save_model` or `model.save`, and confirm that the file \"keras.metadata\" exists in the export directory. In the future, Keras will only load the SavedModels that have this file. In other words, `tf.saved_model.save` will no longer write SavedModels that can be recovered as Keras models (this will apply in TF 2.5).\n",
      "\n",
      "FOR DEVS: If you are overwriting _tracking_metadata in your class, this property has been used to save metadata in the SavedModel. The metadta field will be deprecated soon, so please move the metadata to a different file.\n",
      "WARNING:tensorflow:FOR KERAS USERS: The object that you are saving contains one or more Keras models or layers. If you are loading the SavedModel with `tf.keras.models.load_model`, continue reading (otherwise, you may ignore the following instructions). Please change your code to save with `tf.keras.models.save_model` or `model.save`, and confirm that the file \"keras.metadata\" exists in the export directory. In the future, Keras will only load the SavedModels that have this file. In other words, `tf.saved_model.save` will no longer write SavedModels that can be recovered as Keras models (this will apply in TF 2.5).\n",
      "\n",
      "FOR DEVS: If you are overwriting _tracking_metadata in your class, this property has been used to save metadata in the SavedModel. The metadta field will be deprecated soon, so please move the metadata to a different file.\n",
      "INFO:tensorflow:Assets written to: dummy/assets\n",
      "INFO:tensorflow:Assets written to: dummy/assets\n"
     ]
    }
   ],
   "source": [
    "tf.saved_model.save(tf_model, \"dummy\")"
   ]
  },
  {
   "cell_type": "code",
   "execution_count": 7,
   "metadata": {},
   "outputs": [],
   "source": [
    "model = tf.saved_model.load(\"dummy\")"
   ]
  },
  {
   "cell_type": "code",
   "execution_count": 9,
   "metadata": {},
   "outputs": [],
   "source": [
    "@tf.function(autograph=True, jit_compile=True)\n",
    "def tf_foward(*args, **kwargs):\n",
    "    return model(*args, **kwargs)"
   ]
  },
  {
   "cell_type": "code",
   "execution_count": 10,
   "metadata": {},
   "outputs": [
    {
     "output_type": "execute_result",
     "data": {
      "text/plain": [
       "{'logits': <tf.Tensor: shape=(2, 145, 32), dtype=float32, numpy=\n",
       " array([[[ 13.001484 , -26.905651 , -26.621664 , ...,  -6.4049616,\n",
       "           -8.698974 ,  -7.6948757],\n",
       "         [ 13.019491 , -26.890331 , -26.60231  , ...,  -6.399632 ,\n",
       "           -8.719545 ,  -7.7269363],\n",
       "         [ 13.018565 , -26.89125  , -26.603218 , ...,  -6.4000196,\n",
       "           -8.720039 ,  -7.727183 ],\n",
       "         ...,\n",
       "         [ 13.018611 , -26.891388 , -26.603424 , ...,  -6.399854 ,\n",
       "           -8.719286 ,  -7.728012 ],\n",
       "         [ 13.016644 , -26.893538 , -26.605778 , ...,  -6.3998675,\n",
       "           -8.715607 ,  -7.730587 ],\n",
       "         [ 13.01872  , -26.890413 , -26.602463 , ...,  -6.399314 ,\n",
       "           -8.718278 ,  -7.7274504]],\n",
       " \n",
       "        [[ 13.001543 , -26.905685 , -26.6217   , ...,  -6.4050837,\n",
       "           -8.699371 ,  -7.6951613],\n",
       "         [ 13.0193405, -26.8908   , -26.60276  , ...,  -6.3998156,\n",
       "           -8.72005  ,  -7.7267733],\n",
       "         [ 13.018505 , -26.890938 , -26.602905 , ...,  -6.3999214,\n",
       "           -8.720138 ,  -7.7269917],\n",
       "         ...,\n",
       "         [ 13.018653 , -26.890934 , -26.602974 , ...,  -6.3997145,\n",
       "           -8.719246 ,  -7.7279034],\n",
       "         [ 13.016923 , -26.892216 , -26.60448  , ...,  -6.3998756,\n",
       "           -8.714289 ,  -7.730713 ],\n",
       "         [ 13.018705 , -26.889725 , -26.601788 , ...,  -6.3989687,\n",
       "           -8.717884 ,  -7.7273545]]], dtype=float32)>}"
      ]
     },
     "metadata": {},
     "execution_count": 10
    }
   ],
   "source": [
    "tf_foward(batch)"
   ]
  },
  {
   "cell_type": "code",
   "execution_count": 1,
   "metadata": {},
   "outputs": [],
   "source": [
    "import sys\n",
    "sys.path.append(\"../src\")\n",
    "\n",
    "from wav2vec2.tensorflow_addons import Conv1DWithWeightNorm\n",
    "import torch.nn as nn\n",
    "import tensorflow as tf\n",
    "import numpy as np\n",
    "import torch"
   ]
  },
  {
   "cell_type": "code",
   "execution_count": 2,
   "metadata": {},
   "outputs": [
    {
     "output_type": "execute_result",
     "data": {
      "text/plain": [
       "(TensorShape([2, 128, 32]), torch.Size([2, 32, 128]))"
      ]
     },
     "metadata": {},
     "execution_count": 2
    }
   ],
   "source": [
    "bsz = 2\n",
    "seqlen = 128\n",
    "c_in = 32\n",
    "\n",
    "array = np.random.uniform(size=(bsz, seqlen, c_in))\n",
    "torch_tensor = torch.from_numpy(array.reshape(bsz, c_in, seqlen)).float()\n",
    "tf_tensor = tf.convert_to_tensor(array, dtype=tf.float32)\n",
    "\n",
    "tf_tensor"
   ]
  },
  {
   "cell_type": "code",
   "execution_count": 14,
   "metadata": {},
   "outputs": [],
   "source": [
    "filters = 32\n",
    "kernal_size = 3\n",
    "padding = 1\n",
    "num_groups = 2\n",
    "\n",
    "tf_layer = Conv1DWithWeightNorm(filters, kernal_size, padding=padding, groups=num_groups)\n",
    "\n",
    "torch_layer = nn.Conv1d(c_in, filters, kernal_size, padding=padding, groups=num_groups)\n",
    "torch_layer = nn.utils.weight_norm(torch_layer, dim=2)"
   ]
  },
  {
   "cell_type": "code",
   "execution_count": 16,
   "metadata": {},
   "outputs": [
    {
     "output_type": "execute_result",
     "data": {
      "text/plain": [
       "(torch.Size([32, 16, 3]), TensorShape([3, 16, 32]))"
      ]
     },
     "metadata": {},
     "execution_count": 16
    }
   ],
   "source": [
    "torch_layer.weight_v.data = torch.tensor(np.transpose(tf_layer.variables[1].numpy(), axes=(2, 1, 0)))\n",
    "torch_layer.weight_v.shape, tf_layer.variables[1].shape"
   ]
  },
  {
   "cell_type": "code",
   "execution_count": 17,
   "metadata": {},
   "outputs": [
    {
     "output_type": "execute_result",
     "data": {
      "text/plain": [
       "(torch.Size([32]), TensorShape([32]))"
      ]
     },
     "metadata": {},
     "execution_count": 17
    }
   ],
   "source": [
    "torch_layer.bias.data = torch.tensor(tf_layer.variables[0].numpy())\n",
    "torch_layer.bias.shape, tf_layer.variables[0].shape"
   ]
  },
  {
   "cell_type": "code",
   "execution_count": 18,
   "metadata": {},
   "outputs": [
    {
     "output_type": "execute_result",
     "data": {
      "text/plain": [
       "(torch.Size([1, 1, 3]), TensorShape([3, 1, 1]))"
      ]
     },
     "metadata": {},
     "execution_count": 18
    }
   ],
   "source": [
    "torch_layer.weight_g.data = torch.tensor(np.transpose(tf_layer.variables[2].numpy(), axes=(2, 1, 0)))\n",
    "torch_layer.weight_g.shape, tf_layer.variables[2].shape"
   ]
  },
  {
   "cell_type": "code",
   "execution_count": 26,
   "metadata": {},
   "outputs": [
    {
     "output_type": "execute_result",
     "data": {
      "text/plain": [
       "0.0"
      ]
     },
     "metadata": {},
     "execution_count": 26
    }
   ],
   "source": [
    "np.max(torch_layer.weight_v.data.numpy() - np.transpose(tf_layer.variables[1].numpy(), axes=(2, 1, 0)))"
   ]
  },
  {
   "cell_type": "code",
   "execution_count": 27,
   "metadata": {},
   "outputs": [
    {
     "output_type": "execute_result",
     "data": {
      "text/plain": [
       "0.0"
      ]
     },
     "metadata": {},
     "execution_count": 27
    }
   ],
   "source": [
    "np.max(torch_layer.weight_g.data.numpy() - np.transpose(tf_layer.variables[2].numpy(), axes=(2, 1, 0)))"
   ]
  },
  {
   "cell_type": "code",
   "execution_count": 29,
   "metadata": {},
   "outputs": [
    {
     "output_type": "execute_result",
     "data": {
      "text/plain": [
       "0.0"
      ]
     },
     "metadata": {},
     "execution_count": 29
    }
   ],
   "source": [
    "np.max(torch_layer.bias.data.numpy() - tf_layer.variables[0].numpy())"
   ]
  },
  {
   "cell_type": "code",
   "execution_count": 19,
   "metadata": {},
   "outputs": [
    {
     "output_type": "execute_result",
     "data": {
      "text/plain": [
       "tensor([[[ 0.1787,  0.7230,  0.5517,  ...,  0.7510,  0.7255,  0.6659],\n",
       "         [ 0.7125,  0.6189,  1.0440,  ...,  0.6942,  0.6147,  0.9643],\n",
       "         [ 1.2329,  0.8827,  0.4978,  ...,  0.6464,  0.4920,  0.7446],\n",
       "         ...,\n",
       "         [-0.0707,  0.0908,  0.4706,  ..., -0.1495,  0.2757,  0.4261],\n",
       "         [-0.0257,  0.1898, -0.0582,  ..., -0.3518,  0.1397,  0.0668],\n",
       "         [ 0.0838, -0.0829, -0.1598,  ...,  0.0656,  0.3036,  0.0909]],\n",
       "\n",
       "        [[ 0.1115,  0.3418,  0.8315,  ...,  0.7629,  0.9815,  1.0269],\n",
       "         [ 1.0417,  0.8232,  0.9397,  ...,  1.0665,  0.7630,  0.4970],\n",
       "         [ 0.9158,  0.8062,  0.6307,  ...,  0.9875,  0.5777,  0.8125],\n",
       "         ...,\n",
       "         [ 0.7536, -0.0471,  0.2242,  ..., -0.0166,  0.3181, -0.1743],\n",
       "         [ 0.3607, -0.1040,  0.1540,  ..., -0.2781, -0.3233,  0.0557],\n",
       "         [ 0.3777,  0.2054,  0.2909,  ..., -0.0480,  0.3015, -0.2903]]],\n",
       "       grad_fn=<ViewBackward>)"
      ]
     },
     "metadata": {},
     "execution_count": 19
    }
   ],
   "source": [
    "torch_layer(torch_tensor).reshape(bsz, seqlen, filters)"
   ]
  },
  {
   "cell_type": "code",
   "execution_count": 20,
   "metadata": {},
   "outputs": [
    {
     "output_type": "execute_result",
     "data": {
      "text/plain": [
       "<tf.Tensor: shape=(2, 128, 32), dtype=float32, numpy=\n",
       "array([[[ 0.25438696,  0.28840485, -0.23035572, ...,  0.63323516,\n",
       "         -0.43268305,  0.04219631],\n",
       "        [ 0.3234304 ,  0.01674652, -0.1909513 , ...,  0.19587451,\n",
       "         -0.26870194,  0.08470433],\n",
       "        [ 0.70794016,  0.40538904,  0.13454597, ...,  0.31508467,\n",
       "         -0.75723   ,  0.5067508 ],\n",
       "        ...,\n",
       "        [ 0.93924737,  0.50122154,  0.07898648, ...,  0.6624937 ,\n",
       "         -0.2068775 , -0.15866959],\n",
       "        [ 0.7211016 ,  0.3214118 ,  0.06242212, ...,  0.47061378,\n",
       "         -0.6939048 ,  0.1447068 ],\n",
       "        [ 0.8113076 , -0.13959275, -0.25087345, ...,  0.30376172,\n",
       "          0.09948477, -0.11622235]],\n",
       "\n",
       "       [[ 0.16744787,  0.64003223, -0.0977418 , ...,  0.47504246,\n",
       "         -0.33441946, -0.16122884],\n",
       "        [ 0.55097157,  0.13681547, -0.44116858, ...,  0.744997  ,\n",
       "         -0.5349021 ,  0.05508609],\n",
       "        [ 1.066014  ,  0.24528717, -0.07021946, ...,  0.33745512,\n",
       "         -0.11795261,  0.10919161],\n",
       "        ...,\n",
       "        [ 0.9301696 ,  0.24758613, -0.23865208, ...,  0.48085976,\n",
       "          0.10597383,  0.18914594],\n",
       "        [ 0.56083846, -0.26234484,  0.25217402, ...,  0.7742915 ,\n",
       "         -0.5182933 , -0.14079857],\n",
       "        [ 0.3918668 , -0.31829068, -0.00725409, ...,  0.27939314,\n",
       "         -0.25599393,  0.15251498]]], dtype=float32)>"
      ]
     },
     "metadata": {},
     "execution_count": 20
    }
   ],
   "source": [
    "tf_layer(tf_tensor)"
   ]
  },
  {
   "cell_type": "code",
   "execution_count": null,
   "metadata": {},
   "outputs": [],
   "source": []
  }
 ]
}