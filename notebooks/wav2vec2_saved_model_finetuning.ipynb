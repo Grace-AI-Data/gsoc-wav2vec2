{
  "nbformat": 4,
  "nbformat_minor": 0,
  "metadata": {
    "language_info": {
      "codemirror_mode": {
        "name": "ipython",
        "version": 3
      },
      "file_extension": ".py",
      "mimetype": "text/x-python",
      "name": "python",
      "nbconvert_exporter": "python",
      "pygments_lexer": "ipython3",
      "version": "3.8.10"
    },
    "orig_nbformat": 4,
    "kernelspec": {
      "name": "python3",
      "display_name": "Python 3.8.10 64-bit ('t5': conda)"
    },
    "interpreter": {
      "hash": "184c0bf4d405d4a36e719b504ff2a22c838d19108535bf816dff1a5aad495b87"
    },
    "colab": {
      "name": "wav2vec2-saved-model-finetuning.ipynb",
      "provenance": [],
      "collapsed_sections": [
        "rWk8nL6Ui-_0",
        "wvuJL8-f0zn5",
        "oPp18ZHRtnq-",
        "1mvTuOXpwsQe",
        "7Vlm3ySFULsG",
        "SJtSLgCvxvBG",
        "SJfPlTgezD0i"
      ],
      "include_colab_link": true
    },
    "accelerator": "GPU",
    "widgets": {
      "application/vnd.jupyter.widget-state+json": {
        "1a2c66eaebce410688bd272ed219e4f4": {
          "model_module": "@jupyter-widgets/controls",
          "model_name": "HBoxModel",
          "state": {
            "_view_name": "HBoxView",
            "_dom_classes": [],
            "_model_name": "HBoxModel",
            "_view_module": "@jupyter-widgets/controls",
            "_model_module_version": "1.5.0",
            "_view_count": null,
            "_view_module_version": "1.5.0",
            "box_style": "",
            "layout": "IPY_MODEL_576d36e73e3246b48e7fd41d9d4d6220",
            "_model_module": "@jupyter-widgets/controls",
            "children": [
              "IPY_MODEL_8407bca8262948bab2b84d731c271dda",
              "IPY_MODEL_6b3f3ac67bfb425baa127008caa7ad70"
            ]
          }
        },
        "576d36e73e3246b48e7fd41d9d4d6220": {
          "model_module": "@jupyter-widgets/base",
          "model_name": "LayoutModel",
          "state": {
            "_view_name": "LayoutView",
            "grid_template_rows": null,
            "right": null,
            "justify_content": null,
            "_view_module": "@jupyter-widgets/base",
            "overflow": null,
            "_model_module_version": "1.2.0",
            "_view_count": null,
            "flex_flow": null,
            "width": null,
            "min_width": null,
            "border": null,
            "align_items": null,
            "bottom": null,
            "_model_module": "@jupyter-widgets/base",
            "top": null,
            "grid_column": null,
            "overflow_y": null,
            "overflow_x": null,
            "grid_auto_flow": null,
            "grid_area": null,
            "grid_template_columns": null,
            "flex": null,
            "_model_name": "LayoutModel",
            "justify_items": null,
            "grid_row": null,
            "max_height": null,
            "align_content": null,
            "visibility": null,
            "align_self": null,
            "height": null,
            "min_height": null,
            "padding": null,
            "grid_auto_rows": null,
            "grid_gap": null,
            "max_width": null,
            "order": null,
            "_view_module_version": "1.2.0",
            "grid_template_areas": null,
            "object_position": null,
            "object_fit": null,
            "grid_auto_columns": null,
            "margin": null,
            "display": null,
            "left": null
          }
        },
        "8407bca8262948bab2b84d731c271dda": {
          "model_module": "@jupyter-widgets/controls",
          "model_name": "FloatProgressModel",
          "state": {
            "_view_name": "ProgressView",
            "style": "IPY_MODEL_b9e133a31dc94f9b87b863646e366409",
            "_dom_classes": [],
            "description": "100%",
            "_model_name": "FloatProgressModel",
            "bar_style": "success",
            "max": 3,
            "_view_module": "@jupyter-widgets/controls",
            "_model_module_version": "1.5.0",
            "value": 3,
            "_view_count": null,
            "_view_module_version": "1.5.0",
            "orientation": "horizontal",
            "min": 0,
            "description_tooltip": null,
            "_model_module": "@jupyter-widgets/controls",
            "layout": "IPY_MODEL_dd451758dc3e458f8c8cd957e6bc0f26"
          }
        },
        "6b3f3ac67bfb425baa127008caa7ad70": {
          "model_module": "@jupyter-widgets/controls",
          "model_name": "HTMLModel",
          "state": {
            "_view_name": "HTMLView",
            "style": "IPY_MODEL_1612fbbf78da4b94b67ce8ac4f5fe477",
            "_dom_classes": [],
            "description": "",
            "_model_name": "HTMLModel",
            "placeholder": "​",
            "_view_module": "@jupyter-widgets/controls",
            "_model_module_version": "1.5.0",
            "value": " 3/3 [05:33&lt;00:00, 111.11s/it, epoch=2, tr_loss=622]",
            "_view_count": null,
            "_view_module_version": "1.5.0",
            "description_tooltip": null,
            "_model_module": "@jupyter-widgets/controls",
            "layout": "IPY_MODEL_bec74d8765724fa2a2fc2db2f1ca4ab1"
          }
        },
        "b9e133a31dc94f9b87b863646e366409": {
          "model_module": "@jupyter-widgets/controls",
          "model_name": "ProgressStyleModel",
          "state": {
            "_view_name": "StyleView",
            "_model_name": "ProgressStyleModel",
            "description_width": "initial",
            "_view_module": "@jupyter-widgets/base",
            "_model_module_version": "1.5.0",
            "_view_count": null,
            "_view_module_version": "1.2.0",
            "bar_color": null,
            "_model_module": "@jupyter-widgets/controls"
          }
        },
        "dd451758dc3e458f8c8cd957e6bc0f26": {
          "model_module": "@jupyter-widgets/base",
          "model_name": "LayoutModel",
          "state": {
            "_view_name": "LayoutView",
            "grid_template_rows": null,
            "right": null,
            "justify_content": null,
            "_view_module": "@jupyter-widgets/base",
            "overflow": null,
            "_model_module_version": "1.2.0",
            "_view_count": null,
            "flex_flow": null,
            "width": null,
            "min_width": null,
            "border": null,
            "align_items": null,
            "bottom": null,
            "_model_module": "@jupyter-widgets/base",
            "top": null,
            "grid_column": null,
            "overflow_y": null,
            "overflow_x": null,
            "grid_auto_flow": null,
            "grid_area": null,
            "grid_template_columns": null,
            "flex": null,
            "_model_name": "LayoutModel",
            "justify_items": null,
            "grid_row": null,
            "max_height": null,
            "align_content": null,
            "visibility": null,
            "align_self": null,
            "height": null,
            "min_height": null,
            "padding": null,
            "grid_auto_rows": null,
            "grid_gap": null,
            "max_width": null,
            "order": null,
            "_view_module_version": "1.2.0",
            "grid_template_areas": null,
            "object_position": null,
            "object_fit": null,
            "grid_auto_columns": null,
            "margin": null,
            "display": null,
            "left": null
          }
        },
        "1612fbbf78da4b94b67ce8ac4f5fe477": {
          "model_module": "@jupyter-widgets/controls",
          "model_name": "DescriptionStyleModel",
          "state": {
            "_view_name": "StyleView",
            "_model_name": "DescriptionStyleModel",
            "description_width": "",
            "_view_module": "@jupyter-widgets/base",
            "_model_module_version": "1.5.0",
            "_view_count": null,
            "_view_module_version": "1.2.0",
            "_model_module": "@jupyter-widgets/controls"
          }
        },
        "bec74d8765724fa2a2fc2db2f1ca4ab1": {
          "model_module": "@jupyter-widgets/base",
          "model_name": "LayoutModel",
          "state": {
            "_view_name": "LayoutView",
            "grid_template_rows": null,
            "right": null,
            "justify_content": null,
            "_view_module": "@jupyter-widgets/base",
            "overflow": null,
            "_model_module_version": "1.2.0",
            "_view_count": null,
            "flex_flow": null,
            "width": null,
            "min_width": null,
            "border": null,
            "align_items": null,
            "bottom": null,
            "_model_module": "@jupyter-widgets/base",
            "top": null,
            "grid_column": null,
            "overflow_y": null,
            "overflow_x": null,
            "grid_auto_flow": null,
            "grid_area": null,
            "grid_template_columns": null,
            "flex": null,
            "_model_name": "LayoutModel",
            "justify_items": null,
            "grid_row": null,
            "max_height": null,
            "align_content": null,
            "visibility": null,
            "align_self": null,
            "height": null,
            "min_height": null,
            "padding": null,
            "grid_auto_rows": null,
            "grid_gap": null,
            "max_width": null,
            "order": null,
            "_view_module_version": "1.2.0",
            "grid_template_areas": null,
            "object_position": null,
            "object_fit": null,
            "grid_auto_columns": null,
            "margin": null,
            "display": null,
            "left": null
          }
        },
        "f8c0233b1459468ab4361c5a5528b521": {
          "model_module": "@jupyter-widgets/controls",
          "model_name": "HBoxModel",
          "state": {
            "_view_name": "HBoxView",
            "_dom_classes": [],
            "_model_name": "HBoxModel",
            "_view_module": "@jupyter-widgets/controls",
            "_model_module_version": "1.5.0",
            "_view_count": null,
            "_view_module_version": "1.5.0",
            "box_style": "",
            "layout": "IPY_MODEL_023cc71c325a4a9d8caeace64571507a",
            "_model_module": "@jupyter-widgets/controls",
            "children": [
              "IPY_MODEL_ba49841f135b4d578e66787c6b07a5ab",
              "IPY_MODEL_4b36dd7106a4421fb88ddc706f95481d"
            ]
          }
        },
        "023cc71c325a4a9d8caeace64571507a": {
          "model_module": "@jupyter-widgets/base",
          "model_name": "LayoutModel",
          "state": {
            "_view_name": "LayoutView",
            "grid_template_rows": null,
            "right": null,
            "justify_content": null,
            "_view_module": "@jupyter-widgets/base",
            "overflow": null,
            "_model_module_version": "1.2.0",
            "_view_count": null,
            "flex_flow": null,
            "width": null,
            "min_width": null,
            "border": null,
            "align_items": null,
            "bottom": null,
            "_model_module": "@jupyter-widgets/base",
            "top": null,
            "grid_column": null,
            "overflow_y": null,
            "overflow_x": null,
            "grid_auto_flow": null,
            "grid_area": null,
            "grid_template_columns": null,
            "flex": null,
            "_model_name": "LayoutModel",
            "justify_items": null,
            "grid_row": null,
            "max_height": null,
            "align_content": null,
            "visibility": null,
            "align_self": null,
            "height": null,
            "min_height": null,
            "padding": null,
            "grid_auto_rows": null,
            "grid_gap": null,
            "max_width": null,
            "order": null,
            "_view_module_version": "1.2.0",
            "grid_template_areas": null,
            "object_position": null,
            "object_fit": null,
            "grid_auto_columns": null,
            "margin": null,
            "display": null,
            "left": null
          }
        },
        "ba49841f135b4d578e66787c6b07a5ab": {
          "model_module": "@jupyter-widgets/controls",
          "model_name": "FloatProgressModel",
          "state": {
            "_view_name": "ProgressView",
            "style": "IPY_MODEL_e2461fd9f3224c9f81ad956bc90b68d2",
            "_dom_classes": [],
            "description": "Downloading: ",
            "_model_name": "FloatProgressModel",
            "bar_style": "success",
            "max": 1947,
            "_view_module": "@jupyter-widgets/controls",
            "_model_module_version": "1.5.0",
            "value": 1947,
            "_view_count": null,
            "_view_module_version": "1.5.0",
            "orientation": "horizontal",
            "min": 0,
            "description_tooltip": null,
            "_model_module": "@jupyter-widgets/controls",
            "layout": "IPY_MODEL_bbdd2374c1ad46f2aaecfabd04dc78f4"
          }
        },
        "4b36dd7106a4421fb88ddc706f95481d": {
          "model_module": "@jupyter-widgets/controls",
          "model_name": "HTMLModel",
          "state": {
            "_view_name": "HTMLView",
            "style": "IPY_MODEL_1764d4adeaed45cdb9ff7f100bd3a7b1",
            "_dom_classes": [],
            "description": "",
            "_model_name": "HTMLModel",
            "placeholder": "​",
            "_view_module": "@jupyter-widgets/controls",
            "_model_module_version": "1.5.0",
            "value": " 4.55k/? [00:03&lt;00:00, 1.39kB/s]",
            "_view_count": null,
            "_view_module_version": "1.5.0",
            "description_tooltip": null,
            "_model_module": "@jupyter-widgets/controls",
            "layout": "IPY_MODEL_44298e50f8aa454389d25ef77608ce02"
          }
        },
        "e2461fd9f3224c9f81ad956bc90b68d2": {
          "model_module": "@jupyter-widgets/controls",
          "model_name": "ProgressStyleModel",
          "state": {
            "_view_name": "StyleView",
            "_model_name": "ProgressStyleModel",
            "description_width": "initial",
            "_view_module": "@jupyter-widgets/base",
            "_model_module_version": "1.5.0",
            "_view_count": null,
            "_view_module_version": "1.2.0",
            "bar_color": null,
            "_model_module": "@jupyter-widgets/controls"
          }
        },
        "bbdd2374c1ad46f2aaecfabd04dc78f4": {
          "model_module": "@jupyter-widgets/base",
          "model_name": "LayoutModel",
          "state": {
            "_view_name": "LayoutView",
            "grid_template_rows": null,
            "right": null,
            "justify_content": null,
            "_view_module": "@jupyter-widgets/base",
            "overflow": null,
            "_model_module_version": "1.2.0",
            "_view_count": null,
            "flex_flow": null,
            "width": null,
            "min_width": null,
            "border": null,
            "align_items": null,
            "bottom": null,
            "_model_module": "@jupyter-widgets/base",
            "top": null,
            "grid_column": null,
            "overflow_y": null,
            "overflow_x": null,
            "grid_auto_flow": null,
            "grid_area": null,
            "grid_template_columns": null,
            "flex": null,
            "_model_name": "LayoutModel",
            "justify_items": null,
            "grid_row": null,
            "max_height": null,
            "align_content": null,
            "visibility": null,
            "align_self": null,
            "height": null,
            "min_height": null,
            "padding": null,
            "grid_auto_rows": null,
            "grid_gap": null,
            "max_width": null,
            "order": null,
            "_view_module_version": "1.2.0",
            "grid_template_areas": null,
            "object_position": null,
            "object_fit": null,
            "grid_auto_columns": null,
            "margin": null,
            "display": null,
            "left": null
          }
        },
        "1764d4adeaed45cdb9ff7f100bd3a7b1": {
          "model_module": "@jupyter-widgets/controls",
          "model_name": "DescriptionStyleModel",
          "state": {
            "_view_name": "StyleView",
            "_model_name": "DescriptionStyleModel",
            "description_width": "",
            "_view_module": "@jupyter-widgets/base",
            "_model_module_version": "1.5.0",
            "_view_count": null,
            "_view_module_version": "1.2.0",
            "_model_module": "@jupyter-widgets/controls"
          }
        },
        "44298e50f8aa454389d25ef77608ce02": {
          "model_module": "@jupyter-widgets/base",
          "model_name": "LayoutModel",
          "state": {
            "_view_name": "LayoutView",
            "grid_template_rows": null,
            "right": null,
            "justify_content": null,
            "_view_module": "@jupyter-widgets/base",
            "overflow": null,
            "_model_module_version": "1.2.0",
            "_view_count": null,
            "flex_flow": null,
            "width": null,
            "min_width": null,
            "border": null,
            "align_items": null,
            "bottom": null,
            "_model_module": "@jupyter-widgets/base",
            "top": null,
            "grid_column": null,
            "overflow_y": null,
            "overflow_x": null,
            "grid_auto_flow": null,
            "grid_area": null,
            "grid_template_columns": null,
            "flex": null,
            "_model_name": "LayoutModel",
            "justify_items": null,
            "grid_row": null,
            "max_height": null,
            "align_content": null,
            "visibility": null,
            "align_self": null,
            "height": null,
            "min_height": null,
            "padding": null,
            "grid_auto_rows": null,
            "grid_gap": null,
            "max_width": null,
            "order": null,
            "_view_module_version": "1.2.0",
            "grid_template_areas": null,
            "object_position": null,
            "object_fit": null,
            "grid_auto_columns": null,
            "margin": null,
            "display": null,
            "left": null
          }
        },
        "70a0803218f5497e801ccd6436c4828c": {
          "model_module": "@jupyter-widgets/controls",
          "model_name": "HBoxModel",
          "state": {
            "_view_name": "HBoxView",
            "_dom_classes": [],
            "_model_name": "HBoxModel",
            "_view_module": "@jupyter-widgets/controls",
            "_model_module_version": "1.5.0",
            "_view_count": null,
            "_view_module_version": "1.5.0",
            "box_style": "",
            "layout": "IPY_MODEL_950e5a6215254ae3b430d53369cfa847",
            "_model_module": "@jupyter-widgets/controls",
            "children": [
              "IPY_MODEL_ceb65d22a28941b0965d72f7adc778a9",
              "IPY_MODEL_1cb875983a3541d182418062718fac84"
            ]
          }
        },
        "950e5a6215254ae3b430d53369cfa847": {
          "model_module": "@jupyter-widgets/base",
          "model_name": "LayoutModel",
          "state": {
            "_view_name": "LayoutView",
            "grid_template_rows": null,
            "right": null,
            "justify_content": null,
            "_view_module": "@jupyter-widgets/base",
            "overflow": null,
            "_model_module_version": "1.2.0",
            "_view_count": null,
            "flex_flow": null,
            "width": null,
            "min_width": null,
            "border": null,
            "align_items": null,
            "bottom": null,
            "_model_module": "@jupyter-widgets/base",
            "top": null,
            "grid_column": null,
            "overflow_y": null,
            "overflow_x": null,
            "grid_auto_flow": null,
            "grid_area": null,
            "grid_template_columns": null,
            "flex": null,
            "_model_name": "LayoutModel",
            "justify_items": null,
            "grid_row": null,
            "max_height": null,
            "align_content": null,
            "visibility": null,
            "align_self": null,
            "height": null,
            "min_height": null,
            "padding": null,
            "grid_auto_rows": null,
            "grid_gap": null,
            "max_width": null,
            "order": null,
            "_view_module_version": "1.2.0",
            "grid_template_areas": null,
            "object_position": null,
            "object_fit": null,
            "grid_auto_columns": null,
            "margin": null,
            "display": null,
            "left": null
          }
        },
        "ceb65d22a28941b0965d72f7adc778a9": {
          "model_module": "@jupyter-widgets/controls",
          "model_name": "FloatProgressModel",
          "state": {
            "_view_name": "ProgressView",
            "style": "IPY_MODEL_ba387bbf597f4997b685c9c51e1b4047",
            "_dom_classes": [],
            "description": "100%",
            "_model_name": "FloatProgressModel",
            "bar_style": "success",
            "max": 4,
            "_view_module": "@jupyter-widgets/controls",
            "_model_module_version": "1.5.0",
            "value": 4,
            "_view_count": null,
            "_view_module_version": "1.5.0",
            "orientation": "horizontal",
            "min": 0,
            "description_tooltip": null,
            "_model_module": "@jupyter-widgets/controls",
            "layout": "IPY_MODEL_2eb016b3fe8c403ca6c1326b39eef910"
          }
        },
        "1cb875983a3541d182418062718fac84": {
          "model_module": "@jupyter-widgets/controls",
          "model_name": "HTMLModel",
          "state": {
            "_view_name": "HTMLView",
            "style": "IPY_MODEL_2c01c8fd6a8b47a2bdcc81468220b0da",
            "_dom_classes": [],
            "description": "",
            "_model_name": "HTMLModel",
            "placeholder": "​",
            "_view_module": "@jupyter-widgets/controls",
            "_model_module_version": "1.5.0",
            "value": " 4/4 [00:05&lt;00:00,  1.29s/it, val_loss=869]",
            "_view_count": null,
            "_view_module_version": "1.5.0",
            "description_tooltip": null,
            "_model_module": "@jupyter-widgets/controls",
            "layout": "IPY_MODEL_db4d82dda20f443c9190d991bd75eed4"
          }
        },
        "ba387bbf597f4997b685c9c51e1b4047": {
          "model_module": "@jupyter-widgets/controls",
          "model_name": "ProgressStyleModel",
          "state": {
            "_view_name": "StyleView",
            "_model_name": "ProgressStyleModel",
            "description_width": "initial",
            "_view_module": "@jupyter-widgets/base",
            "_model_module_version": "1.5.0",
            "_view_count": null,
            "_view_module_version": "1.2.0",
            "bar_color": null,
            "_model_module": "@jupyter-widgets/controls"
          }
        },
        "2eb016b3fe8c403ca6c1326b39eef910": {
          "model_module": "@jupyter-widgets/base",
          "model_name": "LayoutModel",
          "state": {
            "_view_name": "LayoutView",
            "grid_template_rows": null,
            "right": null,
            "justify_content": null,
            "_view_module": "@jupyter-widgets/base",
            "overflow": null,
            "_model_module_version": "1.2.0",
            "_view_count": null,
            "flex_flow": null,
            "width": null,
            "min_width": null,
            "border": null,
            "align_items": null,
            "bottom": null,
            "_model_module": "@jupyter-widgets/base",
            "top": null,
            "grid_column": null,
            "overflow_y": null,
            "overflow_x": null,
            "grid_auto_flow": null,
            "grid_area": null,
            "grid_template_columns": null,
            "flex": null,
            "_model_name": "LayoutModel",
            "justify_items": null,
            "grid_row": null,
            "max_height": null,
            "align_content": null,
            "visibility": null,
            "align_self": null,
            "height": null,
            "min_height": null,
            "padding": null,
            "grid_auto_rows": null,
            "grid_gap": null,
            "max_width": null,
            "order": null,
            "_view_module_version": "1.2.0",
            "grid_template_areas": null,
            "object_position": null,
            "object_fit": null,
            "grid_auto_columns": null,
            "margin": null,
            "display": null,
            "left": null
          }
        },
        "2c01c8fd6a8b47a2bdcc81468220b0da": {
          "model_module": "@jupyter-widgets/controls",
          "model_name": "DescriptionStyleModel",
          "state": {
            "_view_name": "StyleView",
            "_model_name": "DescriptionStyleModel",
            "description_width": "",
            "_view_module": "@jupyter-widgets/base",
            "_model_module_version": "1.5.0",
            "_view_count": null,
            "_view_module_version": "1.2.0",
            "_model_module": "@jupyter-widgets/controls"
          }
        },
        "db4d82dda20f443c9190d991bd75eed4": {
          "model_module": "@jupyter-widgets/base",
          "model_name": "LayoutModel",
          "state": {
            "_view_name": "LayoutView",
            "grid_template_rows": null,
            "right": null,
            "justify_content": null,
            "_view_module": "@jupyter-widgets/base",
            "overflow": null,
            "_model_module_version": "1.2.0",
            "_view_count": null,
            "flex_flow": null,
            "width": null,
            "min_width": null,
            "border": null,
            "align_items": null,
            "bottom": null,
            "_model_module": "@jupyter-widgets/base",
            "top": null,
            "grid_column": null,
            "overflow_y": null,
            "overflow_x": null,
            "grid_auto_flow": null,
            "grid_area": null,
            "grid_template_columns": null,
            "flex": null,
            "_model_name": "LayoutModel",
            "justify_items": null,
            "grid_row": null,
            "max_height": null,
            "align_content": null,
            "visibility": null,
            "align_self": null,
            "height": null,
            "min_height": null,
            "padding": null,
            "grid_auto_rows": null,
            "grid_gap": null,
            "max_width": null,
            "order": null,
            "_view_module_version": "1.2.0",
            "grid_template_areas": null,
            "object_position": null,
            "object_fit": null,
            "grid_auto_columns": null,
            "margin": null,
            "display": null,
            "left": null
          }
        }
      }
    }
  },
  "cells": [
    {
      "cell_type": "markdown",
      "metadata": {
        "id": "view-in-github",
        "colab_type": "text"
      },
      "source": [
        "<a href=\"https://colab.research.google.com/github/vasudevgupta7/gsoc-wav2vec2/blob/export-v3/notebooks/wav2vec2_saved_model_finetuning.ipynb\" target=\"_parent\"><img src=\"https://colab.research.google.com/assets/colab-badge.svg\" alt=\"Open In Colab\"/></a>"
      ]
    },
    {
      "cell_type": "markdown",
      "metadata": {
        "id": "ndG8MjmJeicp"
      },
      "source": [
        "# Fine-tuning with an extra head\n",
        "\n",
        "In this notebook, we will load the pre-trained wav2vec2 model from [TFHub](https://tfhub.dev) and will fine-tune it on [LibriSpeech dataset](https://huggingface.co/datasets/librispeech_asr) by appending Language Modeling head (LM) over the top of our pre-trained model. The underlying task is to build a model for **Automatic Speech Recognition** i.e. given some speech, model should be able to transcribe it into text."
      ]
    },
    {
      "cell_type": "markdown",
      "metadata": {
        "id": "rWk8nL6Ui-_0"
      },
      "source": [
        "## Setting Up\n",
        "\n",
        "Before diving into it, let's see what GPU we got using `nvidia-smi`"
      ]
    },
    {
      "cell_type": "code",
      "metadata": {
        "id": "Y2DQV2hde_Vh",
        "colab": {
          "base_uri": "https://localhost:8080/"
        },
        "outputId": "cee0d7c1-443b-421a-9069-1fe28b4bba20"
      },
      "source": [
        "!nvidia-smi"
      ],
      "execution_count": 1,
      "outputs": [
        {
          "output_type": "stream",
          "text": [
            "Tue Jul 27 11:25:53 2021       \n",
            "+-----------------------------------------------------------------------------+\n",
            "| NVIDIA-SMI 470.42.01    Driver Version: 460.32.03    CUDA Version: 11.2     |\n",
            "|-------------------------------+----------------------+----------------------+\n",
            "| GPU  Name        Persistence-M| Bus-Id        Disp.A | Volatile Uncorr. ECC |\n",
            "| Fan  Temp  Perf  Pwr:Usage/Cap|         Memory-Usage | GPU-Util  Compute M. |\n",
            "|                               |                      |               MIG M. |\n",
            "|===============================+======================+======================|\n",
            "|   0  Tesla T4            Off  | 00000000:00:04.0 Off |                    0 |\n",
            "| N/A   63C    P8    11W /  70W |      0MiB / 15109MiB |      0%      Default |\n",
            "|                               |                      |                  N/A |\n",
            "+-------------------------------+----------------------+----------------------+\n",
            "                                                                               \n",
            "+-----------------------------------------------------------------------------+\n",
            "| Processes:                                                                  |\n",
            "|  GPU   GI   CI        PID   Type   Process name                  GPU Memory |\n",
            "|        ID   ID                                                   Usage      |\n",
            "|=============================================================================|\n",
            "|  No running processes found                                                 |\n",
            "+-----------------------------------------------------------------------------+\n"
          ],
          "name": "stdout"
        }
      ]
    },
    {
      "cell_type": "markdown",
      "metadata": {
        "id": "8hBGUWT_mKkw"
      },
      "source": [
        "The following cell will clone my code repository ([`gsoc-wav2vec2`](https://github.com/vasudevgupta7/gsoc-wav2vec2)) and will install all the dependencies."
      ]
    },
    {
      "cell_type": "code",
      "metadata": {
        "id": "seqTlMyeZvM4",
        "colab": {
          "base_uri": "https://localhost:8080/"
        },
        "outputId": "74dc9dc3-65f7-4d5c-988b-2d463138d177"
      },
      "source": [
        "!pip3 install -q git+https://github.com/vasudevgupta7/gsoc-wav2vec2@main"
      ],
      "execution_count": 2,
      "outputs": [
        {
          "output_type": "stream",
          "text": [
            "\u001b[K     |████████████████████████████████| 1.8 MB 10.1 MB/s \n",
            "\u001b[K     |████████████████████████████████| 43 kB 2.2 MB/s \n",
            "\u001b[K     |████████████████████████████████| 50 kB 9.0 MB/s \n",
            "\u001b[K     |████████████████████████████████| 170 kB 62.0 MB/s \n",
            "\u001b[K     |████████████████████████████████| 133 kB 55.4 MB/s \n",
            "\u001b[K     |████████████████████████████████| 97 kB 7.5 MB/s \n",
            "\u001b[K     |████████████████████████████████| 1.8 MB 59.1 MB/s \n",
            "\u001b[K     |████████████████████████████████| 63 kB 2.4 MB/s \n",
            "\u001b[?25h  Building wheel for wav2vec2 (setup.py) ... \u001b[?25l\u001b[?25hdone\n",
            "  Building wheel for python-Levenshtein (setup.py) ... \u001b[?25l\u001b[?25hdone\n",
            "  Building wheel for subprocess32 (setup.py) ... \u001b[?25l\u001b[?25hdone\n",
            "  Building wheel for pathtools (setup.py) ... \u001b[?25l\u001b[?25hdone\n"
          ],
          "name": "stdout"
        }
      ]
    },
    {
      "cell_type": "markdown",
      "metadata": {
        "id": "wvuJL8-f0zn5"
      },
      "source": [
        "## Model setup using `TFHub`\n",
        "\n",
        "We will start by importing all the important libraries & modules."
      ]
    },
    {
      "cell_type": "code",
      "metadata": {
        "id": "M3_fgx4eZvM7",
        "colab": {
          "base_uri": "https://localhost:8080/"
        },
        "outputId": "d7d6fc89-3f02-45af-970b-bb69896c9c02"
      },
      "source": [
        "import os\n",
        "\n",
        "import tensorflow as tf\n",
        "import tensorflow_hub as hub\n",
        "from wav2vec2 import Wav2Vec2Config\n",
        "\n",
        "config = Wav2Vec2Config()\n",
        "\n",
        "print(\"TF version:\", tf.__version__)"
      ],
      "execution_count": 4,
      "outputs": [
        {
          "output_type": "stream",
          "text": [
            "TF version: 2.5.0\n"
          ],
          "name": "stdout"
        }
      ]
    },
    {
      "cell_type": "markdown",
      "metadata": {
        "id": "y0rVUxyWsS5f"
      },
      "source": [
        "First, we will download our model from TFHub & will wrap our model signature with [`hub.KerasLayer`](https://www.tensorflow.org/hub/api_docs/python/hub/KerasLayer) to be able to use this model like any other keras layer. Fortunately, `hub.KerasLayer` can do both in just 1 line.\n",
        "\n",
        "**Note:** When loading model with `hub.KerasLayer`, model becomes a bit opaque but sometimes we need finer controls over the model, then we can load the model with `tf.keras.models.load_model(...)`."
      ]
    },
    {
      "cell_type": "code",
      "metadata": {
        "id": "NO6QRC7KZvM9",
        "colab": {
          "base_uri": "https://localhost:8080/"
        },
        "outputId": "013fa530-87c6-4589-c048-9ea325f06b8b"
      },
      "source": [
        "# TODO: change after export to TFHub\n",
        "\n",
        "# pretrained_layer = hub.KerasLayer(\"https://tfhub.dev/vasudevgupta7/wav2vec2/1\", trainable=False)\n",
        "!wget https://huggingface.co/vasudevgupta/gsoc-wav2vec2/resolve/main/saved-model.tar.gz\n",
        "!tar -xf saved-model.tar.gz\n",
        "\n",
        "pretrained_layer = hub.KerasLayer(\"saved-model\", trainable=True)"
      ],
      "execution_count": 5,
      "outputs": [
        {
          "output_type": "stream",
          "text": [
            "--2021-07-27 11:26:27--  https://huggingface.co/vasudevgupta/gsoc-wav2vec2/resolve/main/saved-model.tar.gz\n",
            "Resolving huggingface.co (huggingface.co)... 15.197.130.34\n",
            "Connecting to huggingface.co (huggingface.co)|15.197.130.34|:443... connected.\n",
            "HTTP request sent, awaiting response... 302 Found\n",
            "Location: https://cdn-lfs.huggingface.co/vasudevgupta/gsoc-wav2vec2/a51f3029eaf96da1a4ed2de852a9168057b0605a312fbb6ae86324d892117c5e [following]\n",
            "--2021-07-27 11:26:28--  https://cdn-lfs.huggingface.co/vasudevgupta/gsoc-wav2vec2/a51f3029eaf96da1a4ed2de852a9168057b0605a312fbb6ae86324d892117c5e\n",
            "Resolving cdn-lfs.huggingface.co (cdn-lfs.huggingface.co)... 52.84.169.23, 52.84.169.2, 52.84.169.48, ...\n",
            "Connecting to cdn-lfs.huggingface.co (cdn-lfs.huggingface.co)|52.84.169.23|:443... connected.\n",
            "HTTP request sent, awaiting response... 200 OK\n",
            "Length: 224928775 (215M) [application/x-gzip]\n",
            "Saving to: ‘saved-model.tar.gz’\n",
            "\n",
            "saved-model.tar.gz  100%[===================>] 214.51M  31.0MB/s    in 7.5s    \n",
            "\n",
            "2021-07-27 11:26:36 (28.7 MB/s) - ‘saved-model.tar.gz’ saved [224928775/224928775]\n",
            "\n"
          ],
          "name": "stdout"
        }
      ]
    },
    {
      "cell_type": "markdown",
      "metadata": {
        "id": "pCputyVBv2e9"
      },
      "source": [
        "You can refer this [script](https://github.com/vasudevgupta7/gsoc-wav2vec2/blob/main/src/export2hub.py) in case you are interested in model exporting script. Object `pretrained_layer` is the freezed version of [`Wav2Vec2Model`](https://github.com/vasudevgupta7/gsoc-wav2vec2/blob/main/src/wav2vec2/modeling.py). Pre-trained weights are converted from HuggingFace PyTorch [pre-trained weights](https://huggingface.co/facebook/wav2vec2-base) using [this script](https://github.com/vasudevgupta7/gsoc-wav2vec2/blob/main/src/convert_torch_to_tf.py).\n",
        "\n",
        "Originally, wav2vec2 was pre-trained with a masked language modelling approach with the objective to identify the true quantized latent speech representation for a masked time step. You can read more about the training objective in the paper- [wav2vec 2.0: A Framework for Self-Supervised Learning of Speech Representations](https://arxiv.org/abs/2006.11477)."
      ]
    },
    {
      "cell_type": "markdown",
      "metadata": {
        "id": "SseDnCr7hyhC"
      },
      "source": [
        "Now, we will be defining a few constants and hyper-parameters which will be useful in the next few cells. `AUDIO_MAXLEN` is intentionally set to `246000` as the model signature only accepts static sequence length of `246000`."
      ]
    },
    {
      "cell_type": "code",
      "metadata": {
        "id": "eiILuMBERxlO"
      },
      "source": [
        "AUDIO_MAXLEN = 246000\n",
        "LABEL_MAXLEN = 256\n",
        "BATCH_SIZE = 2"
      ],
      "execution_count": 6,
      "outputs": []
    },
    {
      "cell_type": "markdown",
      "metadata": {
        "id": "1V4gTgGLgXvO"
      },
      "source": [
        "In the following cell, we will wrap `pretrained_layer` & a dense layer (LM head) with the [TensorFlow's Functional API](https://www.tensorflow.org/guide/keras/functional)."
      ]
    },
    {
      "cell_type": "code",
      "metadata": {
        "id": "a3CUN1KEB10Q"
      },
      "source": [
        "inputs = tf.keras.Input(shape=(AUDIO_MAXLEN,))\n",
        "hidden_states = pretrained_layer(inputs)\n",
        "outputs = tf.keras.layers.Dense(config.vocab_size)(hidden_states)\n",
        "\n",
        "model = tf.keras.Model(inputs=inputs, outputs=outputs)"
      ],
      "execution_count": 7,
      "outputs": []
    },
    {
      "cell_type": "markdown",
      "metadata": {
        "id": "5zDXuoMXhDMo"
      },
      "source": [
        "The dense layer (defined above) is having an output dimension of `vocab_size` as we want to predict probabilities of each token in the vocabulary at each time step."
      ]
    },
    {
      "cell_type": "markdown",
      "metadata": {
        "id": "oPp18ZHRtnq-"
      },
      "source": [
        "## Setting up training state\n",
        "\n",
        "Alright, let's define our training forward pass by calling the model with `training=True` and wrapping it with `tf.function(...)`. It's important to wrap it with `tf.function(...)` to be able to get performance benefits during training.\n",
        "\n",
        "Additionally, we will be passing `jit_compile=True` to compile (using XLA) our model graph on the accelerators (i.e GPUs/TPUs) & fuse many operations to get out-of-box performance."
      ]
    },
    {
      "cell_type": "code",
      "metadata": {
        "id": "3f5M8YXXZvM_"
      },
      "source": [
        "@tf.function(jit_compile=True)\n",
        "def forward(batch):\n",
        "    return model(batch, training=True)"
      ],
      "execution_count": 8,
      "outputs": []
    },
    {
      "cell_type": "markdown",
      "metadata": {
        "id": "ATQy1ZK3vFr7"
      },
      "source": [
        "In TensorFlow, model weights are build only when `model.__call__` is called for the first time, so the following cell will build the model weights for us. Further, we will be running `model.summary()` for checking the total number of trainable parameters."
      ]
    },
    {
      "cell_type": "code",
      "metadata": {
        "id": "ZgL5wyaXZvM-",
        "colab": {
          "base_uri": "https://localhost:8080/"
        },
        "outputId": "0cf4759e-1282-4e89-f202-a4a7501760fe"
      },
      "source": [
        "forward(tf.random.uniform(shape=(BATCH_SIZE, AUDIO_MAXLEN)))\n",
        "model.summary()"
      ],
      "execution_count": 9,
      "outputs": [
        {
          "output_type": "stream",
          "text": [
            "Model: \"model\"\n",
            "_________________________________________________________________\n",
            "Layer (type)                 Output Shape              Param #   \n",
            "=================================================================\n",
            "input_1 (InputLayer)         [(None, 246000)]          0         \n",
            "_________________________________________________________________\n",
            "keras_layer (KerasLayer)     (None, 768, 768)          94371712  \n",
            "_________________________________________________________________\n",
            "dense (Dense)                (None, 768, 32)           24608     \n",
            "=================================================================\n",
            "Total params: 94,396,320\n",
            "Trainable params: 94,396,320\n",
            "Non-trainable params: 0\n",
            "_________________________________________________________________\n"
          ],
          "name": "stdout"
        }
      ]
    },
    {
      "cell_type": "markdown",
      "metadata": {
        "id": "EQxxA4Fevp7m"
      },
      "source": [
        "Now, we need to define `loss_fn` and optimizer to be able to train the model. The following cell will do that for us. We will be using the `Adam` optimizer for simplicity. `CTCLoss` is a very common loss type that is used for tasks (like `ASR`) where input sub-parts can't be easily aligned with output sub-parts. You can read more about CTC-loss from this amazing [blog post](https://distill.pub/2017/ctc/).\n",
        "\n",
        "\n",
        "`CTCLoss` (from [`gsoc-wav2vec2`](https://github.com/vasudevgupta7/gsoc-wav2vec2) package) accepts 3 arguments: `config`, `model_input_shape` & `division_factor`. If `division_factor=1`, then loss will simply get summed, so pass `division_factor` accordingly to get mean over batch."
      ]
    },
    {
      "cell_type": "code",
      "metadata": {
        "id": "glDepVEHZvM_"
      },
      "source": [
        "from wav2vec2 import CTCLoss\n",
        "\n",
        "LEARNING_RATE = 1e-5\n",
        "\n",
        "loss_fn = CTCLoss(config, (BATCH_SIZE, AUDIO_MAXLEN), division_factor=BATCH_SIZE)\n",
        "optimizer = tf.keras.optimizers.Adam(LEARNING_RATE)"
      ],
      "execution_count": 10,
      "outputs": []
    },
    {
      "cell_type": "markdown",
      "metadata": {
        "id": "1mvTuOXpwsQe"
      },
      "source": [
        "## Loading & Pre-processing data\n",
        "\n",
        "Let's now download the LibriSpeech dataset from the [official website](http://www.openslr.org/12) and set it up."
      ]
    },
    {
      "cell_type": "code",
      "metadata": {
        "id": "I4kIEC77cBCM",
        "colab": {
          "base_uri": "https://localhost:8080/"
        },
        "outputId": "e839d685-de2f-4337-9625-170f49434d15"
      },
      "source": [
        "!wget https://www.openslr.org/resources/12/dev-clean.tar.gz -P ./data/train/\n",
        "!tar -xf ./data/train/dev-clean.tar.gz -C ./data/train/"
      ],
      "execution_count": 11,
      "outputs": [
        {
          "output_type": "stream",
          "text": [
            "--2021-07-27 11:27:52--  https://www.openslr.org/resources/12/dev-clean.tar.gz\n",
            "Resolving www.openslr.org (www.openslr.org)... 46.101.158.64\n",
            "Connecting to www.openslr.org (www.openslr.org)|46.101.158.64|:443... connected.\n",
            "HTTP request sent, awaiting response... 200 OK\n",
            "Length: 337926286 (322M) [application/x-gzip]\n",
            "Saving to: ‘./data/train/dev-clean.tar.gz’\n",
            "\n",
            "dev-clean.tar.gz    100%[===================>] 322.27M  19.8MB/s    in 17s     \n",
            "\n",
            "2021-07-27 11:28:10 (18.8 MB/s) - ‘./data/train/dev-clean.tar.gz’ saved [337926286/337926286]\n",
            "\n"
          ],
          "name": "stdout"
        }
      ]
    },
    {
      "cell_type": "markdown",
      "metadata": {
        "id": "LsQpmpn6jrMI"
      },
      "source": [
        "**Note:** We are using `dev-clean` configuration as this notebook is just for demonstration purposes, so we just need small data."
      ]
    },
    {
      "cell_type": "code",
      "metadata": {
        "colab": {
          "base_uri": "https://localhost:8080/"
        },
        "id": "ynxAjtGHGFpM",
        "outputId": "b11eed34-c8c0-4233-ef58-acc58f8dfa3f"
      },
      "source": [
        "ls ./data/train/"
      ],
      "execution_count": 12,
      "outputs": [
        {
          "output_type": "stream",
          "text": [
            "dev-clean.tar.gz  \u001b[0m\u001b[01;34mLibriSpeech\u001b[0m/\n"
          ],
          "name": "stdout"
        }
      ]
    },
    {
      "cell_type": "markdown",
      "metadata": {
        "id": "yBMiORo0xJD0"
      },
      "source": [
        "Our dataset lies in `LibriSpeech` directory. Let's further narrow down & choose a sub-directory to see few files."
      ]
    },
    {
      "cell_type": "code",
      "metadata": {
        "id": "jkIu_Wt4ZvNA",
        "colab": {
          "base_uri": "https://localhost:8080/"
        },
        "outputId": "91f7a476-f024-4499-b114-3b63facfa757"
      },
      "source": [
        "data_dir = \"./data/train/LibriSpeech/dev-clean/2428/83705/\"\n",
        "all_files = os.listdir(data_dir)\n",
        "\n",
        "flac_files = [f for f in all_files if f.endswith(\".flac\")]\n",
        "txt_files = [f for f in all_files if f.endswith(\".txt\")]\n",
        "\n",
        "print(\"Transcription files:\", txt_files, \"\\nSound files:\", flac_files)"
      ],
      "execution_count": 13,
      "outputs": [
        {
          "output_type": "stream",
          "text": [
            "Transcription files: ['2428-83705.trans.txt'] \n",
            "Sound files: ['2428-83705-0016.flac', '2428-83705-0022.flac', '2428-83705-0014.flac', '2428-83705-0015.flac', '2428-83705-0021.flac', '2428-83705-0032.flac', '2428-83705-0013.flac', '2428-83705-0010.flac', '2428-83705-0027.flac', '2428-83705-0033.flac', '2428-83705-0036.flac', '2428-83705-0003.flac', '2428-83705-0034.flac', '2428-83705-0009.flac', '2428-83705-0035.flac', '2428-83705-0023.flac', '2428-83705-0012.flac', '2428-83705-0041.flac', '2428-83705-0042.flac', '2428-83705-0007.flac', '2428-83705-0006.flac', '2428-83705-0024.flac', '2428-83705-0020.flac', '2428-83705-0030.flac', '2428-83705-0029.flac', '2428-83705-0025.flac', '2428-83705-0008.flac', '2428-83705-0019.flac', '2428-83705-0038.flac', '2428-83705-0028.flac', '2428-83705-0001.flac', '2428-83705-0037.flac', '2428-83705-0017.flac', '2428-83705-0000.flac', '2428-83705-0004.flac', '2428-83705-0026.flac', '2428-83705-0002.flac', '2428-83705-0031.flac', '2428-83705-0018.flac', '2428-83705-0005.flac', '2428-83705-0043.flac', '2428-83705-0011.flac', '2428-83705-0040.flac', '2428-83705-0039.flac']\n"
          ],
          "name": "stdout"
        }
      ]
    },
    {
      "cell_type": "markdown",
      "metadata": {
        "id": "XEObi_Apk3ZD"
      },
      "source": [
        "Alright, so each sub-directory is having many `.flac` files and single `.txt` file. `.txt` file will have text transcriptions for all the speech samples (i.e. `.flac` files) present in that sub-directory."
      ]
    },
    {
      "cell_type": "markdown",
      "metadata": {
        "id": "WYW6WKJflO2e"
      },
      "source": [
        "In following cell, we will define function for loading & formatting the text data into memory."
      ]
    },
    {
      "cell_type": "code",
      "metadata": {
        "id": "cEBKxQblHPwq"
      },
      "source": [
        "def read_txt_file(f):\n",
        "  with open(f, \"r\") as f:\n",
        "    samples = f.read().split(\"\\n\")\n",
        "    samples = {s.split()[0]: \" \".join(s.split()[1:]) for s in samples if len(s.split()) > 2}\n",
        "  return samples"
      ],
      "execution_count": 14,
      "outputs": []
    },
    {
      "cell_type": "markdown",
      "metadata": {
        "id": "Ldkf_ceb0_YW"
      },
      "source": [
        "Similary, we will define a function for loading speech sample from `.flac` file.\n",
        "\n",
        "`REQUIRED_SAMPLE_RATE` is set to `16000` as wav2vec2 was pre-trained with `16K` frequency and it's recommended to train it further without any major change in data distribution due to frequency."
      ]
    },
    {
      "cell_type": "code",
      "metadata": {
        "id": "YOJ3OzPsTyXv"
      },
      "source": [
        "import soundfile as sf\n",
        "\n",
        "REQUIRED_SAMPLE_RATE = 16000\n",
        "\n",
        "def read_flac_file(file_path):\n",
        "  with open(file_path, \"rb\") as f:\n",
        "      audio, sample_rate = sf.read(f)\n",
        "  if sample_rate != REQUIRED_SAMPLE_RATE:\n",
        "      raise ValueError(\n",
        "          f\"sample rate (={sample_rate}) of your files must be {REQUIRED_SAMPLE_RATE}\"\n",
        "      )\n",
        "  file_id = os.path.split(file_path)[-1][:-len(\".flac\")]\n",
        "  return {file_id: audio}"
      ],
      "execution_count": 15,
      "outputs": []
    },
    {
      "cell_type": "markdown",
      "metadata": {
        "id": "2sxDN8P4nWkW"
      },
      "source": [
        "Now, let's have a look at some sample."
      ]
    },
    {
      "cell_type": "code",
      "metadata": {
        "id": "HI5J-2Dfm_wT",
        "colab": {
          "base_uri": "https://localhost:8080/",
          "height": 86
        },
        "outputId": "ad878072-334a-4887-e941-4951326375cb"
      },
      "source": [
        "from IPython.display import Audio\n",
        "import random\n",
        "\n",
        "file_id = random.choice([f[:-len(\".flac\")] for f in flac_files])\n",
        "flac_file_path, txt_file_path = os.path.join(data_dir, f\"{file_id}.flac\"), os.path.join(data_dir, \"2428-83705.trans.txt\")\n",
        "\n",
        "print(\"Text Transcription:\", read_txt_file(txt_file_path)[file_id], \"\\nAudio:\")\n",
        "Audio(filename=flac_file_path)"
      ],
      "execution_count": 16,
      "outputs": [
        {
          "output_type": "stream",
          "text": [
            "Text Transcription: HER FATHER IS A MOST REMARKABLE PERSON TO SAY THE LEAST \n",
            "Audio:\n"
          ],
          "name": "stdout"
        },
        {
          "output_type": "execute_result",
          "data": {
            "text/html": [
              "\n",
              "                <audio controls=\"controls\" >\n",
              "                    <source src=\"data:audio/flac;base64,ZkxhQwAAACIQABAAAAccABWMA+gA8AAA7sBo/aabs98YR6mJt8EZqbjLAwAAEgAAAAAAAAAAAAAAAAAAAAAQAAQAACggAAAAcmVmZXJlbmNlIGxpYkZMQUMgMS4yLjEgMjAwNzA5MTcAAAAAgQAgAAAAAAAAAAAAAAAAAAAAAAAAAAAAAAAAAAAAAAAAAAAAAAAAAAAAAAAAAAAAAAAAAAAAAAAAAAAAAAAAAAAAAAAAAAAAAAAAAAAAAAAAAAAAAAAAAAAAAAAAAAAAAAAAAAAAAAAAAAAAAAAAAAAAAAAAAAAAAAAAAAAAAAAAAAAAAAAAAAAAAAAAAAAAAAAAAAAAAAAAAAAAAAAAAAAAAAAAAAAAAAAAAAAAAAAAAAAAAAAAAAAAAAAAAAAAAAAAAAAAAAAAAAAAAAAAAAAAAAAAAAAAAAAAAAAAAAAAAAAAAAAAAAAAAAAAAAAAAAAAAAAAAAAAAAAAAAAAAAAAAAAAAAAAAAAAAAAAAAAAAAAAAAAAAAAAAAAAAAAAAAAAAAAAAAAAAAAAAAAAAAAAAAAAAAAAAAAAAAAAAAAAAAAAAAAAAAAAAAAAAAAAAAAAAAAAAAAAAAAAAAAAAAAAAAAAAAAAAAAAAAAAAAAAAAAAAAAAAAAAAAAAAAAAAAAAAAAAAAAAAAAAAAAAAAAAAAAAAAAAAAAAAAAAAAAAAAAAAAAAAAAAAAAAAAAAAAAAAAAAAAAAAAAAAAAAAAAAAAAAAAAAAAAAAAAAAAAAAAAAAAAAAAAAAAAAAAAAAAAAAAAAAAAAAAAAAAAAAAAAAAAAAAAAAAAAAAAAAAAAAAAAAAAAAAAAAAAAAAAAAAAAAAAAAAAAAAAAAAAAAAAAAAAAAAAAAAAAAAAAAAAAAAAAAAAAAAAAAAAAAAAAAAAAAAAAAAAAAAAAAAAAAAAAAAAAAAAAAAAAAAAAAAAAAAAAAAAAAAAAAAAAAAAAAAAAAAAAAAAAAAAAAAAAAAAAAAAAAAAAAAAAAAAAAAAAAAAAAAAAAAAAAAAAAAAAAAAAAAAAAAAAAAAAAAAAAAAAAAAAAAAAAAAAAAAAAAAAAAAAAAAAAAAAAAAAAAAAAAAAAAAAAAAAAAAAAAAAAAAAAAAAAAAAAAAAAAAAAAAAAAAAAAAAAAAAAAAAAAAAAAAAAAAAAAAAAAAAAAAAAAAAAAAAAAAAAAAAAAAAAAAAAAAAAAAAAAAAAAAAAAAAAAAAAAAAAAAAAAAAAAAAAAAAAAAAAAAAAAAAAAAAAAAAAAAAAAAAAAAAAAAAAAAAAAAAAAAAAAAAAAAAAAAAAAAAAAAAAAAAAAAAAAAAAAAAAAAAAAAAAAAAAAAAAAAAAAAAAAAAAAAAAAAAAAAAAAAAAAAAAAAAAAAAAAAAAAAAAAAAAAAAAAAAAAAAAAAAAAAAAAAAAAAAAAAAAAAAAAAAAAAAAAAAAAAAAAAAAAAAAAAAAAAAAAAAAAAAAAAAAAAAAAAAAAAAAAAAAAAAAAAAAAAAAAAAAAAAAAAAAAAAAAAAAAAAAAAAAAAAAAAAAAAAAAAAAAAAAAAAAAAAAAAAAAAAAAAAAAAAAAAAAAAAAAAAAAAAAAAAAAAAAAAAAAAAAAAAAAAAAAAAAAAAAAAAAAAAAAAAAAAAAAAAAAAAAAAAAAAAAAAAAAAAAAAAAAAAAAAAAAAAAAAAAAAAAAAAAAAAAAAAAAAAAAAAAAAAAAAAAAAAAAAAAAAAAAAAAAAAAAAAAAAAAAAAAAAAAAAAAAAAAAAAAAAAAAAAAAAAAAAAAAAAAAAAAAAAAAAAAAAAAAAAAAAAAAAAAAAAAAAAAAAAAAAAAAAAAAAAAAAAAAAAAAAAAAAAAAAAAAAAAAAAAAAAAAAAAAAAAAAAAAAAAAAAAAAAAAAAAAAAAAAAAAAAAAAAAAAAAAAAAAAAAAAAAAAAAAAAAAAAAAAAAAAAAAAAAAAAAAAAAAAAAAAAAAAAAAAAAAAAAAAAAAAAAAAAAAAAAAAAAAAAAAAAAAAAAAAAAAAAAAAAAAAAAAAAAAAAAAAAAAAAAAAAAAAAAAAAAAAAAAAAAAAAAAAAAAAAAAAAAAAAAAAAAAAAAAAAAAAAAAAAAAAAAAAAAAAAAAAAAAAAAAAAAAAAAAAAAAAAAAAAAAAAAAAAAAAAAAAAAAAAAAAAAAAAAAAAAAAAAAAAAAAAAAAAAAAAAAAAAAAAAAAAAAAAAAAAAAAAAAAAAAAAAAAAAAAAAAAAAAAAAAAAAAAAAAAAAAAAAAAAAAAAAAAAAAAAAAAAAAAAAAAAAAAAAAAAAAAAAAAAAAAAAAAAAAAAAAAAAAAAAAAAAAAAAAAAAAAAAAAAAAAAAAAAAAAAAAAAAAAAAAAAAAAAAAAAAAAAAAAAAAAAAAAAAAAAAAAAAAAAAAAAAAAAAAAAAAAAAAAAAAAAAAAAAAAAAAAAAAAAAAAAAAAAAAAAAAAAAAAAAAAAAAAAAAAAAAAAAAAAAAAAAAAAAAAAAAAAAAAAAAAAAAAAAAAAAAAAAAAAAAAAAAAAAAAAAAAAAAAAAAAAAAAAAAAAAAAAAAAAAAAAAAAAAAAAAAAAAAAAAAAAAAAAAAAAAAAAAAAAAAAAAAAAAAAAAAAAAAAAAAAAAAAAAAAAAAAAAAAAAAAAAAAAAAAAAAAAAAAAAAAAAAAAAAAAAAAAAAAAAAAAAAAAAAAAAAAAAAAAAAAAAAAAAAAAAAAAAAAAAAAAAAAAAAAAAAAAAAAAAAAAAAAAAAAAAAAAAAAAAAAAAAAAAAAAAAAAAAAAAAAAAAAAAAAAAAAAAAAAAAAAAAAAAAAAAAAAAAAAAAAAAAAAAAAAAAAAAAAAAAAAAAAAAAAAAAAAAAAAAAAAAAAAAAAAAAAAAAAAAAAAAAAAAAAAAAAAAAAAAAAAAAAAAAAAAAAAAAAAAAAAAAAAAAAAAAAAAAAAAAAAAAAAAAAAAAAAAAAAAAAAAAAAAAAAAAAAAAAAAAAAAAAAAAAAAAAAAAAAAAAAAAAAAAAAAAAAAAAAAAAAAAAAAAAAAAAAAAAAAAAAAAAAAAAAAAAAAAAAAAAAAAAAAAAAAAAAAAAAAAAAAAAAAAAAAAAAAAAAAAAAAAAAAAAAAAAAAAAAAAAAAAAAAAAAAAAAAAAAAAAAAAAAAAAAAAAAAAAAAAAAAAAAAAAAAAAAAAAAAAAAAAAAAAAAAAAAAAAAAAAAAAAAAAAAAAAAAAAAAAAAAAAAAAAAAAAAAAAAAAAAAAAAAAAAAAAAAAAAAAAAAAAAAAAAAAAAAAAAAAAAAAAAAAAAAAAAAAAAAAAAAAAAAAAAAAAAAAAAAAAAAAAAAAAAAAAAAAAAAAAAAAAAAAAAAAAAAAAAAAAAAAAAAAAAAAAAAAAAAAAAAAAAAAAAAAAAAAAAAAAAAAAAAAAAAAAAAAAAAAAAAAAAAAAAAAAAAAAAAAAAAAAAAAAAAAAAAAAAAAAAAAAAAAAAAAAAAAAAAAAAAAAAAAAAAAAAAAAAAAAAAAAAAAAAAAAAAAAAAAAAAAAAAAAAAAAAAAAAAAAAAAAAAAAAAAAAAAAAAAAAAAAAAAAAAAAAAAAAAAAAAAAAAAAAAAAAAAAAAAAAAAAAAAAAAAAAAAAAAAAAAAAAAAAAAAAAAAAAAAAAAAAAAAAAAAAAAAAAAAAAAAAAAAAAAAAAAAAAAAAAAAAAAAAAAAAAAAAAAAAAAAAAAAAAAAAAAAAAAAAAAAAAAAAAAAAAAAAAAAAAAAAAAAAAAAAAAAAAAAAAAAAAAAAAAAAAAAAAAAAAAAAAAAAAAAAAAAAAAAAAAAAAAAAAAAAAAAAAAAAAAAAAAAAAAAAAAAAAAAAAAAAAAAAAAAAAAAAAAAAAAAAAAAAAAAAAAAAAAAAAAAAAAAAAAAAAAAAAAAAAAAAAAAAAAAAAAAAAAAAAAAAAAAAAAAAAAAAAAAAAAAAAAAAAAAAAAAAAAAAAAAAAAAAAAAAAAAAAAAAAAAAAAAAAAAAAAAAAAAAAAAAAAAAAAAAAAAAAAAAAAAAAAAAAAAAAAAAAAAAAAAAAAAAAAAAAAAAAAAAAAAAAAAAAAAAAAAAAAAAAAAAAAAAAAAAAAAAAAAAAAAAAAAAAAAAAAAAAAAAAAAAAAAAAAAAAAAAAAAAAAAAAAAAAAAAAAAAAAAAAAAAAAAAAAAAAAAAAAAAAAAAAAAAAAAAAAAAAAAAAAAAAAAAAAAAAAAAAAAAAAAAAAAAAAAAAAAAAAAAAAAAAAAAAAAAAAAAAAAAAAAAAAAAAAAAAAAAAAAAAAAAAAAAAAAAAAAAAAAAAAAAAAAAAAAAAAAAAAAAAAAAAAAAAAAAAAAAAAAAAAAAAAAAAAAAAAAAAAAAAAAAAAAAAAAAAAAAAAAAAAAAAAAAAAAAAAAAAAAAAAAAAAAAAAAAAAAAAAAAAAAAAAAAAAAAAAAAAAAAAAAAAAAAAAAAAAAAAAAAAAAAAAAAAAAAAAAAAAAAAAAAAAAAAAAAAAAAAAAAAAAAAAAAAAAAAAAAAAAAAAAAAAAAAAAAAAAAAAAAAAAAAAAAAAAAAAAAAAAAAAAAAAAAAAAAAAAAAAAAAAAAAAAAAAAAAAAAAAAAAAAAAAAAAAAAAAAAAAAAAAAAAAAAAAAAAAAAAAAAAAAAAAAAAAAAAAAAAAAAAAAAAAAAAAAAAAAAAAAAAAAAAAAAAAAAAAAAAAAAAAAAAAAAAAAAAAAAAAAAAAAAAAAAAAAAAAAAAAAAAAAAAAAAAAAAAAAAAAAAAAAAAAAAAAAAAAAAAAAAAAAAAAAAAAAAAAAAAAAAAAAAAAAAAAAAAAAAAAAAAAAAAAAAAAAAAAAAAAAAAAAAAAAAAAAAAAAAAAAAAAAAAAAAAAAAAAAAAAAAAAAAAAAAAAAAAAAAAAAAAAAAAAAAAAAAAAAAAAAAAAAAAAAAAAAAAAAAAAAAAAAAAAAAAAAAAAAAAAAAAAAAAAAAAAAAAAAAAAAAAAAAAAAAAAAAAAAAAAAAAAAAAAAAAAAAAAAAAAAAAAAAAAAAAAAAAAAAAAAAAAAAAAAAAAAAAAAAAAAAAAAAAAAAAAAAAAAAAAAAAAAAAAAAAAAAAAAAAAAAAAAAAAAAAAAAAAAAAAAAAAAAAAAAAAAAAAAAAAAAAAAAAAAAAAAAAAAAAAAAAAAAAAAAAAAAAAAAAAAAAAAAAAAAAAAAAAAAAAAAAAAAAAAAAAAAAAAAAAAAAAAAAAAAAAAAAAAAAAAAAAAAAAAAAAAAAAAAAAAAAAAAAAAAAAAAAAAAAAAAAAAAAAAAAAAAAAAAAAAAAAAAAAAAAAAAAAAAAAAAAAAAAAAAAAAAAAAAAAAAAAAAAAAAAAAAAAAAAAAAAAAAAAAAAAAAAAAAAAAAAAAAAAAAAAAAAAAAAAAAAAAAAAAAAAAAAAAAAAAAAAAAAAAAAAAAAAAAAAAAAAAAAAAAAAAAAAAAAAAAAAAAAAAAAAAAAAAAAAAAAAAAAAAAAAAAAAAAAAAAAAAAAAAAAAAAAAAAAAAAAAAAAAAAAAAAAAAAAAAAAAAAAAAAAAAAAAAAAAAAAAAAAAAAAAAAAAAAAAAAAAAAAAAAAAAAAAAAAAAAAAAAAAAAAAAAAAAAAAAAAAAAAAAAAAAAAAAAAAAAAAAAAAAAAAAAAAAAAAAAAAAAAAAAAAAAAAAAAAAAAAAAAAAAAAAAAAAAAAAAAAAAAAAAAAAAAAAAAAAAAAAAAAAAAAAAAAAAAAAAAAAAAAAAAAAAAAAAAAAAAAAAAAAAAAAAAAAAAAAAAAAAAAAAAAAAAAAAAAAAAAAAAAAAAAAAAAAAAAAAAAAAAAAAAAAAAAAAAAAAAAAAAAAAAAAAAAAAAAAAAAAAAAAAAAAAAAAAAAAAAAAAAAAAAAAAAAAAAAAAAAAAAAAAAAAAAAAAAAAAAAAAAAAAAAAAAAAAAAAAAAAAAAAAAAAAAAAAAAAAAAAAAAAAAAAAAAAAAAAAAAAAAAAAAAAAAAAAAAAAAAAAAAAAAAAAAAAAAAAAAAAAAAAAAAAAAAAAAAAAAAAAAAAAAAAAAAAAAAAAAAAAAAAAAAAAAAAAAAAAAAAAAAAAAAAAAAAAAAAAAAAAAAAAAAAAAAAAAAAAAAAAAAAAAAAAAAAAAAAAAAAAAAAAAAAAAAAAAAAAAAAAAAAAAAAAAAAAAAAAAAAAAAAAAAAAAAAAAAAAAAAAAAAAAAAAAAAAAAAAAAAAAAAAAAAAAAAAAAAAAAAAAAAAAAAAAAAAAAAAAAAAAAAAAAAAAAAAAAAAAAAAAAAAAAAAAAAAAAAAAAAAAAAAAAAAAAAAAAAAAAAAAAAAAAAAAAAAAAAAAAAAAAAAAAAAAAAAAAAAAAAAAAAAAAAAAAAAAAAAAAAAAAAAAAAAAAAAAAAAAAAAAAAAAAAAAAAAAAAAAAAAAAAAAAAAAAAAAAAAAAAAAAAAAAAAAAAAAAAAAAAAAAAAAAAAAAAAAAAAAAAAAAAAAAAAAAAAAAAAAAAAAAAAAAAAAAAAAAAAAAAAAAAAAAAAAAAAAAAAAAAAAAAAAAAAAAAAAAAAAAAAAAAAAAAAAAAAAAAAAAAAAAAAAAAAAAAAAAAAAAAAAAAAAAAAAAAAAAAAAAAAAAAAAAAAAAAAAAAAAAAAAAAAAAAAAAAAAAAAAAAAAAAAAAAAAAAAAAAAAAAAAAAAAAAAAAAAAAAAAAAAAAAAAAAAAAAAAAAAAAAAAAAAAAAAAAAAAAAAAAAAAAAAAAAAAAAAAAAAAAAAAAAAAAAAAAAAAAAAAAAAAAAAAAAAAAAAAAAAAAAAAAAAAAAAAAAAAAAAAAAAAAAAAAAAAAAAAAAAAAAAAAAAAAAAAAAAAAAAAAAAAAAAAAAAAAAAAAAAAAAAAAAAAAAAAAAAAAAAAAAAAAAAAAAAAAAAAAAAAAAAAAAAAAAAAAAAAAAAAAAAAAAAAAAAAAAAAAAAAAAAAAAAAAAAAAAAAAAAAAAAAAAAAAAAAAAAAAAAAAAAAAAAAAAAAAAAAAAAAAAAAAAAAAAAAAAAAAAAAAAAAAAAAAAAAAAAAAAAAAAAAAAAAAAAAAAAAAAAAAAAAAAAAAAAAAAAAAAAAAAAAAAAAAAAAAAAAAAAAAAAAAAAAAAAAAAAAAAAAAAAAAAAAAAAAAAAAAAAAAAAAAAAAAAAAAAAAAAAAAAAAAAAAAAAAAAAAAAAAAAAAAAAAAAAAAAAAAAAAAAAAAAAAAAAAAAAAAAAAAAAAAAAAAAAAAAAAAAAAAAAAAAAAAAAAAAAAAAAAAAAAAAAAAAAAAAAAAAAAAAAAAAAAAAAAAAAAAAAAAAAAAAAAAAAAAAAAAAAAAAAAAAAAAAAAAAAAAAAAAAAAAAAAAAAAAAAAAAAAAAAAAAAAAAAAAAAAAAAAAAAAAAAAAAAAAAAAAAAAAAAAAAAAAAAAAAAAAAAAAAAAAAAAAAAAAAAAAAAAAAAAAAAAAAAAAAAAAAAAAAAAAAAAAAAAAAAAAAAAAAAAAAAAAAAAAAAAAAAAAAAAAAAAAAAAAAAAAAAAAAAAAAAAAAAAAAAAAAAAAAAAAAAAAAAAAAAAAAAAAAAAAAAAAAAAAAAAAAAAAAAAAAAAAAAAAAAAAAAAAAAAAAAAAAAAAAAAAAAAAAAAAAAAAAAAAAAAAAAAAAAAAAAAAAAAAAAAAAAAAAAAAAAAAAAAAAAAAAAAAAAAAAAAAAAAAAAAAAAAAAAAAAAAAAAAAAAAAAAAAAAAAAAAAAAAAAAAAAAAAAAAAAAAAAAAAAAAAAAAAAAAAAAAAAAAAAAAAAAAAAAAAAAAAAAAAAAAAAAAAAAAAAAAAAAAAAAAAAAAAAAAAAAAAAAAAAAAAAAAAAAAAAAAAAAAAAAAAAAAAAAAAAAAAAAAAAAAAAAAAAAAAAAAAAAAAAAAAAAAAAAAAAAAAAAAAAAAAAAAAAAAAAAAAAAAAAAAAAAAAAAAAAAAAAAAAAAAAAAAAAAAAAAAAAAAAAAAAAAAAAAAAAAAAAAAAAAAAAAAAAAAAAAAAAAAAAAAAAAAAAAAAAAAAAAAAAAAAAAAAAAAAAAAAAAAAAAAAAAAAAAAAAAAAAAAAAAAAAAAAAAAAAAAAAAAAAAAAAAAAAAAAAAAAAAAAAAAAAAAAAAAAAAAAAAAAAAAAAAAAAAAAAAAAAAAAAAAAAAAAAAAAAAAAAAAAAAAAAAAAAAAAAAAAAAAAAAAAAAAAAAAAAAAAAAAAAAAAAAAAAAAAAAAAAAAAAAAAAAAAAAAAAAAAAAAAAAAAAAAAAAAAAAAAAAAAAAAAAAAAAAAAAAAAAAAAAAAAAAAAAAAAAAAAAAAAAAAAAAAAAAAAAAAAAAAAAAAAAAAAAAAAAAAAAAAAAAAAAAAAAAAAAAAAAAAAAAAAAAAAAAAAAAAAAAAAAAAAAAAAAAAAAAAAAAAAAAAAAAAAAAAAAAAAAAAAAAAAAAAAAAAAAAAAAAAAAAAAAAAAAAAAAAAAAAAAAAAAAAAAAAAAAAAAAAAAAAAAAAAAAAAAAAAAAAAAAAAAAAAAAAAAAAAAAAAAAAAAAAAAAAAAAAAAAAAAAAAAAAAAAAAAAAAAAAAAAAAAAAAAAAAAAAAAAAAAAAAAAAAAAAAAAAAAAAAAAAAAAAAAAAAAAAAAAAAAAAAAAAAAAAAAAAAAAAAAAAAAAAAAAAAAAAAAAAAAAAAAAAAAAAAAAAAAAAAAAAAAAAAAAAAAAAAAAAAAAAAAAAAAAAAAAAAAAAAAAAAAAAAAAAAAAAAAAAAAAAAAAAAAAAAAAAAAAAAAAAAAAAAAAAAAAAAAAAAAAAAAAAAAAAAAAAAAAAAAAAAAAAAAAAAAAAAAAAAAAAAAAAAAAAAAAAAAAAAAAAAAAAAAAAAAAAAAAAAAAAAAAAAAAAAAAAAAAAAAAAAAAAAAAAAAAAAAAAAAAAAAAAAAAAAAAAAAAAAAAAAAAAAAAAAAAAAAAAAAAAAAAAAAAAAAAAAAAAAAAAAAAAAAAAAAAAAAAAAAAAAAAAAAAAAAAAAAAAAAAAAAAAAAAAAAAAAAAAAAAAAAAAAAAAAAAAAAAAAAAAAAAAAAAAAAAAAAAAAAAAAAAAAAAAAAAAAAAAAAAAAAAAAAAAAAAAAAAAAAAAAAAAAAAAAAAAAAAAAAAAAAAAAAAAAAAAAAAAAAAAAAAAAAAAAAAAAAAAAAAAAAAAAAAAAAAAAAAAAAAAAAAAAAAAAAAAAAAAAAAAAAAAAAAAAAAAAAAAAAAAAAAAAAAAAAAAAAAAAAAAAAAAAAAAAAAAAAAAAAAAAAAAAAAAAAAAAAAAAAAAAAAAAAAAAAAAAAAAAAAAAAAAAAAAAAAAAAAAAAAAAAAAAAAAAAAAAAAAAAAAAAAAAAAAAAAAAAAAAAAAAAAAAAAAAAAAAAAAAAAAAAAAAAAAAAAAAAAAAAAAAAAAAAAAAAAAAAAAAAAAAAAAAAAAAAAAAAAAAAAAAAAAAAAAAAAAAAAAAAAAAAAAAAAAAAAAAAAAAAAAAAAAAAAAAAAAAAAAAAAAAAAAAAAAAAAAAAAAAAAAAAAAAAAAAAAAAAAAAAAAAAAAAAAAAAAAAAAAAAAAAAAAAAAAAAAAAAAAAAAAAAAAAAAAAAAAAAAAAAAAAAAAAAAAAAAAAAAAAAAAAAAAAAAAAAAAAAAAAAAAAAAAAAAAAAAAAAAAAAAAAAAAAAAAAAAAAAAAAAAAAAAAAAAAAAAAAAAAAAAAAAAAAAAAAAAAAAAAAAAAAAAAAAAAAAAAAAAAAAAAAAAAAAAAAAAAAAAAAAAAAAAAAAAAAAAAAAAAAAAAAAAAAAAAAAAAAAAAAAAAAAAAAAAAAAAAAAAAAAAAAAAAAAAAAAAAAAAAAAAAAAAAAAAAAAAAAAAAAAAAAAAAAAAAAAAAAAAAAAAAAAAAAAAAAAAAAAAAAAAAAAAAAAAAAAAAAAAAAAAAAAAAAAAAAAAAAAAAAAAAAAAAAAAAAAAAAAAAAAAAAAAAAAAAAAAAAAAAAAAAAAAAAAAAAAAAAAAAAAAAAAAAAAAAAAAAAAAAAAAAAAAAAAAAAAAAAAAAAAAAAAAAAAAAAAAAAAAAAAAAAAAAAAAAAAAAAAAAAAAAAAAAAAAAAAAAAAAAAAAAAAAAAAAAAAAAAAAAAAAAAAAAAAAAAAAAAAAAAAAAAAAAAAAAAAAAAAAAAAAAAAAAAAAAAAAAAAAAAAAAAAAAAAAAAAAAAAAAAAAAAAAAAAAAAAAAAAAAAAAAAAAAAAAAAAAAAAAAAAAAAAAAAAAAAAAAAAAAAAAAAAAAAAAAAAAAAAAAAAAAAAAAAAAAAAAAAAAAAAAAAAAAAAAAAAAAAAAAAAAAAAAAAAAAAAAAAAAAAAAAAAAAAAAAAAAAAAAAAAAAAAAAAAAAAAAAAAAAAAAAAAAAAAAAAAAAAAAAAAAAAAAAAAAAAAAAAAAAAAAAAAAAAAAAAAAAAAAAAAAAAAAAAAAAAAAAAAAAAAAAAAAAAAAAAAAAAAAAAAAAAAAAAAAAAAAAAAAAAAAAAAAAAAAAAAAAAAAAAAAAAAAAAAAAAAAAAAAAAAAAAAAAAAAAAAAAAAAAAAAAAAAAAAAAAAAAAAAAAAAAAAAAAAAAAAAAAAAAAAAAAAAAAAAAAAAAAAAAAAAAAAAAAAAAAAAAAAAAAAAAAAAAAAAAAAAAAAAAAAAAAAAAAAAAAAAAAAAAAAAAAAAAAAAAAAAAAAAAAAAAAAAAAAAAAAAAAAAAAAAAAAAAAAAAAAAAAAAAAAAAAAAAAAAAAAAAAAAAAAAAAAAAAAAAAAAAAAAAAAAAAAAAAAAAAAAAAAAAAAAAAAAAAAAAAAAAAAAAAAAAAAAAAAAAAAAAAAAAAAAAAAAAAAAAAAAAAAAAAAAAAAAAAAAAAAAAAAAAAAAAAAAAAAAAAAAAAAAAAAAAAAAAAAAAAAAAAAAAAAAAAAAAAAAAAAAAAAAAAAAAAAAAAAAAAAAAAAAAAAAAAAAAAAAAAAAAAAAAAAAAAAAAAAAAAAAAAAAAAAAAAAAAAAAAAAAAAAAAA//jFCABvQgAJAAi1NkaGBmSRZQdlxQWE6CA4KaJfRRdiDltwZg0EpsnRhRAKoPCTqC7CAoMc83VBL61DnaYRISoc43EdL14IUpkK0JF/CohAIMj9CXtoOBRGlYEvmqYV60eWKFJ0hIN4ROBgjZosvzHVOKui5wizW4RietfMzsJNRXOYsgFGgaKFJQI8ehx9kaqtYh4m4NeQRFkWl+kGdKTCpEloIIKciwk3mPSQVjf1WC1jGFmrEFcaSECqWQizV/ETaimfJDE+2fT6AcUJH/g6kyYRbCGm6phAinysv3CHQn+MF6Vq/rlRKWfeI+9dvVm7phEQevKxQhSo9OckkgIlKMtURvenurGErZFrTvGX8zbsvndGZpK8lsGFFTO0smax01WSnHIqYRkScrITeEOqMSS9hHro15MMEZKGPCYycQ4QcsmMyyGSbNSxwknOJkxH4TFpBweGCIEey8YY1h70eoZGHdRiBcbJL70gwEkiNGrjCPXWiI4NShTyjBshRbTG7hu+GQg2KouC5ASSQfzn5heQElYRSzUQTHefNp0kIKcrVTqxBKCanRhjGYRHhsxvMROiyNucFWEoYjIvKbC/E5mXMIiUcpRGjGGTtsdQqsTTIi/FWkhrystIdCMkMOYyXkQww+lFhlImZiqfqEnIRFgiT8IhKRZ9aiH8p8QRiLA6FJshBEhcT5dkAmHmOCiDSqhROCunEIN2j9v6Z3E2iL4ZSQl8JsqQMZ8I29SLPmikSDazO/K2aEMnrZyEQzZoXR2kSwsWcRFJlJlLEMJLLSY2zCLKvYRaiIxZyMcREOldWJUEheiuI2ohsy0tLDIzCF6TTJ5Uct6MxrI1HYE45ghtyMtKwIfSmSQnqvkRjUyFIaRAyKWZEqY0R6666IhmTlTs9Ia3tGRsm/ZQq7fEZWd5SQIINjJ4mYYiM62V26GiCp29TBNlRFbIZEhokJVCSiLi34XS1KvwlSiN8uMcjQRIgl8qUiJftkTVL82IyCdJRFZg3akpMirAsXLEaU2TkPiRxIcRdeqW7hJPK9oXPFJvsUiLs03vyIyDdvkRps7CVFRW5GRjUiIiWmWpza/JITUuPq7v1zVVzTEW4qaxmJAk7Cp4WVhk8QnKjKnZSZGg1ZCEuGpGa6pNEVokSx/Vk0uv2KTDjPpf8eLhDp/Ot9ib/t9787E0Zqjp+mk7ISpNDGXMpuaLU24kSXNSFVOtl1SmQ63YqnkkefC/PFdpjpCWp8uprmIyRD1VSGJE7O3ckpswkQ3pm8SLCP8bsrdaquk7JI10eJDdMik0R00QfFk/SaNVluJ8cjJm4SMrVlnUkyPudLOWkg1abfz3MJkG7fw8lQsJNzTyx0dEoiGaG1dE/jNO2KyTWSTLZEiZtd3rI0JUbyXfp420ZbmJyTRrMsaIhJZU5O1o2zdsJVwj1jWwlR/kpEdOIdks6wmkIlYbZnT/eZFqS1Hvm6EZBPufLEhDIStCo6iWw2qTW5sjHhqmeJNzJHTGpGcRWWI1SkaQlNMylk9uSJ8neY2kEpNLtVt0bJJtX9tqk8a6miNaprVb5tBIqIqdzV8ysZoRPzcvb0hMTWkfVbluim+SYi60kQlxc81RJktn/fSWa6ZUzrJDPCRc0S2rZ2QlIMVKiwsaTGWJxZCrnz7RDsrMiK15OSnRujkXEsvo+WK2zGJLeUjcamuTb7uQ1+ucknRGbovZl25hxKj8kVK9p1dKlQWpjo9q8ojyaoZNcyolrZI0TTTGlNvp0IhRE1pGSQmppqRCInZJy/urVIxP4oWPJ2IJN4sy3tmhIqM0jJzRYak/Rc3+RjaKxKyZqxKzbYmbp4lDKEVKjrfLkRdEqFaWXkk7EbfWxYiy6NG6ptXysui5NjaNdro0ZDZKJ501SeZIjZsSkEmJ/KZlIZWRsUl6OhO+PERMixdnI6IUkEQxJXea0kEI01L72rNDMbIRpf8TITpKJeRYVlgnTc3uluVEa/W+WeW+SXZ9pEM2RNESOmZCep5sRvCLJKykVkREhNmSt1qw3ZEuL/VFomNmRYqJDJqkZBLPp27fmajKJ2R83upJ9sjcjGMSwh6SuZ22EeEqU3spvbN4nQlpolWkvQkJZny7ym8kzkqW0mIRtLt8m0n9kzmOhM7O3/iNEyfImb2pkhfejwj9JFVq6G2yJSRCJky6oz4yXbs0VFStMbfEbNFk9QyiJUafJ9ey0nImdpN4jyJPt4z+clr22Ujoh2Zo0bo6a7qEVINWRFIv1StPEly15lwROgTS3VdLkL2pPULIXLdY0T4lJlSXD6Ku22eFR9bLopJ2wyRhp2QiYiJr6qOtaboVk+zNsb4yXYkQxIS5W5ZxYVSMi45OnVGxCdqhLCI1b37Mvq6eST5WySlaI43ETEVKiFiaxqTwKjnZXhb4jaL3bWpmQlZYsESEqHTnGVb9WveOahJEaY+7IbIkl+vmzNEpKsPb6asJyKjpbF2Mg1aUik1SiIS7zsaErR0LsqZF1SJvKxEyYiIJnGWdKx2V4SJy7xWXT5OTwkokIxkm3jbRdN5k+t3sRRuI3aIyJJURE1meppUqO2yLOQyIZmIXkfQmGQiLUmdOhJr2JIk5IkITZmZsxBrhPF93VjNo3sWolEJs3tQpJIRd66dIRLV1KuWoi2V1ROZMRKTQmuJMmQSmhGE1vSxs0SI+kiSmVGl1apIvKRGaJbzloPL/+MUIAWhC/+D/1LU6nieKXy94fg8fqtunuzspGxiIiVM1JmRiLiJJeTG2SpUyVEiZBkiWshpuiczW2W5mzKUlXW50SOZfUI+IXI5RpCL917o+FbP6FJeme6rqTjCiO0m2f8mYtpXjt/4utmlxMYltGlnqxfPe7V1it092+bhHGkjPfidCwl6nfufnyV4eLb8SRJ6i38qBRhaUUqhXVQVCv05//ti7JEiXRKZjeSKIkV2imnkfz2bSpvtPrVyTs6Ff4i0r1+6hVKV8dH47nVVqryoil/ljOS9DUtQ20JibVKRRGmsZt0S5vriK3+S/1UkLl51KeO53ha9C97lWHt5E3SXMLpbnlK1W9TSqnIVNuJNETDSNYQlyxKSItNuz3S4k0y8pogwUrGvxFP3ZYRn5bUM9l6Z2iTtVhJyolZsx43siNbE6R3NVNkRakRTXGiEybRjbEJMibtEd4jpXnKy2w7f2eopEWJscRG5EXQZMzM1pNjcTCZ2JGkEOMkGXpejXZdyORY3+ZyHTVRrBxH6FiLvL5Vy6ahIt2SM2IytjZGzETG2cRMQyTM2fGRNmYq61F5rUpbtCMRSdGQlZCV22OnJ5nhDyQ3EifQJ0RFBonSFmuKI71Mt1nzIbFGglJEZNc1181dP2qea9kFMbNkJ0QLCMhkiUh2WJ0rEIkTomMwiUhobcnEMykSkTtDN0bKM7EMSSjTkjba/VuZZiRYk2TEdJNVEibJ2eRMajcmUTEcjdmolJWxWsVyTtEnmX9jf1nsYu+iVeKcyvWhZZnzkm9bxGXtt6gpNMqdKi7QkyVonyXESQqTeFyiectJZTQhPRCfQhHNlZNYn+1Ukzia9OliTImKSm6aQkat2iaNyJGxnZiZkRnGiJOJoEY7JdIyZuk3y2tPuX+a5+dNbYUTjsufkCzI7+Oq5vVb50m2+xHpNqapGyIUSRWR1xP8Ze0vSrmJVZZk+UYUlUjklpEUZ9IRjQmjGqEvNTMGXSE2XIyOS6Wq1zkY80mqkVrkVkjxJmOTNyeK8k9+mKzC8ikpoxMiGJENCEZM2k+rSpyL9hCpUuzISM2IqZOm15EZ/oTe7GqSkJET2e76RM/011kwmTGURhKNjUmhDJiSI+IpOI6yUlhiwlEqCMRCMStia1iTJKkWS8VNG+LHMc2saGZMNEEjCRsxiSESIysjNbJDOMkJ/mdG6VsvM/qdP0qpIWliC7Z0pW930WJCJpkiFTZW1RkbwxYjpLHY5K98LOTFYq/KFMtqmKfHliwrsWbN0e1HiMjSZTRCMS5LkRFJCVPW3R0bpJJuRtKV3R1J4furnln7nHPXEdKrj1m2wpRf3EYvx1HiS7lUOg7DNO49yJogtPa+djBWoUVwLPos4KPDwL6h6Cx8tF8nOkXRM3dOUpmTrFzCiHIYnU7incm1/aqIi3pmqcivTMoVTySKVyDSxadKQ7vCQLN04cKU8eDxsiBRxEiT0mluEcmlr9C/VJq/amkUZAkn9Xw5KVpHvZZzBrmIbTXXp5g1rb5UjV40ENcdJhd2ZoYJKFxdXdeeW3V1m7iN6Rs5BEztOSRT0kypuvliTSJM2vBAQshGrLKOoKNWawR3LTeWmIIQJouq7KamrT/V5xSSSJvYgtZGG8J4RKSTbchxVUznM/EKfTKm8e4SeXOq+3UWIYXRfqgY0pCF3JLJGDt5hQWBwJRDrrZAoHBAtMmZX0w8pfOssq7Os5ers3cXzUaKNGxcCpVNogBgCw8RDo6XTg4IBJXUS1uxQpZGx4ouZlIzJfTo8ECjgzEYzo8FxkeaxvaydZkIoCCAyrKGMycswNEA24hMa6ToqOtLlLtvQsLGnVbtrbYqKiJtf+z7oECgi+TNf3c8BR1FrAQkKOdL69JRK/FYxK+RKKwrGIKReHoTgWhyD8KRK5FsYmj2208uy4efSTaVj3ULXQrHUL0ZxVEUYJLEs1HYy382W8yni9SUcjHVCSS6KXbMe6vYKKXSSVaOy6QXyVUSJQ6Uzfh6fByGZ4/P7PxqCmad+tRVbfd4yHueQkqZMTFnJFZGJGXLTdg6QKgdIooxo0bptK3wIQAFCAEkAlErWk6aIoyUgaoGYEodZd1lPGRcWNlW/iF12lURDgZqupL0Zj1ACzCnnrPO4rGIb0jlGnMkZxlFfqL/Wg/G8rzLOhH22cu5QjTOBXdUU6RbsP14fK3dZxFmp7r1PCoPvWO6xcCaCfaZeb2dW9tCw/AfdrxsY0k8EsEmHJRYAC4gCRA4zCFhrna6VmlVMA7YbE8zdeJ7/bSO32klrJfyvH49OXM0LvLEoFQb91j2QUEMQGrCNCYEIW6uFKcgpGa06pcGPXyrVqqjcpimJ4qrChqjQTKP+nmeUK02DwvOuKedL5+o53nen43miV/tIJKVMFI7K7ONE3nZpHMuDbhoWTjxR+pvpJrzaMBTAAogAwAYB2ZEK1ynT13Sk9AnIFGMyy1cf9mmhAoSyTXdMiYLSNZblHE8xrXacWl42no0gTgKSFkCSG7US2tPtV6Mt56haTut2SGVmS2vXIeHmWCd8i6hUGz/DN4UjSMV8142qTRTmJWxe6O0o8Tzq13qlWkGlsnNhPZ79R+eIJiRaT7IL9NRtQlVVZiGagXaPwJ3YhkJmtF9qmJTuAnURy5xUGMvhWOStrXKN9tdj6PvDRScUvpMwnvvz1GW8s/kkGPHbiGDuCLkQqa2DijNLYHkP/cct5CGa+J8f+V9H7fH9k4qx+uFfypFS+h9fyLEuF1MrsdO4FNi1fGb53pyqkGp+jL7lH1uFe+jDbT/k02HX0fOoRrAqbpOC+QbiEDljJ7Us1urWyvLRow9Q7MsNPa2H6U75CvTJzDUmlHtjcPntf6NtyJJRUW/Frq8bR5gWYG/AqoaQWExJH3vtTW/gjuCiCBHoOKQlcrqSlymX6kirjvNJCUEeQdV///2zNbqY5o379sOqinJb0tkJcpmJtZLZ2YhU1X9BNw7C3HPnPlCiCQrUVilgHvAMCBxQ1wSIUNDpn4qn52FCmiqC3i0hSn4LBEymLvzbWZqJfOta3ptpJoXpyETV3875TZ23oGEtD9hRg7wfEL0SV1KkZr20p8wzmH4F0PulZDKZWXlemXl/pngrgN4m6G6Vnn4//7Gj8tp29r4oTOK+rFQbYSDydy+xEYsMjeBy5CbuQWqrd17mxo5UMAhBASoNCMKGWCKmdZyjGU1sLOtqiluEZdhceG0DF7azGzgW1lVldujqRzTwsyo6DI1SOl9GfaOOJgJKNmPOImTV5lETHM863nafaKI5zPKqzvd1Sr17FKt54vLWJ3lJ1ncVVEGQobTolaZpCtiXjzSpY7ARkXsnrxm9MeL6H3EjSejotkScsegruizkZ3bvCTGSLAeI9xFE2UhKihFGtklTZmEI3ns8yUVrmkpZcjqPkN1NzXjgaKfaWZ//77fAYBbCtIx4HSdi1IlebvXl2RchRisgv4pGRYVbwiBX0PvnuJONMl5s3iQhe3JPFMyIxKDpfgXAkvUVe1s0ddmVnI8UWP9e+uWZk9IHGGicY9TF9XHSPNEhm4JLm6+WKQU6dhLGYYBaMQhpEwpoQySXx8G14ElaUQsM+lZNZFxRftiuGMr3lNqhehHgoiJCqHQpyGp6sCmcJtuQGE7cdZHEL3cHUWqZQKcHmTAwxKL21MEqOFZDBVdqRmqcIXDOEuwqGOVVnXCLQ2or8E2OR9sgJfJOwdavEjWKKwjTdvoSF9W+HJGyO+/8fxrIbnCx5O+Hc6b4UghPuhywc4g5Fu3xFJVhFY2Eud/dcAnB1Y5jnkJyjSlvkf8NE5anJ6KoKvEimCNk2pZaGLZDEMuNsJKYhp9oiZvr3HHYXOuLUX8kXfq0VddwLvzLh+Gln7iHv+1wxCf0JAqxnlVdghqzDmi4JnJbnWIZF4vEcLHW53Uj7aVpFN9pbZf/PDV+rE0R82i+oMq5EkBQNRmVJYqNJkMB/+QZllk1psJXpW3v2Vr7dXumhrs/QBC+elTkqkqPywcSmNhKQbE+j27cuhiwpwS0U5acqeBn0S9usYwtomTzoxtqrKp+tEFQMgDwqM/4f4COgvQ4IlSZtmLg1pzwrwU0FaBEQVYOGPQMKqSQFLMMsf6kKxnCMmZ5fbnvK6vSrztQvbTpJwot25OzW1KWNMFnge4yLTQuO9u1fWf+rEpfOL1QETqXwHTMkn4gAoNEtH7Xo4I4xq3wRPtVfLziktJB2r3gig28jwS/KHIWQqhI+mkmsIC4Hbx+IM8CMkS/S5uQUsWQR+gIJuOfyKZoWS9tlm0xgqPXJMakuk1qFSWnXq9ZExhmQcJhZHB7BSqXN4j63wJ20l52t+zabQpG+dWbLHbfaOVjjnliatagbAv/4xQgCYVL+9P+Z/8b/H/8wAFsAfQBwACoAn7StjHAhoJhY6eX9rxcN962LF64xAWYoPjt22bNaof43AMaXxa/ubYiNy6W5uKDeWnWZuzmFheho4sTwPWHaNe5R/x6jKz/HZXtJHJz1CK6xJnx1Epk6JITPFKI2RwzpMLkLGHMCC6YaIF/CBWMRkThRVXMUgqWiHDEiMH1No2NdLsYdlIklaAQOyzVHmJOsDBgi39HpBQiepC3hFxOAoYoD5/hY2Q9/nGgBS5Iq4PBWHPDbt+94YDxFW4mjZBqQP1pJDyo5y/ZXenQ7T/lJJ+L+8kiJQLRqAPnGMEv1VMVeXDdqaExrgIjMadHJneTL77DFN+t1vFXzYvcTnwfmRfdtdrmcG1hgM/ESDNTlKaE1i3kgtzPUI9QpLTQzJFwp7Lq8NirlpmS7rZwBU9MJIVfi1DJlKmMVVNIXCwB/SYdSvP2GVr8vXxSICV6Wa4Qj3VitgKFlcepIMpGVXGoldC43RMd5ycLppfKsbwjMVPOP3JUhm7hoBc2ZQ0eLtGi9cLdrVpei+qiVqptC4czIsPvEaLj9kTEI1t4woRu0S1uDg+us6ay4zu6lTQ0tF0m7qVsEahaxDrxRSjn9OUa8yVyR3WWk2vIGTEjucbPkygjuxSBLt2XRWeLsGafi1ZZjU0aRwhNwz70zcwI3DsA/s+iBCnxOxRfwRShVrjXVpKLYwrGhK4hpbsk3EQ/wsYfeE3On0tgyxfm0GA2tFpkvNR9Kx4vWgSaY8TihSEKBsC7eqXen6R0ZqCwm/Es95eDpyAFltEeivDiaIwvPI8iGl6wgCH5mkOlsnrizqoJXO8f7XkXuQNVY5Xiwb47xS/7YHJEbVdy/fJJbQVmbo5erOkSSy5/ayp0YOi7BEWyVPCHiU0+I8JbY0gncJa7nwrhQwSyR5k9/0BAyqj1z5KrfW5aMCG5N0dyoBarduP4PTkXCJRkTe4sjaQb8y+DUzOfImOzGeHd+kwYgfIMKQKga0788HcsBpq1uTvK1lorwQOkxZvqIqEIiWuZdS+rN4AzrddM04vcnaX0+9Jm1c3XRHPK9xbxiGy5EE9KSUcu+Td4e0qj4ml+K8SV2+rzdXdcq+fyJjpytmMokqe81iJdkqoLYVukzAGh/pZkluHEYEmwq9B86ZEYqY2P3TBhmIJYAtuQeIKljlmX15VytNK4LPaZSS1ymjzxnBhfCcy2Dr0Nn/FE9CK4GzrO9zyYFoVexoLTo06vIWtJfWuJ2PT4jlkwrUL/NWS/+6tpmeaXU2HNKV+51JIi97s65dexa8tn2JojXC4TYgTbqDBEnuVGhNFM5H1dqbufUrHgP//Cg6AVm0qDinxjBmeENULzexBiid+jmtfk/NkRBqooXT+8QjFz0bGThXA61vHU5ZPBioVcQXJYIe8N1W4j8sghGB1MWakV03N23dUjSDKfDiGgr0YgyGhJOp/TSqDW47GNCT1LZDckkona1mhxoiZmeSNHFIG/xQqSLcrg/UJ0NTEGIV5dXiByrBYJS0Bv5LCKtP6lcNbBWC3ToxBk9J1VmIAfvi5ISm6Ymeh70/12ic6a/Aj0QYeShLUMgavphFB6dVESMTsVNGTFTuCumD4VqW7sDligLd1aFXMkGRWytrkaNRR1CcPeKMscTwriFPixKlN1xcT+QUIGCeHFo7jNyoXVplBg8ExalErOV1WTwR1g8ZhjFD1ucWIIeQaDxMxY13TOeUhyA0pMieCZqCC1ArKRCJCarBmYEgbIXlQTONjKN988B9SMPrsJlDJTod5H/jvt8mcm11haHTKE/9+YprZzWEObWFmyEpnhFCXwRCuap7If+2rpCGXXSkor9tp/bSSYzPo2DpuEcy11adOKF/oopCtRGLHdLuKWiwo5DJua6N9Eev3WjQa71GInByjIlyZbAxgw04kr+JQxt72tTUWP1eX7y5Gpu16eK2ZLxPmOstQbpiaY1VUtAs8VhHeu3QfZKo4izDrUyLelmQq7AiBA3ZAGvYCAofcU1BSGonuUKD6pyaFNruIKhyoIMKlgx1djhBBVzPLqMkgqMIgtfWW5XaAlDA4bpZFXUKzbQ0a7oreao8f59jKs7NHf+uru4xNqYc7+zI6dWQEJfVMW8ftPK9feYw0e6ybfK0upCZi6yFIKQRMrFpmWqdaX6/bPuLRVKU/V2xr2TK3rhgJf7JxG+F/LLvEe6q+bhCdwmXh77UIKmqISNhaFdi3yzZPPMb0Ver1l6Wt0BkyJx09ouPVGtcFLJ10Yci0GCFsQiIEUTXblk81ZsZ0JNFMrNYIA2llQILdik7LXfl8SE94Dkf1Ack8tPQSFa0lFpQ6+JYoqBxLgso15VxN2bSPeQQRe95LCjba2IcQ/gszbR5khE4IeIFaCDDnALMCbO+xA1jqgTBMi4CkGN3CRqhj6JOFFLmMSqlBdAOK0WATqlO9RbbKahUqXyKIejMVXXCSZhbE6hW23SaR2zdZAnC2FM9iBUCCLBTLV26hMM/q5rH//G8tHfXraMvcKdNRVbbE/IuZXQwYasKOaYGAFSiDp0YrAn203PLJSyPPRT7JVbcUki4G0J82bN1n+4a0exBWumqVOhwLrlkdqNmriVjMdT+KgW6cJtuPtZU8xe8hHIsnAkdalHgXqEFtpcHZHwTfTkVgqOPDlvSossfQj2bwfDFOipXLj5gVNG/YtV/QtzuqzJDq5n/S0xfBBnf+QjlCS7q45JMdj7ZeE9UXBdHMqjmHZenRR8GTnPnV+1DewEWY5X1SbZU87atbeTzWoKMMgq6rrnzqlP01uV9Djnm7Qhq5+t4uOry0q0Xt4q0tjakc3PHOtEt7EC7gkZFYgdQUahUzNZ0PNrBNqWXKXcXlbre8LRgY1PqYDc60SgvrU+qsywc2hg9lRdUPL6uWh3gwCEL8CUQ3FQulyEjlVztI23Q3yIOle5PLEo7x44Pfnx2p4mjIygcORpWH1GHedYwioirChXQooOjBwAuAAL4fsKS5Z8g51Jb8eNBhk8+qQqR2q0PSpIpg+EbxRJ4GNw4mxw94of49eLl+VL28Fyex2VWUB+BPGOhnzVGlPp6GSj9wR8iCNL1hXBj0gbxX+/oklKKTyd5l74vPWgvPHRJa87LjFn5GnJCMz8Q0wAForKHgWcGwrQdoFV9ZO9QSe1NEP8wKJuqJAYRzEpX+4hJHWmwifsVlbEl6NpvdrlRUM5vIyiCRE4NhLyD+FgHQ2EHzUK6zVMFS4WqMSh6qRP5wLU5WOZ7l7+lyLJuCTFoTaiHruJaJiekhJSyPAD4AmDnhMcAXp2PWHhtMk9MXYAnkRhcN9h0nA4ZJ5YI8XiIKUnjwPEbxV+LBLfA0Wdy8QLYWQmRPM4b1YXsK9KJNuNhNnwWTQ9m71qA9CycXO1ilw6eRS502PVVmyXqqbMqLXnnGtPyub40kDEAPBJBPePyGymYopW6vf7CxjQKhlqHgyMES4HHrabGWizPoDhbNCrze8XIIt1lo/DBQOxeYQKBG1tdQcpHG0qEbx3Y33OmNrkVmsP6iHXjsUev4zH8XOzCgrus4k5YSptWXcc0Wdy2RXcPIARgTBb9+m8KlqMisyS60e7CmKZSOLbZgUBzLJq9EQ5FuD3VtgelkHXuUM6FaQp/K1LIzqiAPwZHvoBwMsWZCq7zN1mkIgit6G3zv/bDT7WbSODpnRpLBb/3yEm/aEiZkWjIWMKNiqLx38BYAPI5hd4URdFO+w51+o+ayK8ZrEYZR5M4EMElVK4PqJ9VkvT9M+X3IVA7/ZqenTCN5gqxTW6LUkZK/d/qsYZysdRewoUi3uHuaC7JJonKoJxayqWV1Mikqh1exlVPeQN2SQseTsZ8iKuoGX4A+wuzrnVQTEwIlbF39edYuhWrUgyR93TPR6Opp/g6SzWfH80rMm1F328Oo0SI8plHvlLcg/H5VWNr1wGkW7Ce75eKWeTJTyjxoLPdqnxsP6rT/+zVJ9Ir6tL1oCb0w+pdEeMMeddf3PhwDmBzFyDvud/6kLzBC/zZByLJ0wyKet7SOc6OPJusLhB0p8EB/UWGRoZDoGU0kH8gv8cSIMKIkZBC+SlOS9y8OZf+g0mybRr0uXZg6RyoehPiuVIiEoYmMsNc5LYH9PDxzfmFQUvoUkduJvvrwtQB7vYOPRepbTHsuW/tF/fJCoVKSqF7fl9H4iUWgT9HekqlpfY860+ZmsUgXAapHEqlsrU4xmPY2gyjfmMdDH3TMHEu3soWGjGTUyOxV00Gq0QrSuLnKq9hvqlKTm7PetrQhER5T7mpWf+sUAJsDEcUIylltu49rW4hg8GuTdc6cXumE+p1jTy0ocSxePK9au2yAtHrV0R+erEYZCK1+MkdosxhUDm6/Yc1jAQyCcKCdaZpMyk9q536yOppf3psHbIieN3mQ+e9d/YnZF5eH6hCwqJyXjw55SiAAiQ8jKhFR1FvhIvdlzbEo23j5KFFobUyaLJRkeT9lCAPkn50YNd/WjPt0E7ka6E4lEr4mgHivi9xSgwUjhEKHor9tiBQ/TYbT3BPJSpPI55W/ZAYY96PTf3XlX/W14QdyVdMaM6LKTc15G3NAP0AIdPxv7uEaauOGOenROSuwwbyVTnkya3HCY6tyLtkGE+SohJjZLf4q8d54yiyUrTLUqklUGGQBp9PrsCqjbTdEsb9Fe1l3dKXSpbFEUW03EnM+kFl9talKgaxN9i5Y5p7UPZkLqFfGdEXF1QMYoABhp8/o74GkRntBibnCBMfmOd0J6mcvjqpHqiqlI++wjQgCajhxW7Z2nkbWZnVJSAlFE85fg4WCUO6KBlIv7fRZNicv5pv+QjPKwj7jE0szwzziof80Tz6nV/MqJMb6gpwSZuaaURMIeFfCejbn1tQALUBZBHROy6DUPfJx0z7Bp9uJsmXNR356FJBIFDbBAXMNYEY7hPf+gmiTuBIA65bYOLoobBo0NYUjFlUtagUEhxIOWmMm4yaqWZSeU5KxaHSy9n9/0MSpy01R+Ug99QQyPGXXE0KbiSrGOKJyCJipi0oJIOUPGJFcCz4rhkNoWa34wtIImyJ5mWHIXA0J91z5tZNOuiYt4Cs7EwiRqJkSoOLZLmHmJzvlSFASx430W3vmLNi+aUY1huZ6/v7DpNjbDVlbBTsFQNvDEcoj3EFk8JDNQ09/M+/es1N8HKrIJcaS+4cjGMRkQ+AefkWphxQrF83IiojjcracnjxCCckjzieeRfumn6uwTaEVEJqoQlP0MSx50ANj/Sesc8uLlh0BMhIOHLFWNxcSFQduFj2KaMlu5ZSHyg11zFWiTzxGXXeW9aNpXu8IIPcBUWl5bQmvGfM61IMqefMgBLBbUFBtQBBBH36S0+R1hpbcCiFkeYLWXzTUdqiZlWGv+3cM0TN3fVpoval6/RgYumA02PIiZyz8BbGCvhN30SgjWQsrmCYwbwLVXF3Ltu7xMcNEG/u1Bnk3y/I88v5ND9vRsbhDuAYqdHKWZdg/RqukBJYwAl4EQYxj7rmxcEW1Q9CaBTDrNSEPYxOYFsfsYbCEaR+iK2n3bJzyCNZJLVbJT7iTcY7FAWhHmY+PsWUGJhc00sKBIRq4VyO7ze5rNUtTa58OyxGzy3VY4X/nSpFq/DQAyecl0KHGOckTRXghAJ2WFOliHofmzQpyvr2HRU78E+G9uFJCzpeP4Fwv0t5JmpzMzeNmM8Nak7tez6OV5dCdkbkcFJ9IZpV7WHpFpbURTq3ur8uU95w9VHRTBJiQmen5kNvNccMq22k5d5r9hkqfI2SXYbc9Q9SLZ+q683PRLL4yawimnKtHLj06FFUVhKOBNSv9rWfc6pyjSP3bIpN3Pai1DCp5CXaVX0s+k9JJqSfjkYnmdHqJgO7YURhKVlUzIQEPr2mvmSNC2cwg7Wq3eYVMz3myj3uab7OMQ5R8xhBJ75k2zRxplzowbohM4XWJZW6EYBMH9nJ0axTMJ5I+MzaP412cryjmqq3avse/vOI9xV7Jq7NIUKaWXW4v4Q0AkCcgzyyzIq1Vza5fbpDYBEhCBHjwG6QhoxLhx+utULBdwkTEjthwu/8IcOE/IzNAgZ8WLYbK35cYwZwwgmvYshcmImC2fhHf6YG5oFdCwqqyfcyJWyfc7WcQy+5eiVlqtlMRiouOaEqpKiHR1aeBxa/hIn04t5daLM8G8pSQV8X6kRc9L7O5jknFLw9+J/pIT6XL8ySPIEIMAmYesD8B4xoDb3F7dxBWhHAPEGcdwyglAkU6hBzfUGSVJ1xAKa5SUEt5lCq8qLday0rs7cWKgbnQ29i1ky5gmtUgXFoDVP2LxKZXEWufT4LBu68/igjpYODInrOWWjf44m5DGPRB9VeJPV0BtvKU0wNP15e72Fp7YNWJH81sAKIAI3gA5eSbB7SjMmE+DZhVgfqEDLD5s2N49w2i2iDAroTw+zy7AYsoNCfFVksegD4+TaaEQgZ931GqY5DxHwNWSpYNEEMJzKXPAmdYTlru1Pw8sl1lWg5NYvJ/9cyPYun2y9r0CCcX12E9XyXV/xmlq+fsLKpvMf64XaxMA7oBkphQf6Cfi20nM6TeYgbSBNREEesqDQTZMJCrKwWP2Q70OIT7vtagm9Vgg03iQe2z0JnRVmCMsKJHuJGDWiKmZcgkXEXBZsy7fI9RwoU1aYNETqy9O1eaZSNkxZk9MyhS8lufXhNlG4Xk7IYWo3W/bReWui9WLyZF+tpxECBuhESnp8FfySLX6AtpTzJQ7xeh4ThRSbaCVArD1ac5UlMd0dbbdIhMMOtnKaqyxm9iy0be2cN7pFqVDICYKAIe9mB+Xds/h7VuwjbEckeTxb7Kaz5DdMimlE8CKLQZssNINjXlIKjec0n/3Rt20uk3GyE25kAnUl51G9oCOgNzgwBVoP6gtOliulDts+TAyRlQswnNz+XBQwfM1PAhEJwkINDZWnmsn917bqUp0Atyv/+MUIA2ZS9Pb4YPbS+gEC4Aj2BxcDEwUfDiC1MtatBJfwclieBb9kjz9JjUWSra+ym7KKoUisPZkhMm2ovWxhz+SN7HNE2rkBJmZDhFGW3MIEFv7RkRbzzUOC0nor3fZ5+3PeBaYZfVelHFiMwXPEHeAJEK1AIuh28n0AjFQgIEDQm/MwZGKLQIZUas6WFWT8J0gJOaGBI8fd8UOGMyE8Sne9ZnXM4k6IgIjmVP66W6FuGQky3baYtRFpEmtNkUUJb/MMJEVh7inHOGinuNZSd9TxWJKj3XKVfl4LNPklJ6c+oj7neMQp7VMonzlUnbs6Zdp/kF32VL0WWH4ZBYgG3iVwEewMH2ZA6IDDhVMHvSXIT+D+3KPj24R2VLG6d9nOhrJGUKuiEaEQmUjYtmTbXzgNwJ1hcSdTYbXcT3OGjtAQdqbU2oeQBRqVi9F1tHWLqVn6LJoM4njlNiSs2O4cap2mTqHciP0lOq6nzZ8qzkSYPzWyT0W2sooMeFX5UL6jf1O1lUg6g/vweSF/OiBWscfsGPyCnGOTLa7JGo1QtBOvIA4oqENXbiVgC7GXEehApEcC1lekh8S0vn62QJIl61so7ikUrfXMPUGXQ4Zq5PxDZnLQxQ3iKs3Fl/wsKe9CBSLUcYJM9BH65ZTYwrqiqjqeSoglWT6k3O6T0q0NU2ca2artv16V19L9K1r1FssYGdht4pKCvISJaQCgRehaF1GZBZb3EV4bNvNwZjIRkc4rNwO/fU1G2K5b1HZm0IjVdoluC3LgrFuki+DTnpSUfs1Pn5kEJvz1ejKUwaEdIZ0sqNe96GjvcmK4e5nrTOIjCuUJ27WuRUhnVSQXbd9xAlj5oobK5/v5Si1rJjb3+hz8wMLPCxY0B4ABNwuoJXAamGZs2HgOkqOnBdB61sPdm1ScjUs2XeWfy+DPGfwliOFhuHIXIvTbphqRWF2ndiC63bcy6Is5pr3pS3nKfyJEa9eUSYN+E4UzFSBGrdZd670SwgjBEmVZ2mn2ZZuDROqQ5eUbZ7Mv0dqFCUXe9h+6o9OOK3bqKqX/iDR9o/teIogCPAyyzQtkI/XbYV/QA2AYYPkSwiNMfNMKQNWKL8fpebMWRg6hN0VK3NrOXfzNTLnhYRV/v3rq/34nYi6oKdAU16LaGgIVusQtS5KhG7LOnwMs4VJR9M6jZshG7D06jH9slihJJvppa8TJMNYqHT6jqSHiUmlb/2lxCCgtoPiCYiXmQA0gBTjfDAggoWv/iBwYGJgzwB5AWzvMXmjQNVnyWqDIf4mixPc2jfdrki+hjx/UTjGCpi4F8aZHxQTo79BN9uM85RJmq5WIU5+iYKlXMnpYdwlMWhMqZRU58f1mWunNqYqHB7TsDjOGs6go4hivabkW1oqwdQqK+DuNErDyMTETgzL02qmFfH3LCVeuVWPpqLTvOBBAgJ5CGuefA/xCFhsVZSv/f44QQsRKHPYlN36u1INV/DGtXu0cGYGc+iMsrD5UlJP2ZojrEuJERh0N9ff7F84lXe4yEbrMRTFcL6Rqhw/IaL1c5vEa1l9vMlmEGpcblEjvaarG/5KSelBJ2eUW2SmTKSX9HcYKsJsrgklRaGbZVSkvBCuDvlnW9hDhl8a9sfE8XWdiwBdCLEcKM4KqFSkNk3qf4PDYZ6h2DZNKz/q9/19M/wxegxLHsXB2SLkUUpEMT0lFchND7xIj1PlXPOhKG1mCfJLFK0VkiWGzmEm0RxthniXdSSo2kqVsiVM6pyzqiTjuhvQ9IY8gZoAMADJFEHJJeXmnidi540K0BkgmSmI0KoLwxSfwuvtlK1s3pWmOELsRBSi1joh6xPyfqDfW+EmFQxzJv3r8iurw0lijBO0tTXFeKR5IrgapZKxBb4rRTHc9mnQn5wCQbDAJt/kExGIwWe1USmT6pjyarMiGVbRwvyVbtBYmzVfL12tl2l1lbw8ZgEdEAT2R2s+dVBqdb2tY54YcjT3McJa8CulO4Xm8eTHK9C4Z5BAiaohJFPhe6ifO/zkZhhrijrVWzDJ2NMWV0pPB2jaJFaWQdg0mc3l9u6R13nNIXA4DiQ16ShqrqEKZzKJFxLtSbUiy1T7S+WD2jUXCb0DRpie8Qc/75iIjDj4jphRwNSBiQiY+AATiQgRqgpljLcZqe+2WRRagVQc1KEJu+c0m5bf7oRh7F87yXUljEtI2ogmE3E6dY6N7tipqxdTWIeav/NO09btX7c4Zz3aQrVyjGkZ9d6JaVmjirgkC9EjSgSM1gqpu3Lv0wyaJY4jIJAl2rOe6yJsTxGbPW+agqDzm09tTi4dRvH1e2EjU4cj8+cU2JzQcF8AaQXo08UmVnE7mVP9yLSDpgj6YKHgonTisNZKnnA8zhoe+kQ4A5REPSF3B9QXMifpvMmFoDyDhfMSEQm+KhwLf0jsC4PAh0P8G2UqeRnl0C9INZLkmm41Js2pkByCRLN08fWCZEuWy3VaE6y1U64zado8yapX3ff+71G+8v7v/WbvPNjK3Kve+dmNn/8VcAQwGlQECBToY/3JRb+1oA/oCBlBFjkfkYGeJEKDMFT/t1QZyuGgF7PUh1/ozEvXl9IziI/iXkQNG7I3xxyh+ArXIxsmdRxFolCYI0s3LdNmcYySkTza4nRziF9xSnc7EH/cEszFNE/iwKhMoimfFtjTPZhuCm6A5+Z8dF0r4vnGTDLhayhsSJGHtBzZE1iE3ykiAbYAlYogeiCWyI98tjNcwC5geYfcQyMF88qYl6qGVt7SnW9H33IfOIUqJDZVJiqwdoWJykEW10WJSvLeOMealsVP1bRWtZtVVLYdyXWX2ytv9Uyopol5W3fdcVpCkMdoqzTrF7GM0sN+QZFV0x5NleSnOmiJ4zC31O97CedRllft+nhPSoJU73ve/C+0zMu1+b0zTRJKDxfwGYA+a4QmEP3UqhzkLmbMMugBTEOBFRw5wCSHMogwolZnZ9PYpEVw63hHxG/d0gg6jWKSaOlqEUzXKY+ATA5kCEXalfB6Dpf6eRyWdts2HtBTDOQMj5PYCVIQB4IbxasiXMgfilMiZKEu2/52RslDhIwlWr7ds2Jp4m6Ao51NWqu+tgqZpZS2SOSm2350KtnceZCVS2/PTMg/gExcEFZgoso8joaQZ1tkJc9pCxSR+FKONc8ZkZ5JFM8ME3CFtWnppOS1U582wthOkBCJkVdwfY1nor2CRJktxSO0U4l1G/eZpTGKV+LrpaDuEwewuxTuxn/LSGUMgbZzlI9SJbS3bpyigLBUVR7+IdZeolCcprU5DzWj5+K1GzNqeVa7BDC6giYK+E1MW+LxiYjHl1r9+XA8Qv1THhCb7c1wRAZQlUzQ1XezWeU5jWRFLXxR2nfSrXPn5dVUln/OyFgqjzbLR7MGYV1evaF6BDHBTtuFGUE4Q2Cr5wwhALrkYhja3PTC8C+ODZX+McQliqTEVDtonmJyHcJwkIqNqtZ6DAWCzESTcX2Q52iZj7z+0qSyK9vCRtw2xWcpp/R5xOyQpzR7Tmcg7Trf8XUtNqfwuyZSlyaq9BJoNNc4o1T0OFg0T23Agqf1e2Y6r0Oy1mJTyCaRELdCpDYnUDgai6WRcHYX2BHz/onmc3kFC7jITmtePIymAvEIpPRgPwonUXSsxNhxJqmvvJ+EosrGcq0SqZHFyoa9aLrusdwjlYJGiXi0rV4ROwoKS32lsWS0EpHlXVMoMrO19DCIaIS6eSYBLPToYkgiHdSjw1CiYd9O0Bx3Cusl0XQhcpyloRfZwRKlGjV1yl8WBYNRfc/1mehQv9ltNRIk7DZaS1JZtJvnmaaKiS3kbbYIch0E4egcpIMH6FWlEJqU85iSKJF3JpGkyCRKKjipoKUspThK0MOIb+HIIlBwfkR/ZBHnd3sqlSmZjjiZGZC+yd0Gwdz8/xpLr9Sgd1J4KyUqMRayh50VYcnKrp9CwxX1rQH1ef5yTE3am2bshQw35BGlN/2nkMi5aV4eli8Z8+xXFpa7ycnIkWJbkUvC7T0EAaTfQhBbgSAojLJuveIMYO5Y8at5SDqOAXufP8uFEQCCqlA8Z/OhXhbQm36hDjoGszZJ0cU4rqJl1ouSs6Z3rRolfysg/ou7CZCOu4Zz3TYkxUTLCJuCxjVRcXsyJFejACRjfy0mCkr+aHloQTIvpo8Aj2g4jZ7CFKYmqrVHMOo19aU0fKX63qEvP4oTExjLtM5GVrEk3P+WiezmmZeOrjKrei23rUsyNuERtXPd8JnnqYr6WM5tQN/ZNfidbERFisu9hTEkU258uxpzndhoS7FhYLWsVO9FEQRQQb2z47RKwVO88JoWYTCM1cwdZQ48OFo+oMMFHUuLhbQMxegC6t5XrlLw3f3SwQYAQE2BJRvAUmfvT7jLqOPIMGXPhLYtJscxxnoEvqfs8GBq6ymMikcgULboupWP57cBgP5ukVdQI4L7HJ9JIVizKyCG4X5juTXms+V4mpoys6OavXNLyiU6NYiF1dtfsr5mMPaNv2fE9qST1Aii2Vj7kIrxSwuchZY/wf6RQ33Q3jJ15dgnRMjFThyCbD9zJTfknTfZ/7hnIH092K+VSZW85SCkxUo9hFJaosIvOD6zg5ADt5lOCCLeUsc2YWr2prz92WoWhitb9IFIEZaU8LXZ13+nqSYWmjY0mxe8hXfmL9xSwkVIT6lAxAhD8pPCClhoVlkwjTBWZe23UfTUHR7yiinB7ciqIroZKcBgg5UR0siKTy/+ENeikPFpWIm98iEmKS8iRoOvLAKENjjFOUuzIuc84Q7lTBu/imHuDOeFUyISk2+XTCOSWqrqzIhuISdsJJPKEGMjWyixrhDcGuJC9iabnUb5RFwnFGFscQKnRkUgukQKJwiVaqVyQp1WzPkQVvjUr7vwaEJVQrk12Yyp/TQpQ8VV+7LUXrYMTyWUTXUMbNYXypEyq4D42XdUjH5xFDt0YlWW7Aj1QvI+WdVuIKU/c5WWjs5O+MDeBA8JI4LXZwrxubokHzG8xoOqS+gp0pRkJmAlvT/ZZOw9lrWzcstlY5okxspfPdM2yNlq1WRIr2O6trFOiSXFF3/5mi6YnVN9flE9l2fyrkngnsjrAzIzmJUP9et4RH7aJQF+hTCKS9zQnRxYRE9ue5IdEb62Lleu02mY4vdMWWvnkVYbXTJeBmJNRWOZMe71IbCtdhL7VIWgTa3SYbVqBC5/Ak2qQk4ItVwgBf6TkOvIn8ls8pCqYT6iUeQmX+m+jhhd8ci7GQlsgsITTrJXHj87ORMDx4nWkh3DqwOjlnG39Jkuitp0wsbgZaxwdf5sUroTV6BCqL0Dqv0XcKKZ9WqtNhZNW766jTnrriG89YLY0sVhFLFBhWI1qh8lJ6df12bQxjM7AU/tcwt+/j6F0s7GzM62z1Vd4unEMfqMGadLC4wcbOjMSuvGgXtr32Hq0jcZZZMrBnmHtDpYVd9it5CRD1d406c2VN4dyOVFSL70UrRgvIF2cmk0CvL6jgqgFQ6b44kTktLhS9QTI8xZoRiQcJtkaE15lteHFN/pEk6dzqT+rTRvIp9gQS4hbztYQWt4dGJuQ630Rcv1Q4oR/fH8l4lY3GTMONeMrQrdK12IMH9uYc5kJMpwx5YWUGPrYVIQGdcLXYllVRkei3PlFxhP0s50dwhmK6KqoQ48Ut47h0QN+N9uZmCq73ZgufZoqlRsrxrzFRiND5ghGEsPOkKT0spJSPzGky2EJGSrDy49AQbESZo5QjOKvuB4Zm+Ml3I95AwsoQ8QB3IFRS4khwX28rf0rZPIaIIxI7EAFZkFTbke80oSIYWRVssgRhbLLouG3mFFsMTL5cQK+BPYy50ZDCWUHdSm8uykmd71T5Kgv0ixATp84SNQw3k1JEEouHR9h/vbPMRyGqSO1m1pWrDEHoKG0hnD3SqwWwMZeWdRfBDfLQTqRUpKShTYBiOOlPKhdoRP1r0EA8HamuZECCQWAUKp44emm4duiVm3byIse9jCD+duTeYdgqW5ZaRrcyU0E2CDDRyQqEzAnltEEKscvrVNlzCMSrICw3dz1De1ucdXb4RMmZysKnDCErw2QODzgWWgJAyEAm0CNnXj5zaljUSzHqL+UTZiSp3hMi8bYFkkWcFcTv+EnWValcbII37UIUJBttmbBhKQE7sQFmEsk75YOoCt7KIQFLkdWmReJKCbyblwyDWyzVzP7u/au7ThG4i0uKjZhq27/OwmF90T+xqAyA29U5I0g/36mzo+Zc6GLpiLsqzrr4LoJ12rAlicbPu1lrbPRN8lEV2h3oLWjyjubWNO3IpcjPN/OgCU/QYG+ZZqRFZ7ZdFOckW+hZP1m1ii0zSKz4UMFHVSJLXYaUIBrdbWCNNnyXmS5TBA/ztoT8c7E/RYOlvXah4CwVg5aufQCI3JIDKrX+nSoWcyOMG7cu9jrGCxkSqH7zVLPpVRyaFJ4SoqWcyQdfMRUjDLBqgj1SPxftW8R1NccQxkGE02Ky8ozTAQ1qNni34rKHGwyaJ/8mzmRJaXIvNxJxsKbR0bNpuoD8UmpSt8wvTfa0LeTAX7d2lEMeRVSD3WQ8cMdX4dWoaOSOuxcEjJoqpuyApQUFocsGZObUYSdMNWYHtojxzRriSwcStgIa9oeYMYXMfu2BMPZr6qezUKjg2qI9il1TOh7qTYqiNTr6oRj4fl0Yh3iETcvSYQyjOCqBGToXZEAlBQdroIC/aZnDQR65cUPiNgpESvaUGUEpR+76NhfcojDQt0UNjYU/swhRLFjtjohYvT2Ea2ylIlQKGVFqe67au2f4KWcF9tKrJ1YoFaa6N2Oz6lae2GWNMaKN1qwJIc0fa+NSBlEAWEmy6mtp9gohBAlzkK/naqEETaS73gb8YpX2D+XQ8ucohpZGPU3KqvENadD8pUh6iQvWiDz9bY9XmayFEUf2sApyCYxM94nzZMZrvool40ixdZBEuVCnZ2pq1xKRcdPG0SWyFlRTXVaqWtzwZvOOOvK+zNiW1cdVWpLeJeMWIKLPKWXpph6+p+sH9HpdeDbVfj9A05poh1P5NTzv6le7lJ12k3KvEjhQLd0tsSRxAIhnHtMS3AviEVbP/MoKsL+Vp4d7w05LNLenmx5EUMnLdoelRUqObkVxHIVU3M1IcaB/JDvVOdI1iAIpaMz9jaHEvnHhlYezQfCJVdC1vk/c00i0qN0RPvdU2rx6I0i5K+ddZ+9ry5iFm7f9+TmhXwqoSdxybmTTcDFSDlB1ArMCE+rBqAYAj8KFYuVwJOUlPvRp3YOUbFyRkuNlMpXG6B5VgGEuv713DHkVajhuLIkYg5z6qVVfuuxOIUBPqH1xxF/SSqav1XdB58iy7NT9eQqe8QnBP/4xQgEc1b41vnB+yL8sv66AMYCNgMFA6wEugW9Bvy0prW0iPmk3LiLDqcJA0B3eogGjRUE+bjg6aLcvY8rgXGxe7S8mc6X+1iTRSg8vRxCfTFR6jEWjnymGfJj1d6Kj0198pvZxwFSAZYBCDCgOWCCqftofADnOB3ckNd0bnHwQcH3EjHSDQeS+ew2/zWxIxe9vnVEfg2g321KzZMRza7bOnEngZSaqLddPoblY4P309QptNIykQV+c4yi7K6SJCkqrULNBpfRqBR69VondFWSykbOC3fG2KmTCUUBxuVfL4zJX679IZM0k2ra8W4Pi1PzRE76KpGsZpUD4peRR/auAJQAX59Bdwb0t9L0BhHUnXAguBTrZCjNhewv+rWBKs8uVbV5nCGMGurGqOkroCxOFHiIcDmJJmkhNG2uViv2fDKUClZLNqmpb4prfm+9THLRwJ9go9w09tM2RpDk4+HAjSYq38ng4+IdrvV7qKVyLVarGpudxt4r12+2us1Sklfu6stTNdD7a9JI3lVjYMqZFyAta4rhmBnA6wOUI1NAo4j5+VoSJvO7Gs48xLDZP+C3ARIJk11I7Fou/POeB0CISBdjf64DsJ5eKbiKoSzm7pj/Pu5kthqUU/mzOFqfu6j2PvtJVS8HVVPh/JTFhUAmKxwcE9FvqZmp+IzO2vhJY0NYSUsgmF1SGxOTWMgrDXlqO9soFO7verenxZrbJkjynOsSJunej/CQr3SEeIUxc1BUKvINKyJxBccHa7fIGXFMI4uKtKsnENofRGUqhjdotBlJhdsFB+j6FAnFfpxiGK53XSb36lPPr2vONEySASUBj17Zj0ZoWUXFp+ARULTTc3hvdKzgQ0pNUFN4dmtaYGhtYXFoTtdjSUnCYKT+5dNqlSrUg2yQZJjNF6/Y9LYnOH+IMIXSllozypfOeUQ4mJZu0k7M0hTLbXYmjnyAkAVhExt51NA5Bc5fyPKLQdD9KWSbFeBoFpagf4Kk3dmbHX8elRY2RIN+hQuQatSxAePvrHMhpW702dGh/LQzsy4lkJUVVhcS29dQmHJquvw/lOr9jmG5We9SDMkTZG5TER/qCTECPV+UVt9kqSO0KYRF1xluuyMOgYU10l6h08LYTSA5We9YVAoBQqjDvlBMC4UuYvzIIyC1c+pdZSEp+ue/tlO6Nk/PdQIBC3Yl+pZt5q0yWlVODJ+YHhKpQ+lh+KxWeHntyOjuKVra3H1bGXRKfVLhfK3PdnixMcesg3m1jkGB+ibHKK6z8CdGGqeIEwKKXaYw02aw1gnm3mir6z4F8J7ZQahlR5GwssNYxLfgaBwrGcYfSEGQcL3FXXlpqXIVmfWTpvJxl4Ynxe9JWqso9ONhEo8pCAREJixLGBsJyFywaGZWMS1Bk2a0h5+RW6z60/mlCmyrNVNirMEZdYbFPIBmhwjJToYjfRAUotdklAaTwWfOHGWhTAhFYS+aF+TRyDAXi102qVAwnctGPP2bWOymsmLw9HMwIGSNRskZ+JCg0sXXpZs2Ufp0sunE0V1ysgwKqBbSq8leSC5YUPSAgKFr98UuDsjS8S/WS5VFrVz6U3cIJvhHUDWVI2r99Td60yMkZjUf75fmP2B6+j1X2LBzkL9r2pE1xUOgvNFI6yyPM9iktleHZxgNlaOzDccnSeRa26u88rFfaHxmRQDWYCkUpvrxfzUElBU2i7iqWLRGXo0SnR9tljD+QGD4Wl6olfriNqfNX5utLCDu+0WOw6lddElnCuvhxF0O4LYCKFe4BsqvzhshXm/khJGPyA/Vr0jeDW7C7LE3xKDWDY5DtSJ2i4fgpsMm4+FFQVnlFpeKJgpC8z/lR1LESig8a+A7GotkZey8bE61VC7vLBPJ1GJwRFZSwuJLakRgxer7ZW95YFpbaXFmWGFgS2ldYk5MRkkiZdD4/Lz9bvItGlylSFFiM/tYhxN/xAVvaPcNy5hhZgm3oIgCoZ1SMMw5wOAXQtilT5Z8g9Go/jF3YX6HtKd3HWlYoBdZf7D+683EZy+NpZOBEIStp6z41MCz7UTC2FpVZX7nY/VsZDyGHaxtF5fFluyVxtNLK1MeerEB1dG9nz8JEyVjXvPlS7T4X/xmOSrxDVW++M7b5xkg9ccnQXBNwgep06ozgmO4qz7L09ASgiGOAFEVRTAOQG48FELaevA+AVltr1VQIAjC8m4eE5wm0k1QRu0LAuPA7IGlnn1OGLqX+vo6IkOKQ2BOfujbMaxCJiZF1PZcX9/X9BgciI1NDvh66sn8JlrXLW9a3+l8kK/RKipJ9xFdNt0N8NnJow+hfwQG+wYAMwMq1FKNNXjeD0F5EC1TtCHcXno4SZkl0wIQUj/7uE4Ds8EQ5x054Gy+6udchKjhMVyN2Fi1WyEdYoypb7kWXBcmJGlE3sWaTQloDQvHpQw5uqcQGZik3JL22NKZMdd6+SkWqsWrZn2jwhRIs9SBhOdJgSIk2jtBRBAyQCtqZMMw6IscZCpcIIXh7f5U0kIFE7oJNrPGVjeXjl6Kl1O55fHPdQbGrMqYd9GtUsfIIgODxQXKEeTUT4mHxNj4PSF+mWrsu2VKLNXZkDCKCn8j8HrqVP69A9q3vKpneIE1hIIJ7qcvzhM2pFxSLX5As2YFaCMFTmhCixR38H1ik+aKLTAP7YIYQ8LhFQNLJnX/ItT6IJJyN9uPxFcEtYLC2rKznwIG2lcXEn8ZRcjNE01YcF1CQ7X9A+3rzN4+oFW0vWGqP0QF5KXtqsnqmURss6PE0L/KqXXlJCz7DyzhHB5Azn0MQSEEQQCaN4juQGwAKL5QHL5X4wmsgRXp2JDGbxsIlX63MEZtTzPmdpBd1hUwVg2kYikVNUEDbLSqtoBqzkndX1jiQOAyMZIVvfeUc19ZN7C4/o81eS1ptU9xvZKmlEFRRl9CXrkv+ClnquAqqzvqPXzWuGUq5XJWmm66Y2r4r8MEKZgTYHIBoq4HDUziSFQ7SBfcskg0o1xEfcMzBSAuN7UMZ8rSxUN7JUkMXALmC8RgRxuRxCOG4Xj3eQwZwYLiFsTwxI5Yr2kfzOTfeQrY1so7korF4ZEtNUDGSB4JCzEAjVHhF0gcFg9z0slmeF9qKvqnqEkVI6Y3VjMNpgXhLlMQsz6mudEhCpwBu7MzBDZ5u3LnZLljqUmqMZ820ps0WmLcvptlBKXA20ZBanPDTLBFTuM6VbNPNApMl5SpSkcaRCL5xdPlTuOUa+RoOGlziCq0khDeMzt9mNbWKrs67+pWNDJwl5KBgCpaKWbfTACvDJBJwvffUMWM87KhNgI11PPCT2F6ulZqaGpALzrDyj5Ef3PviqkoVyPAntpx8xnc4JMkaCq1PTJEulSArw1xGpJqdjXVT0Mv3Mj4si3ESlGYrcahduln65nZXCFSSvmw1go7fcsh2h/ztUf012ZS7/aRUZHlN9AI1uJ+Rcjkt8aAzXxszZdS+pmVp/OTCpmLg4T4DfPPI/kRYUAsa5fHFvbgKsXAzweQkTL/0m5TUKuKnqlxmefFqaG7ligf4Xw0E12Cc+SwiOe1sD5GzRTf9v1InmqgS2JC9wqraEY/0XydKe22Z8UeyQRmQ5+UVSnUz2+i9UrownLTzyQaoWREYehDt3+z3BKUpqK4lFOD4+udkevTnMAZyRXVhwlxxJt1emprLDTq0JWYSv4ONrPs5d9td++Kmerhbrg1Kh9igTQFwzphCjYe2NPkzbqmxU6FoY6DRr2k+xXElsm91Qnjt9HCgaTstPCEsp4miJqfatyoIlCAepfaKCTa4qodZJuIZaaD04LL9GUPQxV/SJvfux9RFYKdYD8UPCCih6j8XHE5HV+4IK+xrznbnb0hL8te+hSC19NG41f78xmujVyWAxH4ykVcplu7i2xiHzSF15R+SDkC6JGidZ/PaiLzvQxBxgZRI+y9HMvGqvp1HqHLc3//SORRMqWmpBSkR0cty2G63VAvC/HLfRo/ePhDFA32euwF+AyZYABCQAvB++3iA2AoAYliGlujgxbaPSexsVEe+D6OB7frJahKD8OW9ImE81yWkOCMRe0a1rorjFRgv7+txvEA+Wdxa5KljeBQJrFbJiKwx8QMJF4UerKFOk5nTrblDfslmFwTbRn881TpXxbUtykoSx02S1M55NlbRWcEZKr7ErJmZ3JCph9X/AgwARYipjUHBsDPE9RZYXP+d9NM943xR6hDGsdUlWCTMRnG6D/YdtzBjGIVjxLoAqFaRO4BUMMjZIgTcO+DnrhTJ/AtFBcl0wi18JLxSF0PBFJlz0hcFJaChYE/4K5GZKobEHlrg9Ikay3NZkvm5Jtr949dIn8dTEBUX9qSvl5ftLSiitiJtMABvjSDVh6wOcFmO69oiB3yUouCuHlKIVZ5YDfN4b0VFEnlYuYyE3cSDhJxXVGWJbNv2pS5Ooyjua8BISor6FfGYZeGFcNPY50gJOl6KGW6G8jN9lINs+iMduqKZaSe17KSPo8Hl90N+27S/ddFFNBdGWKt1/vyaIY/oTsO6mdDYkbMJDHwtQBZIoRd1RbCUKihNg4NL+JFuIHoK/MJ9CmvbXcsKJzSYFGPCJcSq0IFwVyMQmK6/cgCJWfdPsWxZ8F4qTU9jBpgiuZxm0iMXjyQCVfdAKBwbzDoThqxBMktkevMd5V8ncVoyQwjFWC77jQS/+0XFKuisAnO7YGqqK86a3Qp5WSDlrFPjQboBYkRM3Ag5kVJyhbvJnCP5YJ9CCAKAkDXiLw//mhVnpcpda+QxjkMquj1e0yihsuhBnk+kh0Hq/nD7kPbtaZ9orLJGQp1JUJIua1uDi8VSuUUiSbJ/JNbIlJOPCtoymEpl06WydUeUw+u/Pw86RVnepzMar14xQWT2v9sLitKSFHyvy1aHIBMmJiqNka8lgbPq9zYIAYCFGMuWW0xPTRuO+PxS69otJN84TBsHihRYsFCWscF4WQ8h/KZ2FEMHtNspdCE/h5UTCENz1LFOlq3p2mR+TpmE4RU6W6OpGrJY8qxEYzjQu6eoWd6jTtW2OmTsqnYOckWHjhClLpmuVrNSgT4asKOS5DpYoEcpjva52RJLuIVXg3TiDW6UDZFASoWZDCcVppvARVSSf9esPnikvg2AzCY5PgRmLPqpDNN7+yPaGnBhW0RRzv0PWj/MhA2BiVH6uknoKd7siyXpAcXVg1jMW7JEIc8sTxGsBocLdGY9SdSF6xZtYwEAbJsBn3f4Ddk7kN1+CSEPNf+QsCfej16JWFrSmquJ6LxLmFEJPasM/H8PjbQiCKHgz8Fd7kM8xlbdq3GGdjTVHZV340jzCEcA8QPwV7YRp+Ef0gjp5my1eZPDUSUxXejKfXoj+KJGSY5fzmMP5SSGoD+5hPuVy4U3a9dryCFUIum6fLccqpdKxkCp2djbiCHE655LTDMZXO6HGxEf0PZ/pAieYGqWM7s1W3o+xc/BrJUw5sOuoa5PUUmpF0IfWK0WAckexpUy8cfdw3qGRVpCD/ygewXMNUOm+1JTlsJgIaGAF7MRSZ7StlR/iUI44JIHpIwRJS+3/mSElJ5VKxXyzdKSy5/5OkCJouQlis2z5d50tAL0jS+/qsbbo1+YzGPUHw4rs/YR2/Y1iy8qTePk/EKXXxRxwmSMh+5XBrLFPPlD7gzNwtKhJfFCahj98zx9NLCyvv5a/HyGMsohHn+DJQ09uagNSeCUsTyV45vCowkfglGouinV86hXc/aREIPEQP7OAC3wsxy9eQBQ+cQxru4NaNTnIRoR2ndZTiGSkmgrIJbVEkY9US9ggMNAz402DmRhJFdZIXnpv0omsyJD7epTTjqK5De6tCsK+03171JrFIkymkUwgJhncH0yOhRXKBAgWDKAbhydKlgd2SdwiKNjLvtknAOZkAy7F//f3ffg+KzWaKYNinqDj+hLe0zQqZxXGqR7nZIDJKb+aEtEkcpzIW0xGUxFOl+6t+nOwGqflb+U5st5q4JEMcAdVVf+gYGEXbLmlp9nbyBjQRzHhHwML3Vud05odMKrqYh7MeaO74uzJaJBukJVJ8ObWdKiOFmGqJBqhSjt3CjdlhaBxRU6vGZFHOCO9XXqk75/zY7gmjkK2HJauVf/s1ywBPWSej+qSKXrd667s9axs0l4UjXOuHPm6iCaKUIHeTpRCGfW9o2rltaZbQ9ViqjlgiqQSqIj4ankmKCFiRZYg7aL+ph4gnT99JCneMYlvEzZP+swLImOFHUavM+ZI7FCTfgZlB3oTPY7NWdUC7ofALh3zZGaJbEyvcGTUEOuIv7ZF4hydB5sB1WwGkry3AtrKW7liapRUZX8vEQLrKTMbdjYih2e7ZNwIZhLRtW8tHGwhdMYadfkz163/nzZwzaN3FS/7jPQ1qpUjVp9psT2HjxhA0C4hrnGbNBYF7Lmd8GRxH4ZpKBTwKoiWwpmNJD2IjtsF6EyA5nf7zR8iAfGtGFG/s1EKL8rENDy0wmne7Ifd3SbpzLSlC8g+b5qrtB8vrP+O1nWX9HtHFdWasekOO/35M0yIxxiqmyhlEkEofpmwT8uTUrnFqaA6vO/VhsYCnbxUquk9v82Qz7SXcA1N//+MUIBXRQAIkAAP5tAZ7/PwE4/gr/4wCTtKFfPewZN353Rgv/5P3Q1MRo2Zr/gr/yaK1VkD7PUd+tJv4v6mxSXzl5jQ3jty03ZikpELhNuNw0mlvoiEfRVknTUUJZ+6WTr2aUPj+g/BhY5W8h3PySPTqdCbJUqzZK+U0MLn8iB7/Jf4g+V7kZqXJet9BcYPMmsGxnLOGKoAr13B8yM2B2SR18McrgRec6el4WyH+8UTKCpnrnvnmTsR+viIC9RyyG2UtQf+2LFWVEe9svFTk4ESDn5zTzncG++GJ2ylI6uSNlMDJWVLEI73TpJUY7qkh9NPsqOJZ1cr9Ch/5ToRUVfQfRNmCZQg5h5LZ3Cmi1apS6Rsa4ElpOys3AVHUxgxM/2Icaj+7ZIY4VZSM6kHtb4qJIngzLIfc69Tz6v021AnedXRPSfXOUodZuP8Ky+PSZDB9HMH7NXmrBZXme5Ekdvbu3AblcUtHLKuPZtYytUAclm45AxjO9/JwFA81F9O6u73JEy4R9alnMXmPmQYC0YbqKwgsi+nWfcs9WbH9GN9h7F6tXJEhL/dxY5VNt3dVpEY7q8SY6QwyCsch1WpZxlalpcxnxSUNjjW3i23SVemRwbGMAIrytSGtZFm6x2qSQXwH+YxXvAoBmo8I5uukXJeN7ktXkIQleKVOpRjDiPuOQnYkKweWySFlEju6FwsqKzYUjjUl49BC5MqnJDQRX0V6m3UmhMv3eyuaT4Pfv3kWS59UTT8OHpqUb+YlzafD6CfSe0mXMuqNHooSWPrk/5lJV+QHLf5vdPsQEq9ppmkIEv05KklcRlHHLfMl/52mdzcSUQyo9CD/z7kD6pQG7o9R5KXRwmqC9iI5yjdGnkWeHtv1L6Eb7I6hiNhrKSr31rVaYCXdRDTztDbV1NhVRRWP0/+SE2ePTXoyeaHXdnPqVSslFqDNIYXRvDbUrmRsUT+6T97wlrQhdp3V5rkKzJOlzNhvO3fGeSnJYpRxCORQ7cCMX1W6ytqj6WyWH82n/TP6Gp86l0zMdqOJLa6qCmd9hOm5xNMcxXRu012+3M3guXbNE1iAlN9E7Ftn8N90jXlW1usaKsZl+OAG7BiLmFH4A3hqZwMAJbsYdDm+KS5Fe9c7lThEN5/5DkCZ1cbQb2H/6nqw7JthSeo4yJ2NSH5c5NamqSSnaGbEA8q5k9BPjS340wuMOtkN5bSH+ZgH/UhLWi/Bb1fGE/6P8rCeA86QHwFV7IpTU4HOesV4IiFAOjw+dKeQjajdywm7WLndQtLrU0l5kPi3g1Yt0MZeE5FYpvCpYVsVRM4zqBm49KAvIsrXmW9Oy8eFdwh5aCB0y4apIdLivh8jMoVUUihqFrYL6aKkm8CnrhnE5VJAGhZNSjjHPSsQx21AYOejBBE0WWohJHn1ehO7NCIu6gIOypjKkak0FQE1fjxLHazHOWt5Ot78SiZ9wcM1nd06rP7kMlUofnUYzeVzmGXmeK5cUT2CtGPXD1NT5LVHSWrMwBw/I7GHWmuIVr3bZLIZslSylVkPdjJw5+TvRTcGaTmOp7IqP4e7WeyTHOuBTGeioh8Czqys+WWajgCFZ4JbxN/8lMuzBSC1C9A7kKE63uqMefMUCFK5wm5EiCpIAwhInOGw9gNfGC6nkbIyZx5DYiHElU/N+EwjNVq/CgYvGxsmchHpHnbgiyXKBrPa9yyccKXPRK+OpPfaufamcBpxzsJJNUlzYhmqstWPVHvhT6pb1VIJdeuysUtlZRnFa0NfzqKLcqATFXwTKIOvvJ5xlBG1/jznIs5zEfsgulg316jtnRFZgsf8yLpbng7tITuAZZRGu/KDFHG95GQuH3UxsRJGD2QwkNAX3ODBqKClLZkOB/2NJnZikMDmkx3367E6PWsE8xoy024vtyFGVBDZkFDYJ00nnJcEs8Z/O1MIAJb4saRkJqbp/+Mp6QBtliUiq9amsI7Sbu7oZY4vFNaLLOPiZPGFMpNOhtzJAUCbVr3N8+bWjxlZW85yJnacpTnNDpK0SU/9uMM0VBhTTgZBviPiLMyMTrL41MTfCNyJXgYduupTo92UPlFOUGlxoFymu4K/unRblJW4HMXT9ga6LhT4oWLRnQiSutiYVjSQVBF4kjtvj/EZ7zonnbETsJXJzpDZy0qAD+gCAfk8PElLyAisLxAiBuRerUvRklCbxbCtUdhyRGRhzejiJTw8KzUwwYyMmPOG03CT0gkJ00LFV+AokbIe1UbGNt774XQlrC5PJcSFM6S8nWS2IyosdwaGqMwrhQYEf75MjZoI75McYbuOqTtShY0XwsLnxwsXkoMj6OKIVLvp7SVdps7dXBasAWFiwQcQEjxjjQoWGBhASeWFhSuNls2PEmhy6iJDyXpd+9cnUVG5gsS9PnnflWW1f/qL+7pphKpHKZbdyqQ0PsJwtChEqaP3Ek73o1BUenIiDMuVUnTxyr6nR+kK3Xhtn7Vo9NwfidAIGBIEwHweHGLPeC6+weA2Gwi8aItFaslO/63ueibokJiS2bV3dp0LgkHDL3TtAzy//3n5f0HOvr7Cf3k3jmPY2jiII1s4mA2AVlzdKYv55GfISAOwpDQzBmI3Qwo5Vkttkjo7qht6pglJcKMondh7F2A2G4jNwUB2KVNLW4sb9JbDEKRURrcaPBjorDlh0ZLDT9LTVgnKkutRt4HwoGRsIyhGw3cKjz3y6OdTT3Qe2mWas1Wn2CU7paLBcrZQZGC8HwyKrPptFOquQZQTB6FchPLC0XmuX/v0OdM0KXVqfpIKN6ZOQnkS93PDtZ8MRMN4nF9Vsfz71RnjsYj8MDMllUqteOLen9sEqGx4VooCpmgTYWp2mqRsFwbmafo4ydeesqaqvtbfSq9pKHZbSueRVH8GME10n55qZeNGJwKQfV7q4KA0iDNuUcgbBuILeXXtSmed5d6uDYXsghbdNxO/gpWbzEFppNSoo6ioWHURxvMxYky6+xYJzGTTCTTJIhjyOJpUZq4Jj1HQYE3LHdC8EQVChyrNRAZmJAZmBAUSDzr8uWO5Uiv76lodVZEsk48ZTMZpPZVCWM47mEaetoCE4MQPTRRrF8l7+mHcHYAQghMIUKBT/6c5Dt328NBltetg/WfmJS0YHFHqXlzX8FgPD+tNJKcbBMFs4hSEBkWtSjSjL1ho2TXTOdUdlZLQupgWWspkZpVndISXctPrQlNfnpYyru6xIdUpq+fH02sJkzkvyptD9KdSazVrVIElzTdKdjcYwAXQMxsPEIP5vXnyDWbOAjAQiaHuM1g6bDItb6BSIqkbc7mwO8JhhZCXrIW8RcOwg2h7IYgXjS25Js2ddxkK5AtlZrspVrw1ED2fy0pqKBQiWLR+K2lcaNouJRYnttckRLyNTJwVNifGZ0TkZJzfPIzlVBU2DkpX3UuTg7rfdJhliKcrXHgzVccwdAMaeEuG/pUs4LPRbgG45vWIIFuqORKdHotDJrCneHTm7g3hIIRA3qA/pH7RB7BBE1+undmV6VN+mHN/QWuhfMg3ege7KmZnk+EFRZFs3v6C/4WI3npGNJIzW6pWVyYen4LbOgqyJup6C36mK5ou4mcH3gKKn+clPpFxkWfJxqddtcnVDarIOQFoiCZE7Rz/eRZCvAEEG9QH+WOKzyZzv13i1Aewq45jsEwBIGBG4pCObyP8ArAEYCpZLd5ILYFkYWQdiQlnMsyIpt+oHzrZ1IyJUyEQ2GKNIyWpvBYVEJYeaorr4huWDqp6Ak4qQ/kV4Ss9N2NDC4tzg3ETO+qjbqR926V7ZTpJm6Rf/lCiBADMfKjYOs1+84/RoAlrBDlvZa/1fozvbG8kEe09B3DIArA1GLHgSSmXbJEDMKxEnujZqM/N8NnBBCGIYi+9acUD4mWEaGZyip8mR+Iy1Wtblbw1LlqHCyQcLSPTgSFiZlmzZUSNkrbIWu9wkRa9netuJjKZDS1sol0omsTT6yzhMNQUw9i6iXvh/DnlIg+IZLKc70amR+QV5P1KT6K6AuAoMlnpx8g4yFgTBEjViTqp6cBUEQ4gfsfPuRYKjyVe5R13IOMnU9slyHM+Ol1r/kkECKT44ZQzXpFBARLk+Jkiz52KjTjpv1VW2cvlt5aXc0lMfziR1YtewvhZtkb2XwKf8zAdk8cx3VDAPHjUqlKdSXef2CaBCUXYTigSMudQ+BwPBmG5UHB13QVAQA+wFolfGD5MQTfSzsdUj5IysvayX7xPG2VNczx9xcgOCR4ouTCJlbJPhTsV7NnxxZ3v2QV1FVTCdxDeWktjOMrCXBcXwIYf+5Q7l8CPxKwEhZPIypjkGpQ4FH9n3KdHbiPwpYImxqTqyoGgTBQoBG9C4OH1jQZDITUFZC8HBlNN/iiSY2kCjRJbn3PJA2rwi42QJFSJdwacEGyBYXEH3xUouejjZClk5Odt5/1+ef9UapS/moW+SaDYxfeo0Srw2pkrEcsyxhOKUjWatlUUFxFqPQh53/jZTmSi8s4Hcb3hNxV1/ekEn1NQOgLHn5MKhA+0LdiYoxvii6RV9QCD1X8IrlOOcRwmge1FiizrJ8UCCOuk+XEhY666kzsSUV54Mno6b7V3FtIZvK5JEkQRZadwJUsCqDyXRCc0ECyq6gITKGMbT8NgaKk0h2f2HXnl7iYeJmGAEYXNkWr+I2JBYyAKSp7iKFgRCDqeZ0onzbbIK/7qCDbaZwi5a03lQgXCtOVPIqyYTD4qEY1aAkDBYr+XHGS1WsEBB6QjsrT1HY/dV+Kf0VenXay0qxDqsR7jfUZDQ/6L3L6C6Z5gr0xCodGLNqmUk4OQiJWj4ERDRHIUS+pNWhwklOaee3kdCImcYzizoKdjFeQx7uky5GvJ0AyPmnTOfX5ZyQfXdkNb4Ii4om7iSIpDQKkCHGgsETjibbklEsqyoUhCOxOEoYh2UiV0CW5R1wuk4do9SjW0beinVeAaSvMNcugoiUi4vbiYm3kpS1s9LukLC0dBCfFTi6i6xsXnwEFhW9+gl4isyNiZK6lpraiGwpP1JkvjRgqyZ1btot6kTUsqeFELC9Ogz62xG2fv2qzH5ICVoqXMke3fnza2VtK7n9/mctmsqiuJM8LAIDCKB1Ab0Cp6DiNrGbMwPIXTABeBW9ENb4/rSFnqtfmWgOT0JA9Mn3ayH4oVHemzTEdzegkCNoZUf0UFpUySLKO4os4iMxW+tO58/IXLxA6ov/QsJVqDOnyfCsjI1izRwZlTl6vbc8a5Ov486a1saOtu5xOP8RT+MIsAJhKATwD+F86N3dgMpbwiIHEMf0DQBKMRlV95A3cpcMhmFNWnoiPwsF6I82AlBq5PJRzI0hvsiEPXBZT/TY9KSh6qppBXay01VdajaREZuXa9cu67+JiRKlWzG7KmxKRpGm78QFJYySbtC4gZJ6azqOXTtIZtfyu4kseyOWACMagEcAthhCpUqAL5daxsBhBTLbAbAFoIAnk9zNAiLF3qVX1xnIToQAyO211zBABiIX06+9WZntkYTvi+szGo0FxE7Y8a6w8VQnSnUlyyMUs1LBetRHN6/mUE1T4cTdIrMpI+clqiBgJbSpr6bqaS2iqO/p7XdRPbq6KHVrPZqN2hoGsWYRoR5OTzqE6QZjkguzRL8rBsH11uNK/BKMbOyWdSuJvctCBwfCJMXYgVgdhCwm9bZEh3MfQZDU/i/fLQSBESoOTjtU6EpC9lMl3kIsNC1cpc4EzhoQoFtlv8nSXJ7T8zUw0D0b1RGyMLHRMFSRk/iolToGfy9Fz/5f/fEH4ZgjwnxamZtNAdZNvE3GeVItTIEMKz5YbLYRiPaCZLT+ZZDT1+y+IARloRUMWgOQvRTzPfpBjLqUEY1EkXeqMPAnNVRWQcNuqo3yIpGVfiJC8LSJCabklGysVzQ20mZos3MyoqUmMfYmSwdqc4/nwzGdTI9epzK0/tV5jIiEgy5FAbB7JSkIdHKhwCxHtdmbohdi8il2E7RcMCpf9oi0JksG0sLq+3g0WrWOoYCEtOnajCtHch6bgkD//jFCAZ9UAhECdwLRAt6CWwGYAQqA2wDI7SwxE+WYeLNeaqEN10DIMwOta+eBEssyiGxxPT6qK5SwAvl+cZBxLHXW+jRryJJ2cBJs4Q4YhIHpxa+w4IW6C2wxfEbnfnFMKpPiAqKhbP/90SKkXLjyx9jqOsHdHYQsCtEvC3EdytFYtHQlLmJCb4xeKUmvkMX4iDFyl0+RM0H02hKhEdAnaCehxvl+bby57n+TF7p9OdX4NzHLQrKhgGDblbtd9Gk4BgbkBF/RNbyASeXpNxCzdoQEhEEOyPpxatjwbH/3fyiR66J1NEnMTtesxqslmvAbJ0gs/kFyEWFqwwGZBAhgA7ouRMQFyL6GsFr03/1ZAR4zKe0Uxq785dXdRTibNr7WDh0S3roQEsl4gDU4N8FEi350fZ+vGldo+BPEE3PZgVyqaXch+UdxqCV+2IhG6iNVvD15qQLcrtDt82ivM7FNlmYpMsT9LJWl03i1LtGcgWO8dqoeh+s7v93Reiqe78vaVFxHyMsrrAZBynIBrwsVfC3M2l2zZGdKqn7gOEDcegRA1VsuUDnHUUQFq+Fm2jpUgRiIEwpuQCF2yYUS7EeVSZg5gtE07AmOwj1r+ZxW5hKfLXgBFIOI1BhfZlwjJjO0tKHFosTujH66o7yNVGBxiCxqD8ycZCV0fRx6GbuGIffVXxxEdix9Xf0ubclxooI4FyKYBhQohFwfgVsUxo+/CcikIVEyTkCDfmRf1aaygCbMnrsDsv69GIoQQSUnPg3UjctRjlyxFoSFlGyRKC6LJAokicmFXRITOdKRkWky8tUM6cNWxXxJUkGorLEjpfLjHlfUOvkT03nOaXkWTEI88Ey8lQHQpr6VRV9WVrJyUlpREAIoTjnmBQgRJRVgfV/mHyjekjUFrhzLRZ/n3UvzkRpSrrt7otE5t9OIQzCqKV+CUbh3WfO1ZEYTGfPCj8NLZuybWD9gE8RjKYLm/ZcQJMOK4hU20jJ6Ih0SU6lGP076e5LlKZUrNoGQk0t9R5QodOpOxrVGYJTn6P0VoSoK0SYBoAAKAJyBkZpGQ6QTE4jikS1+kY0fW9M8NlqYnm0D88A1crmxSGmxtlql4sXkuTftHWsk7qRqYdb/Tu64m9OFZFJ1bbaRpZ6oyKILqsQh7V1okEzhV+FzpsuqQSOmcdGpf07bpOFkYVG8tIJvLt/ZozCIf3ZuhPEavZqfH3DOGZMz5CRlgGIGwGHRO6B3AX9uETLlj12poXP4pwGkQeA0hA/Gu7q2Z8wL4JR7CDSGXhNgi+gc7M20+NkxAoBmdBVyLiZVWCPCWfTAHayCQf7W1SSHPU31jNIVwULc+aSHgInGvJ7zIZo4vKsuRDuaOjB7ugF/neTll3SH0oz72nKG+IopDROgMUESENiMFChB/VgaM4ERK0kI/NXRgYIw6OUaSkN6qExOkmiM5CKNiptu6TWbjt+QijMpvLiQfSNukT6rEFkrHsEQgk7NKBrMFh2W3ApNEK1AQiyh125CHKQmyKeIqKuet9fUe6Os6BXu4maNO0u7zxJmnCd7bCFDXB4glwUgAD8AWQ83nCyGkCo/5uxHI2N8oJzUHRwhxt70kUOaWwobm+aVYiSSQ5uNPof3DUZ65LESo5JWqgc028+Zadc6/xaEodaJVEvteO346xa5/CsxJr3TI3m35/OrVRRXJcSRYtJpfH/vyL/q76iVbRWlbWlqPnFDTNcfqpZ5SIjYkUAlgRinkfN8shN37hD8eYTKOpa7KZQZkcygVG7NxQ2mqCwHsc3imGV68vXujVS42Bqa6vWUN4r/4SyWVz29bLiR1fIHVeIF62Ebv4bWRSHndDLd/RCY3r4ZU764yGs4mJ5c+OgFfsy9vGroPPR1aev/2ddUy588QBDBCsStIzDGDcpjDhZuuPFTKY6KtS0/eBZqNKvBesk7zphaJVmBLK/DbDvCCq+4z6SPZr1xosyteoe0u05uSROok/ZKisROpHTZAlxe1OuwJFkw0JCECtIPmoebhQP5CUC3mq2phc+/YM/91xFrE7yNIMY4mQJ0tzEAGgdg5QTWEC8AAyR7LsAuivA+HWhJfMeW4QKEFd+iHfHcQos/1ERK+JZmIF3MEp6sUSKj0MHJ2EHCT0y0V4qsLSKr+EPIICTf8IwtPtcEHkq30V9TTEEm4ed4Hl6uIjMqoXa7lvhi6M5FvNMqPHYImSzKE+w9wiysB8HkXYxjEdACl5OIJZQBVGgQiYrSbM9+fSHXp3YBEv2/RZD9iWspRlXp6zxUPlQgihcV22S2eQeKEROJdSDE9XLyqzXw5Wuw5ekpY/st3HBdEP9yiG1JekYMVgbyB86Xu9VXwy3iwdVkuM0yRd5tg29Q+nCkPEmicTQmT1F98EUgAaBmYzlIbl/lvLUT4RCTUOXVH2m4jovYabQOji4Vy0jAb2O5OyWReEJ6T3Fl2Y+mptmr8paLW+XTPYxmfG0HPtw0p2I+9eVQL8lk4n8OC1KdatTN6c+NjSZ/dwtUL+uERqlgLbGtU8lL+EO8Sl+bVeNJoLLvc0JNI0oKTC9oJtsNRL7DxgPM/2tsb/M4p7MXIz0nVqD9O7CYTNm7cTrZZEhIU7+bVGKNBUJeWUw9JbSgerbesXCyjG4PI5XA5uaGuQJyaK7S2nmOPPLgatdG66PKswChF6LBr/tiuK8gfRNFr3EBBU7odmzhldnM9xICRktyGz4SNib2TqKPdnZqxZ60n3awwXSOvMXRfdDc25ip8iojdyooGbh1oLz66IriH4EG2VijVgqD6rjIJ5PBML7iFAVXKscRg0r5YgfZbBzOYndyX2/MQWdwRWPS2Oq/OkKO9Ektch4PqSTrI3lIwCT7C5nF0akQUyY0NKZHWJet8u16bRxYWSBtsWqUulih1rc5EbSQ3fSIDDleEvpQbypiFMuaE9HMiXRQn1wmCWSjkB1BM8BHLVZvfttcwGdg8P7FdtsHG74QjqOSmvkxtTGWhEg3zuCI7TWZharbZFfR1WulJnR7KmghdNXd+PqXj/dks0VYrDL5iKFShH8cKQ7EzRVkxk5byZfu1o4ryslkDYRfR/4JKKeR0JijZtcOTvOVkgU+giE15CRLE0WlPhZdQQg28AxAawTKYyh+RzeMyei5sG29VoVaVtFZrry+X+MCBkiLpOkksUiflEY++XLpp8Lahu/tI6NKdwfTN0vMnnKoRZCB/qhqncT/qJoy7C1WyR/SKQsJfoaT96LujiFXTIOniXFmqcByKXTvmw69tsQmu1RiMJo1h2Kas89DAKrxnnVFFQn9lWaRt59HhTnopErO9QkTX/05WxZDAguL17Uq6OjID7K6QJLGatqn+qpH9dO1c/sVsfRh5igQ6fschVvnohqC3g5Yad0rMqiTobX6XmvJ4W0isVTl1bzwR/1Pa+K9FyWcVnRDVT8a/Cwr1d2Bt1Nev7CiJSS3lh7LBj9MjatEN+rF08Pr0oz1ph7Za1KFX0Q7GvdaTU7LL9ealqXJk3JNXFduQO6BVSVqCtoi8FLZufIyMcMa6NXT+JBmkFY4/Q7KLVrbmNYSiZegnn0fmBa4Z/TKUFKJ26mIxIZkERGdKb3nMtzSoW1IpzfjCTlVVHAt02q/v0RL6R9lp32+6EFUhLJIacErX8xysq4q01bnteFmU3G1IXBLNmFjLC/xeEuekL/JjtnQqFYKhXKLg5GW9TOEGwC08IjfyPKFUR+Gwp68qKSaQ5HTGC9132qp6WppMXTesOgWuESkwELJ8brtIqXkpGquYtBIWckLKxQ5cOW40Fq/PlCt60OUwJd/lZllKEQI/OQzvNo925TOE1irQE1FIG4ehssCuULYU9iQjxtyQf8XxLiEqBAL/HNatSNxLIeHyTxiXS0e9QC98lntqo5knPsVu0bBErcbA7VdiXl6VG/uE466I/zpny0s59kjujYz68dpvfoFxdTr+t1mHcoClPBhqE2iN1LG23iLaHOjON3grAUraZRM6FsjBygjhDxjcJcovtAuDJtaRIiwHK2PJulgMcZDh1PnQSxVtDxS13EzkzgddlZsXBLOHOqiN4gBDGhBfxsDOPEsbw8CCoQ0N8I5qEPEcgqi4RbDAUzs7+T0V8pSIKF+FsYFmu1CqOyK3q0/VvSz43z9UaQyCUnlE4oSOqccpqN9whFdm/wVonnYdxipmkRiyMg8+Coro/hCo86l5qCKN0singbQtCTSMQiiwcbhaOaZpXJA7g0D3eZedyEQ1qnXoWpy2hTbCn0nScOkqNvNkw/1C+QReFsVgqhUKMNmMYvC29IqR3rrnebW3c8EGTRmUdbIgxbF6SsFrTITm0FDewZDuw4xfmWvEL8LBCqx+qeiwUnWtMEFtaYlYJ3D+hBPCjeer7PHN9UifsgOYPF6MCrCK87KqqO2XJE0WE5oiArgaHWMOWbSSoqetAQvo1xiBT2LtGKWaQGEmRhalWpqNOgRJEmBBvQ4tCXqTeF+xLpw68bjXQ7jbbUWVTI660md1OJbPp7HMTxfK5dkfDwlKh6GAGQehuDEMwrYGguDksTmRELewqetFEsSRJPYvtZR5dZUjg/DQKBsGpYHZmFouBeQDVaRHaI8UqmVNQ+dPCgqsFpx67kXzWp7aUu8o6Z6a6px99JkGx3KborydfI2Rpps2uhQmiPgSwTmmGILQfVJFiAKQ7tiGssS7l7mW1yvMURqzKUpX24514ruAXRKWSqMojk9iPAtDoo4huC8+I/vdUJYivemy7upN4otJWqFjAJ2QSDcXBq+EZGcCduZPWKxBvIGuLjUd5F842ESTStsZnEkqlUJ4UR9OIOofXFKz5q8XrTmzAEZxGU5hCEU0GsQwmlggEK1LCciMyfWrJYNazXCv3exyJLdpxURio2rTSY7ks6nk5upGPxxNCWxvDYtruFumqt6amoaew7V9BY5lmtunpC86aGp4ICNmLXxmtclDtYwSZtzrnzrtFlc+6+8q6ylrZbaUsirbmU2eCx40OKgtQikEibhrwKUnYSQBAYmGKi3h4WePfJLe0YtrFYUDjcjiJ6njGlreccYJ2a4d1ptWSy610c+T104cSVIEEr5t4TInDRwZJihcTeETr4k2TJqG0UibmenmDdPz+U6rzdOXmZmOSk/G45URnorEo7Jxafuz0xbkrlnnOtoojccMnTYoJBEJCIXHhAMjQyODBsSOGRASfVE3UhJlxN5HFdPRr/fSqmNShQs1KNqtVv2ZK1ZtbylXWxlpmokXRPGSI0cEhUICp4KDBwMnRMffEBkqQECTBpVlhXdTf7quLNKne6mLns/Zuy96XvTctemJKZl7s1OyMhNS9mVkrd23R9qZcd0l6LzQiwLmxIeFRwdGx8KhAIBIVHCAsMAwGigaMGDyB7XjCrkl9RX3AuzIyRsKrtmel0zKpE7Airt2LscfWjxTzTBxxoacNHlRLlSRMqQIOvOoesr4pMZ0Nv6FL6zd5uyfV+QrSVKTt2rdSWpVLvdOp5/r9vnrgtyup+0wUI0SEiDQKKHAakDAgUBRoICx4cPHBAoKeGGmiFGteu5/fm9p1RIzKpqs/dVV231HbcarwTP9S/JEqwSiGxS00XL5Em8LCZeDaEhLgb6QWYGt0lu7qUfZjWHa4iRGFBRZhQQkYHeHKQM4RQpmmESoZZmdnOqStkg0IvxSeQ6aKXxX862RhjSIso0o+NI5ZmwxGqI+nZmmKJIEN4wlmR89/13vVQszxJhbTgtCbXdrt+HqJAfwv/+MUIB3pE/27/dv99tKI2iIToxTdIhEVEZkMxEasYY1zEZhGIY0QwxWZmJ+XLbnknPOV6O3V0k6pC4cRinaELxQmFcjXRw1VJWuthO+uS5LNyrYUnrLxBIUToiqhIvSuyRthMhEihF4QmqRNDRiOY7E4peciKGtOarqiupNyTWUqQQVmSOyUg+IZgigwsyiEXbghQbpjfI6/pCDEbsUSTeZUmx9SkLeVQQvtAgbnH2sLiT5Yzw2FD4lVHuY478h3vCwi89Wz0RAQcdES1vESUnTQNTWSsvNRF7VQ8XCxVXAQEzMQBWAB1AAGfnswCoAQJEh3Ec0b3GVmns/usx5VgbKT8C+3/3h1h8BkMAAwjeIHoDb1AnchOVJFSUvu7ySVhoIsoTAOgZfqPqlo9HfY3RYCouWFmWvTiO4jBZY6kSlVNEpX96Ntifs7cUHAgk+7cEg2CirsCBJE27JIkylDLCVt5knyE9xc1u2d68p206wh+Eoetf2aTpHMDd+sqZiKR4mIpPH9GPxyUGYzreYdAslxhiadqiGbJgoDlBNAFAQLaI7XtQnYpuGPo2dd9Olglwudv52lJuPTKzb01r0Qs9dNyo9RPZ79BrINDi0yyWILOllU0yU5yPB4dHYaB2N1DWu5kaJBK5JDBMlioygl/KRCt/7JVKuSWQ4HhlamDgECJ+RlB1wJyfAQBEIvkOQ2GVj8X2LEx2rnZOo/nppqkrayopr3pm6jind/Zwsqa77GcqL/T7Y2JQ6r04qTSqz1aPNUaxb77ebDTqV3hcCY2C3fQOQHB3h/kOLINLXCnfprCumXImCXVY7SfobJSmyXdNsUn7R1WNwNAtFEkcN8C6si9dKAe0ay9Xy3qHfieCHTbbm8CDW656CGIidk7wyCGW1HGSyQoK5ZvfxaCtKultPzon4O3nufl6Yy630HG1X1k5/PDzt2nWTywO2h0Wh0+2Wq7SdL0g6X2BAD82B6qIBbAF0iQClCHDIARkUDdGuIIGEonECsSCTxjjn0WB3hKjZ6iW7nf0pgnFl6NR8XEHSGAnvM0ZErGckSPoiIxFqpaCgX5ToH0glO6aBvIiIsiKJzyoWkIQjPFw3BSPxL8hZFTLClQMixGZEKe50rT5RNnE4MfWXkXVwcVGXOyu27xyvGqyTUqHv3Cep3q1To2FD8Cg7AnW4AtgDm4QGyHSHYAQyaAT4ZpiOB9fAyTbIZjKUWaDsvUSpt5jGpyvQLgd29dPQhMqSagumE7zLvBYNp/iRij2TD5LmGUneW7X2INckDQpTew89SFs0Maofj4dHk6Ej5Ks7rPT24qHuKyMy6LgvsPTn6SU0Uzm6mBu/dltcLjw9qnY7pSeDpp1ylSWZItEky9c7MBRHJ1inCOAMYCYJMCb4wegEdluBKlybgLCZMUp0F/abH69tUl6mZ3aeJQrfO/IegSzG6EYYQlFdv2JEC05HiQOwT2A5SP6aKry0DspHzk4KfSunUblVQRigWzCgcBUEQ+OxgKhMldf8ybOfyCp6uUXXThxIONJQ/eWvlr8bsGjJx6/uuapmkTTS2nUQwgiCI7/PMDZdFdiAnAMnZh1fQoAKAnGk2lQFQ4IJfozLFWfIo15SJOczGyyEVte+Cdas4iEQKnWo+E7Rhhpy5ip4ZcLDXlycXixh88cM5aN06VEYF3yWngXEW2KYqLFzZomyQOl3F8awiUZ22eQd4pba++Uv6VS5fv0aVqYvVrktO17chFaiNmnKRaY3+pSlLLv+vnpzvsKGnUy40LFigkbGREKhMaOGRYeOmHzZd5t0i+h5q+yvjkgipnTo0NswfPi69/mxMuntVtdn94ymnRZ5rhQwaMGhgSEhY8EgkYeNBAIElFjRpaGltWrRFXudri7/1g5Xued2Ld2xYpXbFCvVse70a9T/r6nQ45p+66cd67cI6YIbPKvtuEyZQg+WOHSZgyMHAODAYAoGBw4OBQMUV5xVJbVSk2Gyev3+uPXSsfaCEIujjDmQwrEdJHMdkmoU7ogd8aQhWmyRZppuy8eWt5o8SSNSaLErHmjTTRa3tebZd+TtpbCJ6uPjiGKUIDmKKEDOYwhQhylFOEUjEWzp7NRTO1Eoyu9F0Q2/Zt81Du05Z1T0EIhaGKM9TCFWhBiomfdd1Xoye+L3U++3+1Pkp5Ntt72Hlw/YgftiVTdi9DkejJ/mrKgYhwxTGwTCOGMEpjIM3cIdKVCPiERQR5kVE/CYiUYxNAhjYRCVUEsUYQTCMgyVE86OvtPec9KoUXq9KWR1qJoyVcwqCpc8WGKRVhuMWlQzHkYhikJ/kHJtj6NZtzIxk1bp46Uy6mifKNUQnCMMjYIzCUl0Ebs0LLaS6aMmVk8bk2vExf2dXFJ5S4SHfXufdNWZCsfLyz1UWusRc6VU80VPI+IXthsz0TKrMwwwzEYiNBqITiYhE5nGmMZONRKzoNRKRkyfHaFRzmVSCsnpWK0aW2e/K60uUvX08F/Ljx2fLIiPWfF8TTRO10W7MZRJBBuI0TJywkTKCDgi4iVEwhkqBtWhONpmdo2+KJ+jJVG4kSJScmUxe+Zy4Uyx1h6dsLLViw7KlLmOM7L5KqmVEZUxMyXBpymhuCKhqgymNERtYJETISEQ1xDPxrWTbNdRFEzMpu2UYhRObTvbjXJyCzSyFN6RSX3lqrF7LJa661hebokK3KKCOzZlJCuBOicaJiZDIxsybBviQ1RtBFTbXKRCczcR0LMdiQaqg1RyORJaiQpMy5LBLIx0zkYozk41FMQ+FjRd3IEKz1BbZrsjiKjsU1maNmokhKJRP0JONEERJgjVhuN8Y0mQl1JEU8jHJELeiFNvTFNsEGvGLiWRMoJQaRe0QUbMGE6OPtLrINVSalPhPzVjpbLwisg4bIL0zFp2ODBdZsp9T6GDMSDAvIUV7z8tiSATBDawIghCozwLO0VWIk6QVnljOzCh35s0Uyq21jki6Y/jYxTCwAjDhCRM50nzegiEezRc3Wxrpm76R/xMwX2bx9Ye6RKJjKLvuKDD6hG4YXwaoAXdAjeCfAQEziZS1Mft0DIRwVn3FOE1KK6hRnbhLfRqB/dAI/41FUK6zGSM9IrfaqTUKvIMHJexPWIDUBo04cslDgPceGrOFOeTqpzAPN+HDrOXIpb1NXm1kJJt11vOWENkFgEgOmEQ80F2YRZiUKMWhSnxf7UAU8uTrqKEpkmeWX2Sy9mFL4M32gWITE0ERLpDDpGvgaWToekrhH3dj3qMKaN4ZMjJ+FJ1/rBBX3VYjvUvIMmtF0TAmiq0LAiL5OsrzLlXIZREFIwLRCYhfU/r6oQ53vK/8v2wxQjG7tHzhXQc5JFSHK5QazHFxVBjUClja4LN4eFvPdUUfh1mvCxtfCUWzDlX4m7a3JE+QNHY08yHUmNRNM3DnF0uvUnK2by2pfmpe0XI9sgVJwiuKqaJbKoh4VubrxRGlndXy8TGHks+E7vrmV2R0+olkyGEhhkvPwEt3TnCHVJEV2+912xjIYttjRqqn7YqRjmZxrsa0boduHrv8kF0/r97UiSUfsmIaiyYdNBoZJkl5Xa85sQPjaU0mXaCqsdh2nmpfE91kXUnh9bbaEzaESjrJOuCqs+04TsUeVC72h7ruM9z1GJeSsVoy5WLayb0ImI6lgnJvxRSU2Hdpzm7KnGfCfXLR3ulC0bYyu+BPVLhWLLUQa4Q/ChBKHySJc8jzJ1DUunjMlEcq2lVvs8+TmavXf1fv794xuK2GEvqv9FpcRGUWYoyse7vIXkHTZRkwmiLa6XpkVIKkA9jjukySDoCspOE4S4gn7yC0tNbgmZjkykIczy58pG1S7XYPSfg8LNnr5w5EA2kp4zbVaHEXzCm2H6HokGImIYrn1ijLzWpJFJJzTjEz3EVohPhtSiLiAgCHsx0IuVJbERGofa6xIEulQKk9Ub9DxUbbboefROv//R+JbSeFSKX764T95SmKyEZiKeyoL5QEdg7F0kRyUReifKX3pF0R3TUzTfJrxc3DNQufkBFc8jaZl1+gDU02te9Xc7rMXnDNMMCmmibzy0FZuTljNcNaaz067l83SfxeGF4XzANJYTiQZaDzwacDENl76xIoikuFW5CNc5V2BRjimukxIWqYgI9+V0Q0XuSqnl8flU5yEpWZOiKBRUCDoLYgJzwh05mY3qjS1eT1LwK1DWd+y6RubdgwZn16rVju1Ll1RhZmZSqt8xyWf/bFFTsNN4RjT4UIQQBuGSsmGChLyRqyeAeFggxDrgJRfCiSh4iIC3DxG1QCDWJQNCGwhZbpEubi23Z9MSLbFzQ5wMBEDdIsE69kBByst5FNdbbJoG2fBXkIUu0x1MqCYzdUpCsSrFO1R8ZQV1CqVLD3XKmJrW7JQODfpj0lswaslTGjtOIsF3i0djRuapXam7sKzYjuCM3cJnTeS32fFWkYrfEq+hm2USyoknb+JhZkr+a/MmYa6B7n8VimAXR//+MUICFdS/1P/m//zACkAIf/6/63/gf9J/yq1NUZ2BlAhawikhY+9C59kCqTztV3aJuUfG2dDGRSo8LFRM0k+lZWKsnUKbpdZR1w+Njx1Tc7vvKBgGC7YrKV8LoiMk3inWOPGKTSO43rVysUaNrApQlbk3OROXjNqKWI9ZmLUtDEnCVWPSkLaksYlKxv+M1Ylk7SJ9HmsTgyPj0Yn8pNJUdiY5k0mmsnlUgkkjOjyuOz0UXIitjc0Li0ttbOzs6uwrS0jIKNh4eEkovj4VajV2hVT/rtqk6e4iRIm+IMQ4sxyhLh0ghQRIWoQYS6tOAAwAFEBOM44rrcKu1dwNIHMPwqimZ3Qx/vnfH4jkenfOu8Jredh9GF1VE7ocyQahDCaOQsP7UqK2KfNb18M5IpXEo/Y0l++dk9nS1CdngJjWWhQFC72m6qr+iKcuSVsQc6o5I54I+E1G39LvBhgU4ZAs3MVK3oSTnCGODbC9HaaIiXuiDCrDxYDY1Bb99yIlbJ2nc7/TWGKLgtlA19ziqHOkYY6RbGehnPTXayTaM4qirSqI7vcpOkfnpsigNf3ODt9B4Ox7clmcfuNjwv/ZEpJpxIRrwm4JnJ2p3Kw/8E6DrDZmxcx03pu3NBoNcAmgsAxJ1hT2oU66FJO9w/led4bbaHWps52GRM6xi/oz21Jvax7mClCIjeDJm7ahKd357Y8p4V1SCs2pSIoZkG2b9226c/tmqZyk6FqrrOBpBg3g65v2toCjnddBzHWVQvpK3J1MNNDNNiYn4OwNULEm1pnv7yENoliccgTcImIgG/EkW0RG9/+b1/9KNK6pEiSXl9zBGBTLctyPKvxtTRjEComdEiHXCPiiqY5dFc9yXLlNJ6bQua/ML1fc7p/vu83kSQpLquba0nyFt/1/T4XoeU7Fk6AoA0f21Dq5ZK88gs38yE0dABHwJEWcbMkMvImWcQSHeE5gtJfQ4BAQSMpLLjhXZoblC8fnuu0skrtLqY7zhqOpjv38/J/Gf5H6BYR2gmY3RUEJUTrtv8veiACKEydpHsP33q/W53KMMxnWs6xAYrMs3ZPzKyG0dF/tj6ckMjQFSS3nPOWNOPuDKhISzj2AoACdEaFUlZTgkYkIGRI8Z4AlhhgJYMUAvyvcUGHNa29za9h8gzymM2Ukqe7uPH4v7QF02DXONo8LACxA9QZJhI0hODQ2aosIcL4WrnTGu8tD2BQu9yGJzupQyNpn99HEcOhfVuNSxO//8dsqhlxM6c0UcN2Cbhc8KO0BbgZo93Yt19JeETE/jhBggJwF8DeBOg3i1LSP6cNa8jc7Gk3y0z3tuUfI/eb/HJr2yq7oHCEIFYDgAuQoCvXOJ0esUoixjhRGQSKn2T46dudfo69HZzaa/OdDz/7a7nXc7r6DBKpidSxaGuSxJ3xUwmYUEc0pLwBeALEIsQJE84Zt7Q/+8JQA1w/QLQUoEITqkBKSouXkqrP6kpHkU8vZ3Ux9Nr9N7/abtyyNf/B3h8g3kC9FKskE0citxPixHqWJXItWOX/1Js8xjWd3eFlsZz/xQ3Q6/Z8XG0GKw6059T1PZFkSVntGjHvHDFn05TAXIKcIFMaEv7dhf3r1AOkDMAlQiQQg7STHJGpMLJOpjpwgHesJlRGSt4mzw3249nWJKygcQL4JwFIECMBuq5zZnAW+JQfh1l0plMv99SvY3mBz/e9/Rymy6VJef0cz18LTYBE5rvT4KXqa2rtkpNOI+PWPCMHSBAAIkJUc5A/YadyQXOVpoAkAVwF8KwGqRiIBWSgqGSZCFQoSkVFcxcyVo/dqzaUn1bYuuSuipAIYfgTwnDrXSB6mBaR8idGAYhHLRLL3h+zd7rG6/b9Dm8bm+/z0X0/rufRm97g+r1KR8VF1fJCUU3Jtx5Qk47vKG4AyBaHob1BBGyEg+u4JsAVYYQN91Av1WgAceFruoliHKRC0Szbei9kr6PKlFZRPttGoLdxPkHYPMIcs3QpcolNexjsFaNEj2Yos6v8v/87yMG0ed9NjueDT3//vI+Hc7ep3HVoD49Xr0DYd4SamBP2LSPqLvOBYgfwzSdPnVjBtiCO3oogBOhyAkkSFsks+Ck6OMD3M88GB0zLvONC7OVaz1V5L/yzflWWM4gxhXina7GQWrRa3bRXG6hauparFiIpXdvf7TsefmZHJbemKTpfq0N8PTi0pnqgpultryOZWdjyNlxEFFpHDFdqQpwOIX5bk38D6vaFjqBUAKwcA52gN9FcSJjDeMI1vuxk9QxLliUoDQUwplwiNW06Krvccc1DwO42C9IhXI1CcZzlsRpAt9zq1H9LmcnQ8TNaXWqLUVn+6l5NE47Rddg8uy+lzMc//9YHjwpbnn9OaZUpbN313iZEc0q7lNTtQZDujqDQCzNtANHg4LqEgI8V4pmus7zrCl8Ni0+oUFm+f3PHvePkke/HkWbdJhyPlFplIkOW5nlU/3uqEd1NZqNilk8ntXxOD7vN8+34OfstllNZtO3pOZxaI8fV1P3pG376lTJe9aFzvIbSkYVTVLSOfxZYHkMsSZ5sBT0bnfOIMXg4RJHKxBiNCHJemMo/i4TVOwy5FKb+78NhrNBAdFbP7OwiiEIQvDKEc8rBDtXvk0U3Gstolcmmbbv14SehIm7/06u1Do1erf39/y/67cbtLEWYjTNZaJt0G1Wmk1qu1TI7yoRyER3d8aimVBIFYYRQOjqxtXDhXc0lpKTmZhUv227u+4EwgFEhISzp1MQzwXiyYrHBEvzFZeeFb52YLr6/rfd1q0b+SOvnlzGGHq7aUVPNbW1imaxhLZhCS4m8Vwlh5BDEMoyTGTUPUjSvdjUbFg6CMPz8KyIISpwNAlBwH6GKbOcAiHhFI6+mEZudP0nLHdTYEwOw5Eosu9teKgIw4CNLIpZaUoZC8yQj2aV0olClGQ3H51EAa3JudXXdYjDvU4mLB1m3qNm5EfgpSQIV1jVhFvT27Xpj3R6TKCxx3SoVKdSCnvdKILmLO/cxMPqatN2FVBRQuJS5V5deCwWV/2oXqc0k/tatuHY4Y2ONgkN6lQtDwU7AXCSoMdyqVCuYpiYNOfsbcv+Zud4GoIcYYBOiEA2KB5AZ4R4U31clABDpEYDBP/KGMDLZEW140aQZXS/pEn3nRPtqS1UjSVB2mQeiZGTErQYjXPQ283xlqrt+SQbQ4GgMNRpTxeW6CLXeXzyEwj6YlLuIxjhl/3CdDVfwu5aYS7y8bZJiKn3J4LVP1DaFqsTGno9xWUTxwn3GNDk4RW56bZBKSKqwfuP85AiZS88+GN7TK6c0ZAHigNpkBGxgYUNsM5fQcWR8zThsvSQsEjNgOUuAys7XR+KR7tWzyjgU4a3d9Fbf7HCzgxbQ8FePTCqEnTnWrtc+z67VkQfM/2+HKZfjJGLtZju/PFPEWJso22icOErI0lgRmWeqwZ9UEsjDZAywVR7Ls4ubowmvURSpgXItnK6hmq1CoYtTobwVM1FLbtkDZmlldrZk0KGdapt2IQ9AEsFu4ZP6KJ/gO/uLwrs8kzux+++BpfRY0QTVuBIeWQ+20ZEnPPrS/Oy5vanKZqLR5Oh7K7ag8vwm3MjrUgEYIcJxwq05EoucVuSRUBecqMW8iCz7WVTNoJCl3pdbaUFJyYyEHr9lOHZ13zWbWHj7HN/l3aczKAsSPjY4pP2kHoSUUSG7Q+oc0tfzlJzwgjEmxz8mTgU84fWmDyipJTV2CJ59/RfloUGjXo9lIuohghBMvnBlCGJTH+Zt8gEMOCh8nFwbDFhbQTi1xIKM74c1Q1Blf1apqWkIPlDH/Vws2aginZFQ1c6irlW/kUAbROdBanifeLWEAqG5S1ub7lkIu7ItJMVgBGjwpnQGX6a5YVcyHbNouOm3w4iv1K1j8J5dYIEW2otrGPUdCiL+bb1zuHUp6KLEAwFBbTIn/kgV/FoEkCK5w/lZ3tI4feiOsxHjd92Te+5xK7S+MWmtYrdQoQrWxud8iokrFrzRz4vZWaK0QMnRh/TN8gp6s4iuzNCEZponwk3fkFb3Byy6AECMxULVp0FgibTrthvv6JxuQhFYGjUQl/BJ5Rqkh9SM+LYKz6O5CI8JfpZpfXG4Nb6B+NsblNJOB6NUQG4x17MohcXgShv3hPTvyLnadvfBI9IeMRcVT+mqKR+whj+WRJ7S86pFKFooHRg0BfNkwe05FfUliGlu4j3t7+0fMIhUsxvoWXR9r9AuwKr2LwmCmeGRvkJ3Voh5Q+4r4hrq7PlHXIrcTDVNXRF31/zQvllGgOdnRv3F3f+r2qX0R8app3qOTfawLCyzTJK72jw5IUm/y8lus1E1RYUTQIixQeN/PgBKzl5ILMHFpWh58Vhls04J6evbcAq+e615GJBil3UmfW6tFnlKV0ZXHIRQIlQ5MPXoYjDWEU7XcCqvHla8IKKtJesjU794yR4hsBENQN0a7paWr8rAndL0zxQqpX93cPwEwxpFe0usSvNHcfqm+Kp1CA7bWBr6J18azOkvRBEOFpkTGsCBjcTap7+wXKatyzz4E0zRIr82HuEjup9exHd16JNU95MsXTIjTG35iRVCbI5CSFD3F7GiaYPOLHvp/ix8CSfITOqH4FKJGkCFlp+I+L1rLTvJT0guGlVNhv9+3Q8k7PoleFN9MRwI3dgjMvYY2QlveLKac7CygCI3FSMifHz+mdkgkSISUzXM5cNx+zYjcEyCvV6VFbC/caA7dJJOnKq9Ksu9WdqcUnEpJlL7R6CC1z4C6b9h442gpPeO4WehCE/3rq5o0QSq6qipUKIy827JqK1OaXLkmpIRj/UI0Z+Wl6PW6dXv2c7RH0GulPULV8sc+gamI759Nb9P4dHpkRxbdvVRzEcJWdAJW5XlTYMWzmY3DkVvqLfkjY7czxVMi3xYK8i/+89ywZY9d1BCukeeUchmMpv5m9msGUyiq7MbmzD/QyBRpQZhyaM1baiTV2wLF1+YiUCxUYYxKpCaGoXaQvGHJcx546WmmNPw+aEoKlXVC7Gb3J+YDnylGx1jdJrzh5crTS0nO1IyY33l31yTEYyii5Pd+pJbVnApcnmS5McmEVCjb5PCLHTclgaCS9NvqbP7abmznsMnd25ZJScUEuqQLGkJVzQVEJ0KN2Kg57OCEa4KMMN3oNZ2DE2wg55DcIMGbCoc6SAr8+G6VdP236AqhCd3WIy8gbcESSUprMbGcugjgratitToQUa6lmj2kK3H6UuUEBGatZDfGTaVagVM8CKAjYvHGf/NHeG/zPAFmRMIqIpKkFUJCjuwVKqo6wNSDAJyTFhroQkoX/3KUY9djf+RAjXhUDk4Rx3U55ormD1hlumWCLvOV8UzB2oso4CQltOER/sfdSigA4IO8Pyi1EVF/HxCqCxuDpghzJwrvJTjllKizA2vvtFWK0hJHQIAGPQcQD7pDAxZj/4bZZVPdqbyK3KthUwTp18ZVXfb70Zjti1iyb3riKOKTGgDQOjUylipG16juSlr/Plsy1ghR7RFSNVakKdXxo16Lcuh7yckAVjk5SBVf1zr8UPCwGEoVF63Q5LEav/kycOx0kvS18vMfVmpugkBCCtAIVTSHt2MdbUr4G/2Gh7JHF0cBLzy2OhSi5B8DxZfoRD+5w4XSDeEMHX9OGBIIjwQzvE6rRNPITLOVBFlqYRgFbtvs4jMBIm9Gq2LiyWiXaQaYBUOsNtRO6bnscXQt13Wh5S58wBYW7Ph/q2jfcgJoQt0pppIQ5A1OKKawJmRRIUVYNPe7zmSUTnj3MD6Rl1u2KlZSdcz6ww7ckHASAly9Z5/Njo91/c5bEQGQfR7E6sSDGaQUhFnFcamY/tsQ4TDPL+8OubYlvrZlvGGRs7qDGuO51tYBaCnZlezoJbWiSC8ON2NOLBxKfgoZAuumhHiM3ZRUHX8nNmLGyJ7ZmzCl8i85A3OwQs5lDMWJmfcJB8bnmUSnKQ4iIMG1Bxl4eODWikIRktlEQcjIFMu5oyVc2as/zOU4jbI3CK1POorp9/Wd+zK+79kywvOguFhvRSlobUY6ejbiwmMArgnDokxiD3Mc2D4KQljUebSQaP+OvocTbaaMk6E4GOW/NpfOY5RLSlqdxXLbKxSy5arzWiJ0L/LAxW2g07s28y1MumsoCF+vhd6K6W1wOFs4XjNjNvadwIsynVT306owhHK6iucfZNqdhcjlddCzVju/383+uU7fkhIvWdlYV5KeSFm8PoVXIeWE371pHT4C/w3FbAI+AZ15gAToAhj1gIaJeKQCdFeXFr2OHiP8mGU6ojZ50eBWB2m1BTTqmWGEUcEVHv8gyxEtuVF82Z5OeL8criMD60OJ94Mv31IEsEc9iRkJ1POYRGKxQbrq0B1uRtt3o8MuU1/7F+GcLY3WK8udRIlyuQyX/A0QliRL/zWYLsjUU6vX3Ep0QySlVRFYmy2lfZV08CkHWVlg43XtO9L++mRyb0k7Ebf9J+OQcypeSasj2BbBMjegH9AUE2gAaYBtDpgOCM6N4CPIUe1+XiDEFAw6q21WyE20cILR4hNzh/YYhCjenBXoEwHEw4hKrqoRjjXpKmUnllsCFRNwX1pRpCeZcR02tB+EbbVd5HzIUobIq/38TCkOTa3aVK6butlOJH5nqaK5R6eLQFabJuPJJ4KkC7WS48gmiES5DPFQvP3Hm0EzuVElNzS7Vc3y4zDb9D5jZU3RGV2dU2BU1H2VWFb3zIa2LMuabUrLUont+AvEWCKgrunDpA4FoGfP3yjdOtser9jILxR7ynyzWto6Aew9GYSOZsQs0d38aIoYBAqPI0Y/1T3eKe56tBadHf5/iafGLdCOejOvtvbZVcYP5JMpif/+MUICVAU+bD5lxmIyttjE4tckci7TsdCCHVbCgMj2PaC3Xz+WWAmWE/D97oR4SwR18VDMa5hSlglyQ4FAdzuYDBUVU93j7FhBXeBOyOhU/cJajRNmlqiTpJerkk12UCeFg4t0Wpw3IpBteirTedU6/HGWapZt+9jy1BXjxV7oLDQRbDx0B5WapR9DuEoQUgR5DxCYZe7u9FqI0IplFHiUE50Ruu2j8qKr3KPAqaklBTm7xfR5+BcVkKB3QZKonW3P6mM3cp/2D53T0PrhsYXNl5Ncw+ZlqfN/06mLBLowqeOnMQrEGJAsycsDJSt1aeKPorTVoyBEPjg0lNnPQXhaRhHE+eNQqSwYQX/4yAlNgSQOLAn2AgFxPGsf9JQErOEcI/kVgvGRJObj8dsC2S45ILFhTa1GD4VonO0xJUV/If9uPBWi8+CVmx7ZC85LFCDAlx8CqLN8cqM143KYWBOviUgrFJn/IgTmNZooKX72v40YVYUoaPMr7DhcqQoymFUg5oZVNf+HyYKg4A4Y1eFkm0RSEQoJKOW1ZiYCSMogzDcdOYTw9ltCYtxLNqTYSr5NK6iiGYqbLabLkyKtnUlXIlvPXj5rGT50zSEVVW9wQLmW2SxR1XfoVFyjpp11uvgkFWhACEUiXyBP+rEZbkWhuG9Mq7aT165zgiqcFkn00aGts2Im2XKEDLBgUJ6Fwl5ZtTDGkaO3zosNBycuZPSR4OgmR08OONcGS2WRZLJMKmQdQ+jahKzU8mMi406Oou6PgaHT4ubO3JAi6UG03bXqazRF8iYElZS96yZfaa8PDKJTK2DYqZkuybkQGDENzggF4LUmYpWkBiYsdSscv1vWZ+/s0czS5HS4fFUPd6po0fUZJG2cfXkeSKbKmyXSiyL2CzaZF5tYfB0UE4xwMjgcSkYM5VJhIXjMGsUhktFYCc/QlWu5aTo+ul5zawLCJ5VHH8us062RTYR1Q0rvNvLp49dEVfd2EGCCRLohLlOdJwnPV6uqq2TMi+TNW10zLKpWJNOefFJJe5pLSRgWeJPYWWcJOGKpJvUonoyCn52rMKtb3CyV+JSI+gvh7GEPeeMGmBaWkIu5GrnTfNX5k3s0oSYg5SjKGUOSilZOIjavpkSXnW9qWKcXj16YOv03ES/udJZZvRjO9M1OyQYCBETSBgoggCJA60xAgololWSjQR+rMzQh4db0IohT/w7j2w0p+E87dfGMcncM7Grddd1FM1VJ0SRfR1pa6FKuL9L33dEYuZkmGv686ewA0jIFHIggEw8V2RYBAIN2D+kMlUxG4pc5npWnasxLFzvhsGJpP35eqIQhSix+mlSCsJReUpBF4yItwnJCcoUxJumZk/A6UwhtZAVXYKIIxdzPnEdA5FQjFQ4ZyciEwi8R0doSIMaF4zfdlLchHo7Hn4i6ttCv4sbCESrReZRJg6+ohkIs5TbKWzVmMR2yVYj8SxpGTxfy+GFqMiQ+KVJtrEQokXEfISL2Z2Girt8Q/Am6BhRbFQJKYyi5yH7G2Loooikyz23RUxw4UW63QwRwxTwT2XbWwUa26U5wXRURWSxdd4dySQS7b7S1a0RovfszgAAIAG4AAAAtNXCWtDfGQVh8sclHwGTDNZaPdakghGHoQacbru0U3V9HCWRo9ye32n9bkH64C/G0IGeT0PqopurbqL4NlYmgaagFcixQ1AGECrWaGhkOGkO+cAv9GynGmbIksUuJVDr3aJQTLMCRQ64kgl4gjR2rlvQ4Mwo79FfXxSU2oSq0EkzBoE8pKkpot+r5ChQ0yJMxptztDCAbMShDirB1c/NFvKlohG/Pox9SyyYIiFP0zspd4qm4Gbl+RvU6jcq3LpCv+oQ1XpAKqPapNxLHuncIXCaQWmR4vWYoq6ZKuCu6pYx8jhJu3I9X528Rf4pGwq4sxRMKT5Ub2knuAlKVPvfNnUcS1fIRYh16EEzmmClTQtRRL1nnMbsqJVnOLWE3lPyEjrXAJITSsc+woGkU3I+CWRoEIv/YBAKc4QP0EfyCaw4fBUHYwU33RHnWurmNHIRYTTOTeJo5/DbYyjbibYCUwhpdugxGTI/vYqvxLJ0zILq2lkUOdybrK2bKkC31cH6vA1im1DyA1zBiLV1pIDvggcY+FZE4DVy3w76zSI4xopy0ZuBlD5s2sC9atDFlunXxYO4pcX3oBFkw3C59s02SgQGlh9DAyO3eFcE5nHnoFtCcSZxyC+heulkiR1vfedD8rcsEbXqKzHhCxUrRG2Yg/fS+lbwbW7JNvZC0aw5mDB5kwNfWSHn3SPmhAKn6QUBC41v3iLq0NfzDtFmFzxYkTGEloVIWlVUM+tslp4cdOwq9fOMIAxvv7O7qpZt0W+k6IlQak5ExRPae5uMXTAifnkcMjhBR/L+Et/gJgJaIWtwSAq692E23hc/2fyuy231lKkSbVGdYiidGjhzvQY95rtBkxmRjrIttXXCsrSpk56335O0TDOpaqmdzzJpxVrUQOHiPO3x28oK4rRTjGVxI3/RVzfonbjmlTVGQ1AmTVBXGkBU2x4VQqVU1E7QvR95ZgYBTkGThgLVk0ZPTJeyjG5Odqq5jJ8kbwqK96ms/XwZc1CRwpt+IdN5ZIegSLWOCcCzxx5Jkl8wzsNv92FdxZqsg5PUsSQeB6o9APhT3A5B4SJcmHost1F5zbt5ZOlT+Ir7O0KRUMlgjuZLTaBkwyVIZKB1opqIdgMxOUMjMRTrifl3xqELG+hzVcVMj4/TmIqbhuqhW41qnhrJ5WeiwpdpRIpP63rIBMeOgMmFINk3HJVLefhaBwkv+Cg5zZzFtNqfYXERlwBvFYxgjAzEMAb4EKigG81iR4xGVCbLcxTzJlEkEKSCHeEKcM84nUp//+PhTEm5B3ricBxGQa2q6UPpWlBFLReKyYXIjyh14iCtp6ZQZArPfpatCOCqvbeXjoPsKJ0QWg8rhnvf4elpZqjceZnw0utWLqYT0/nWqlp1r8/PG5TEqjZVxMaWjEEgI1r4eF/Q8xhQyN/4dbo9JPTzz6Hr75S2nzQDuAri6CDAMsfougfDGm743Khan2KMfLxVjjWJLHCXDTMFIO7pMvEHsLRFi7EHCrYqhpDUVG/b40Gpfm0I4VRYcIgRC9OjKo2XvN7rUa3cpIw76ICN/7WMkNBdLSavlcXCi32EMwvA8HBHg81f7QEUE8Vzo2Po5oJfe9x07lmmKT8okdIJCkaD4gb3/YQPdmxPgD5pHlDp25Dim79FHkU7UYsKwTHXxIKxbH+GnUgyiib/mKpoE6NOx/UuWrUJajGew8FQ2sTe4XUhI/nYsZPbziEUqpeAxpjLq+ogrCgQ0YhRH0slMzNhS8eqgW/Cqgx9C4QGdlNlWnDKRSnKikTaZQtSItxmdX9IZxpNWSeLvn8UZGjEm2TkdeiYIgOegEC8c1EetA/ACK7AZKgL4VQEKLtkVT8Vey8XU5C/+zHV7fCVxkZAtkPTHaQy4r8dasjl6M3SjGTZ0VRyBKaiQCbC7tac7WJnseJnfvEfFXVjtb+J4sKZ8SsT++thCZPpnvMtwJ8gVwttb1lo5GEW/SukSfwms2a386XKbCLkYESAQduCCKEtTENQ0Zzcb5SRRDq8C8CLFWPAugX6lFdDWpFyIKwVYwV8IIyUKTUWuIRrNuQT9GL1tbtvzVCuikFXi5Ql7i2VJcIeQyVz/Yb3eLnzHoG9MpV4LMaynT2mAPXMwtQ5PuX4p+HXC6UG9+BB0u1uVnxNnp2/YTwm8JpNpmhvcvlRz8Fz0gWmBqROlFlk/SjF/eWJ5PzKm44T+xVXsPr2g+tdZgyJYLL4cWewR+zBSAdk1yHLWzYgEYCUgrT8mrcAbYH1UA0FYBMQ706vRvpNJQ1oyz0xLdX1Lud7u8i4XI64eINP+pyjNZxvrG1+OH6CzoCYu4D17CtpoqrlkHOrAqnYocZy76yffsbpkDz+Q0Viu6REr6d6zgcbEkExuBFbTSaLWujSFoupImcyQR59izwnJWuprak5IcKMeUbZW0zWZUdjqmjXQ1HksAw+L5rcgUHikCv6O30aKiyjk5mvJSyd7BkCIHsJtOhPQb0dW08Muee1dbmYSnNiDw7o9pMQzlNRmiSx94YdSr90kbkUCpp3h+vOhSxuNoJLLEZ7fSWV1TwimKVQOZXBHe+xOsbn/vbxWbq3UQUqPyHeBJ5HhoARTehqB0bgI2ci3SumA0RMnLuI3VI8lZx8gJhZ8RVK4T6Oy647PqLenSht3QaqhjRy6FQQUa6UGcVHbgzRiM0LhIhJYo0GfOZE1lPPiEfrsq2A9eu1ipEHRMvauNCfrmPrbcaec9Jg4sV9Zc8kcuo4kAvOyqzISvsIdCOE8Ch8xLgxglWNmgNBMeEM6w+heM925UC5ygPDZKaw3PKSdn4pyY+SoeyXx2AzMxSCUw/tGnY1cmw3khL7BI5tSXam6FBCBBmoLgkOVTchL0cIoOc2IEkvGaSgqNDTwsAkH59+b89HYWZXE8PENGqhP92moMXwXnJoWy4b0+HSFMiP+M7YkUnqnxMYTZv4j85CZuD0NRxjo8Yo9u5W3LK/VSVdOeDYSHiuiJytxB22DSxmy90jlENfQstMjxN+euqRPEfToaoRZ5FhrZWHM4IrFCFIz8pM4xv78whhp6u6AMmF/lycEKnbImKSXW5YiBeqood6WP8yjL33XNJmZvkWr2GtNfQ1kqprXUfcSNOYGzsUOOMdkr0xPT8UIwiQAjoKzTIcZkZTuPjcGJvt8xJTdARqR4OQF1sNM88I836FVcejH1vYR/pqvJ3RKTkaaQlxa5BI5jklUi8lUhRoLYgkNZC2LbOz/QspdvAk/DbS6EMHRoWi8RkEp8Q5zI5faryxLTSVEpiOQBHbnjPBIreJxVarLSkEpHKkZrIaIs/kKgmilNYrEbbybMuE8m4f3KmI1CLVVW7Nxi9YnjeiyU8fU/+9g8TCtSTQDUM21CqZx+0jtN1CHRO9KBrRwtI0uVOd5XTREAyihZSZEVgrRNLfkniDH8hy9S+bHpOiHjoOsF3Fc0HSq2dWD1iol+NW8kSCyb3vTV2Txh98qRfRIHhuVBTgZDh1vO+MzaBuA/UPMFA3wmafkzlSg3ItM+N4xzAguQ8in83IabLSOiSBfOuO0RTMCY3WfrHNV+kqIw/Cz+EulXtMdA32RZ2yAd1XAeKIM9m94h48rpz9RbpAb62SZxgPYpSS7mFz9BiRDbVtZwRgJ/Bcd7lCQ+J7JY4y402rypOx+8feU0seDYQvi7iczBLzXCQ0ymEWlKLQ+96FZXnPRdB3NuZ9+pkCaThxh0kkq5mGPD2ee7jv+XPMPH0ROliCB2lFjHRyDsScDYy1u/toh82zeY+VL6HjNDuQqYGsgQk1k3V2TDp5FfiVEE0NN+VPFLW7IGwg4iS8WqGkuatT+cQpB37LMWx9BsQkcEeq+loz8fEXjdvAPmbuXGKi8gYfXArow+ZfMecPrJYx9P2HkarCI0dG4ku7lDv0OMmNBGDDRXcMRJEnoSCPMGJneFSsw1efxO6NJhgnZDKIawUYptsgIdAXgNBZbpAhQudo5wCSha8WhJgivv1fEHDoTTG7o0k1qwaGLGI0DKW0Tc9o8vfx0jTytzOq/luKaQwtEFJmhiIoVTWrEjpnwlmolFTTTlWgWOvcWkMj1Z+CS0zvA9uRMNY07f0ECPfKUG7hCCt0y51B3if8L9fJVjQAxV1glgUvNKlKC7G2LHiVBlrpV2BEH30bVZGR0pkHJpD2SLsuXWdQJvnqSaMLiISSL+6HUi1cwGfCF+ZpwWcNntcWB4IjMvjhv/ZWLsHBm+SWQ68JQ/1RmjQ1HrHSHUnYUWEfh72+qfbyW8W8D3wzQQ2NEEM1hkVbXo71SG2twUOWuJyQ8vWTuTDHmEIp/WUSYKxvcW8su6WrinFAqN7RRz3cUuDQjOx0Tz/7vMecJf6k4xs+kTf1e5IqokukmxDhCdl26HgA4l3EEkpJfdSkKYyQBNreONYFl5OJFUndCmI5u//4xQgKWU4AgwB9//sBOgCRAB0Bbv+atKUVh5Owd/HIVIO/uY1F2PWpDnHBkkW0Wj6qkQgAYd6wVMFh0qnDi3fFETkw7LvzIotanxkbWPSVC465BnUXSLHzPNPCk5CiUz7Zg5KFJ1zCaRQtSpZQo716CaWRBHGRogNvhcKiOM39ZUK+XMD0yLcivqICzQwpLW+6FjG7uyu+hT6Q/yIAdF++zxk9H9w7xtxndREIrrXz8CRfnLM0h/YpysklXYiN1+E/cgfWUdicisgvfaSnb9XVo0ajyIaFmagVsrKD5qdWMEgaJTIvJ2uSa3DKOJrVRh1PriHs3ZaV9xFPjvstktHZWCGd3RspqCshYcK0ufQrrCkydKFMy4X/YHxylOiYRXMUGURFAQdQKWsa7sCTEJsrlexpNbqiFONuJW8KitkUBlBkmL1uKiVRarFLnm1GTpzp6ATzJx57eIv3KwExy72te45wt9JFiMl8rToLBsZUKLVqxkTriop6QtVbnZKgGt4vVFWWdfR8o3cJZ9gTBvBjBYt4/jVQOcuDadXzKuMY9YzjUyuCpbB0YXny6WQVq1dMcEf2YJD1Xzm4gzvj6h6+hhlqCf1eVHyCmw6y5nYGRnslT+zVcvi5gl1lOxFolRVvvswOTIfFVognpgQ/CZT06DtXsJZFt/Ei9zTbzJR6wTYMXSJDttwqqt2F5XVk4XeDgJapcfPl9ChIk45nUSkvNotvHlgJDmhxBTy6Q6I11yFwXxCoy78Tmpy20azjpbqnjK6eCvJLgoSqFw3lkLlB1jJd1umTKIVi2+y2kIiaqpiEnwVjW9MVETVFIkRJmLRutEVvhmvg3WHwHb3/TKkM2zULq4rJEYeic0TfmGRqMDsGRAlj83oSZh7UyI9OQIVZx2+g3LsyKd4lMX4ES3XRhIl/V7Wxli2aCiJAracquF/ctPYrmeWJtxA5KvN0eLP1GZ1apkNT5OXqczh4lVS4i6wttJ3Vg6U6ubfXpcsqYS9arfa0rCX+ZTxXVjE+gn30GojOhB/ZkarkJBuKP14Gkb4HZrmQtmAkkVQeiEYBr7QCQBGbXKLoWWuCavghEhMOVlAXabKK01Ek1/08aC3MnqiNHK3ELXY/1aIQ80c4cUty9yPBIQQnNeRInRZTmg6u6RsPhcs3PBRRkmDvlDBm8kFpqGgAz00LQPLRnoII4BWbzNBFyBf+hFWTIHBhLyABm7bq6mFWJVTQ7IwbV99bIyvJuybWSZyPZ7JUmNkuhJj61skVaHTsAY5OOm3lKECyPUNKTtyL8jPiMroNcU+sBYlCXn5BSuSWH+a+I7XmhZNRN8uniFe4uYMq2kce5flOZ0DnVuS688oJcsmYhuNufJhZIYqZqOM46YwUHJLkPt4tqHI3D50TJ3i5FqCLk0ulhuJrjK4UR46Nyj7LNbJYWrCPxivlCfPcuQtNzVaJrO+TBB7WwEEFrjzPd42bfaeHwLUbWXdqQtChGSWOQXyvWuCwyEx6zJq6Wei9VZhRCvlLKbn6N+GW6laznuglIb7OTmGxWYlhA9V56GPpLL7oMC821yfitXJOYxukxrwn8WKURG3nq7Da7OVN+STlhWPk1pnuA0smX2G4vqbkJgX18eK4cy0JAot4IQ51jQebBof+LAo0Mjm+Je3lW81lBh8i4M/aLwuryL8i94ZCR4vVuZ/VsUibyZbGi+7idOR/HJN1tySxQp0D6oWGe16huYgI7Sble2SFXyzTbHfJakO5StOKNSqs7V5QNFeJkd1TPK/Qkc+ovyVYmLxsr9MwkmEIUKYF8MHdSIqG4oNxiqwJWTwtzzaC3BpCFZ4Wjfk2HpJZ2NSeI5V0/Nhh2bqPE1KlD9Gh2Gjs4L3TNe5YUAvekYlZkbdk3CBSdPhCRL5UrcUZOhIjlwUs0SainbvKWvz6jzDeukmIFW7rEcv89mjP1QvPsfp17WH5sCha//vd6J0EwDZLp3wQd4txBNsKcyVvsWObfVbtEMtPMS6PdVnbYTRdBC63pZRvOYyFATSz1BVlwcShuOqlktVkzxBLqpqqAh0yqVkjGjQTe3UkM0KE3LahjehwZZxa01Yu7GvqTBt9shSDuUPVoUxTVOV8meMFIifCDDJf45xk58GsA+wOA24asU9ONM7BPCiJBWrsgdvSiW4yn516zDmT07/ORLUnPS1vvW4qHe3k6zLGx8li1N4Qp4JY/KPy3nM0nmkz7dlZs6BZjCRJMfzq4y2wXKk/7OTLQ+n9MoSawc6sbHKeyTX7hXtF9XDYzzJpC7jx6Ch95otb8MYlatoDoPSvrssWU0iPrshA2RhgAxAdwiIDjktUJEHYZh9KdCek0S+L8xhugTWRKy9rKpCfr6ZBzRZVH3ZvuQiFX+vPW0uhTiHe7CcD46tWZY7UX8U7zHrVmeIp2lRwsMxclvr5apBdfePFd+AkywfSITmMJmb5NFe99C9uCiEIg2anEpysUkdJrHhilUu9f78lanFyh+fCmvZaEnaXpG4L1rgB8AN4UUCXhxyFF2fxHPFQrBroHH1Q+DaFx9f/jCkDpJOFM7LajupPTj6YzZ11Uen7SkCPIRGYjIIBYZbnHGY6dKL/1KZyhzFZkPKy47UKNL6WpCHLvRyILplbYjTMK3VG8/EYjrRYGIsnH60y/MKXDuy2rEKjqMwLEoLfuPGiw4Kuq+VeFrT+cvVVrtr79UUteXkANkC+AuIH7NSc4xTZaylqpiGyjMiKdBpsT1CYGl/vrpsvp3T/i9zBw2AblGUol0u4TOFw+ltJb2QkCmuHBTEI+DxsyeG8fdIzIoYrTCkznGSJDKhxksJIThI55sdFNthQL4u9ykFVtjIJysESnzaLhY5uVFefvO1+swKk35wSszKO6NxbItqtrWrK6mV2PTN+NOQgA9xdAXEDT2x8CDNFbODX7kMIqN+QYlHxOqsCBISzM0PF11ZZ81eWYoS5oz6/2bySLuLQEseZE7wVAUztZBUtrBKDMojKFJMUZx6X+ouzX8TLUUiRVont24lHmfBHBiIjS5P4jtzaIJY1OsxlNNz2ZhNhUxP8nm+SvpEr5rJoNrXh7dH95W8rRWxKCqaat+OqMwAZw1AGxAJ62g1W+Ngm81elPAmk0vFMcpFhe91BtIxaFhCrm04idNdBNTHETWf4o2Qaama5MiXnJp88T9yJpnYWyPpRuPaOMnXSz2TnL0MIbanVhMFc7TCseJ8roMhbyhBBCZAJUFoEAUxg/A4GDuXiOtNteEKvWu4NKMU952zB6ol+3cvGHvpe/Krq+pCUExu4FVTlKQZIBQAGjSUAvYB8DhlaoUCKwXkRKtVc1lLJoJLYW2y94bc72Go53WjuhGqh5VbvKYy3nJJ+oAs7G6EviRWL60JNIE8onzmPbV022JZPkx+bxU4aqQGr0UL+6034nUcz5IJdbyNKoBIHCISnCaEnjBiKVLrh9SwizO26eRqY4QrgwZb3esgUJA+slwijhS0zecnbLlJXld2tgZSgCJCYiZgO2Fe7lOXaeKQ37eHMWF5sEVZHXdUSXS7eo8MF5S/l1phPoAzHPRMjOfi9WTTnaXy0efIFaKtlvdZkps/8ceWc4rGhy6JCaxORybydKPtSCOCxVPraZzMcVw0NP8ZAaSTSzMCCKNmhfd2fNllbBC10FfYHR5Ff84jHomyr03jokvaRluOF1zLjldXdmSIuSu7Dz0FGFaERCqn5Ph7fNcluUhZVUucoId7GyV+SZJOdO3JsCQdTJkPo1bg+CqPirvvTmcLRYZdZ9JYJDnUznH+dadattqgvHM/AxPVY0lhdouArDUhqxWuleMLxwJhOZKBc5E7mwHImJEsqH4pbdZkY26tk7MHip7S95cNpDn2HYJMIZV1/dDoZtttTtV8leUbtF/iidwVq9jMgc8G38mGb7h9DAmC6mJ6becR1+CyWDoWspt0iabFpgJKA2baDibW0XSK3NyfpPWLtNxjIsIBqgOMzdA5fiATZNabSSSVT86ttxAaAYBJonhobUsHrtzQiIsE38SkEtMjZ+g2d3nk/I4QmDFIGQKIRjOyi07H3IpMrTXmbdX5uX2quhK/ZX7PeLvEmX5CuttzTE1t0fb5eIyyHQbkqPAkLWw3d9DqmmURgJZYSXFPaV/4EA4HQsm0jsHYZHEgtCULzAxQkKWkYuhUYOk+/nSVnDAmcbCfaQb77RidajgkM82EhLfpMeOX716i50jJ4fMR+klKU7XlZIfumPiC3ryQzIeXosCz2ouflFD/EP7J2O0YTnt2X9k72vdpwYh9oWvebJcla8zPxbSWYqRJt5uEh2XOYyARCi1LfF10vHM3CcYCgSicudLm70ZmgjNxKgYKhAJBOMTw/fqFWREVnbcUm7XDd0/almSHiiX/qijwMsXPFyI75X6JleZR2NYzLS9s1dkKMzakhgjGzkUPDFptLG85S35k4iIYxGMbghzIvZ5FoNYoDfif5QQbTGR0ofbRLfRPkA3xD+5msniOK7CSYxBJLPzWE+IJbSJLa7wtBOLwpKBQ4cUXW3KAjD06GxgUu2UpTT4gFQUOmpq4k5edkroyVdeKMul6AnVq+/m4sQYDHKlYosTG0sdXuluWmStUNMqkl7rWskdForWrDFgSygpdxOidj49j5gSxGux2TqbFEVBhH4vxjUOIRmkTwfmBlprHMZW4jt7exqgu5lslwQRa2UGOU9oon2zmYTiWWET/aa0qx2ywOhvU57OwIIcvwIBOiiwd2NwQz0fGQRFiM2UazMmYkYmBw1nxjQGap4vK1qtGVZhRRIUbs8Id429by3VmPEYgiMUW+5GdvG5cKSzBQ3iejOxgnFj9yVklqRR4jhopDIXAeNLsf1KJgZxQvSo3NyGApmtpu4V+n67L0tGEv1m/sq0leP7rzpHnjEH5dONPsLmsc88uYZGRhYRgsaYdRxxm3fkoSnKqV10nvhWrkbBhdV4FYhCJx7rlbZFCYtKP4cTxu6CQxIATnRW7VFupEyNVaTZFScrRwSljoZAdzN6MeMzYyCmZJmHCTyUWZaPiJjSopPkTqVgmSFa1Ls1BJHYqk1rNTDdr59sunH8vNjTiK83vixToI6DgFb4KHcRuWKvaC/qIE9KZ11zNga3CQWEEvwkPfFnScCYyuHFrrcI+66apmQNP6ujtD9AsRErEn8LTV6WLvbAP8TQvy7Udo0hZF5aplFmUKNXJDG9u8glVhKNi8dzruhJCJdwlAUC7TLxdmG4nX8jKYKCX19Qasuu/U3YaoTEFyuq76yyxYjMurhmC61lQORdQrWX1G6y6sGD2Wcow5loRnpaOaOcV5xvhDU6+lNQo19BzMLP7LbfZRxseOzPrlyt9Nf9qS1c0tdkmP/PSZ/r+Fb0oAYYHEp6l0qYhBRy0lKcgw7wVQYZIzVmzKqNOUW1LMjDHNp6vSRtiYd7k+TYhxnvpMY0ikSujQFycbRhXbdJUqTBF3Y5/h0QNEsydZLP16Z9fDmbWFhJwUziYRzPYtaiHIVXg1BdK+VC2qQBgqRGSAZYFsBIL3PMomBl64vCCYhiGoxo4r59OS5XwGFrc2qAqZqP4+B8HVZemeQO5rTGVEph2+u/9QTFv1pnYmjfyXU5WaMCcOUZJe57zNx0pV6PcYs4+YS8W1dj61piJTv2FqvzpbxBhDSZof9v4XHGrOE8ADgAcQbhoBBEMNkOG1ZlvjYG1oibQ9mMMv17XeEwh03qzu8XjiZikEkTSArl5kJys2txgvVDHZ6clf+WCXo5qc0GgMIrorXkRDwSDfVq2QyKbiJZLtaCrQCG5P03vY5fNwOn+mx43Dobg8Lo05V9T17ZMspJSYqyTcQFNRY5+r4BQAF+SK8iVFYOOAVkfXz9WfhlAM8PZEw88PBdQVEKOKiRXzBPgUgvzvIVoF57JCZH/jDCZC2DbGWrfHr/LMyUdl5pHr98vBh+PZaz+yG5GsbhumkfRDpvzEU+rTzDJKMsilfKtzHRuwSFOmcHImtAfhCMORlENfr4ThJF88OiS83KmvZhoQ0lRo3CWEG9e1Mk7JzODWVN/twx1jhM1mjpOchTxEWxwUI5xXhZgvwWZfnaAVUjOnpRiQAx7ajYzByoff82bHBGSETI+UdX73TWRAps63cGfgRsV8W4SJQEvrvf23flZwSE345wqZPmVVV7ZP5LqyUJ2jkiaEMIO4rHqzTKpNLvV6vA3sIGgyRZD6dij312WNQ3TwhICFFeIg01eliBt2hquzjqqYSBFGSTpDJn3bV85HA+Ip1cZrTbCsN3rLyhaQs1t1dFEID/NzO0SEdV0pgS1PCbiNQFvvA3gdGfwqKAka0f0PLUuCfuTKv7EmKZZGEJtENWnZK2FJvJrrrm4EcL5qF6viLu6+5UWNt01YYnBKC3PBnI5lWNQ1KebX/ggSeLE3nokzXmE7iu8nl9JRKJTINTl3fDa4rbDtQVjVI3KHRaWCYlEBGQGCjqbCEUi8biYVlTdjpY9KIsW3YwdMxG4Z1idB0vUXcrPwU/bw2jg1/HsoObWrtgOk/d2tJVj4KZeqvRZvneRJ5nyJNWtulagoH4RhJJJKv0zzxX83NLI6AghbEwXCy7MFxv1UvEAImf/4xQgLXkwErwMNAYUAlQBMAB3/trSi9ZCXaIfneV516MwjJmFVH0LZPXb7IfgiD8EwYjgYvEbq8lc/qZZRemBWZnKxwp8Yy+n3e9Pw2FwTAvDUOBmMSFCnQYme4+JnJZiJbuuMLtqc3bhamVwNCA0qq5o8OfVPnd8t3U0eTs36RUqtSr1d6NK0iUCaJFk2UoQoi3uLXnLgeQ2glhyM5Gb4vQoS1e5v7IphWCcE8Wy04rL3PESZsvN6/O4ujYeiI2MhAQuohOKwjZ792Z3MRDccTwTSwiKOrUa/cKrYfnB3FxsJzExpmMvL6seuWn9wLD4SCYWie0N7gzJzY/K60orvJgJ2juOC6iZamgoyQnqmhs6+f65Oj0cHZ42Cr06r2qwU6QJakuKUaYqRTjZEeWLq/OPYbA1BMCgF4qCVPv3u1i+aJoKpPMZPOo8s5HqXFXZ7ibdsx8QMOsG4qtyoTDmY2pUeyckqWIlra8qpq0/tKNsY6z/dtm9n+pO1HmrCYbhuEocj0YGhGtVNmhEbDELRuPBsVPFG/NR+cPHllRaFrUjdpmbP5QyW4kV7aW/62rqeZxLGEKrnWaImxWjBFyPkY5O3rcMwQR3DaHEZHOYfLBK98on+V2FobjOJhMQV/k8zFEy2cfGQ6Niuz0nMT6IQrnB/JJedWXpw07FQcjYMtOm6cqNFfWqsKqS11Du6F50KxqOQnFA0FpaWIvSRQTPj8QC8bCU9NHSrXppbrB0+cnjV4QOF63KRyGjnttcXVaFWfK6VO1361T9MM+RijnEKSKPYD2KQRQhjqdmAuVza6apVOglklyby6dHhNQtbL6KhavvLw3+o5rW0JLiYj0bCYRHxmQKqd6bkGqJc8EF1RV9Izc+l5OxUwKEwiBQJA0BkHh4LBUVLmCoiETwOhwVBIIDjzB13bMt2jtmrWfIaJn057Dr0Lj/L/xWeV6RQJckK3y3ESWJ+n+w6P2cTuLQRRIcUL9ttAy/Xr3zMUXh7MRlU0hYX8/z+/3xwtBB+dgkKyS1PZgKEBQFRA6l9Rt7KJiz4aDZBsoYJc7U9881RAmgCwYKnQw6IlUht4WFxgJgoDZ8fLlXElUa7bD711I5eHoo+SvZdBo/JW613VqmUyl2+YqXEiZZanuYaPRUc4D6dBfE5Ta7HTv3RoPHXTw0Ox0MpNbG5X2d+kVWsdWeyLOQUyuhbRQ0DQbGBked0q2fiEgEjAbC4VIuUSiNzWqp76+hwPCA8KiBNgu1gq7uLLFgoCpwMBcRNMMlZ34rEbjx5a96oC5nIPxxUrnudIp1V/Lncfi0z3bLbEeZebt4C2WiSbhKdWavWLL4f3ytIkkkmmc2OCgsO3Xnb3/UuV1RVDefF1RLsucOmD4mUWPktw+s+Gj58SfIFjSwmcKnBVP9pvtMywx5ouVyxIDJwfHRo+fKeMtYPsmJVYS4smJtBpt2BLvy0UYZUwO5F7jeH3eJ4dzOKYSQ0m3ouVmJKUDI2HsfUeoT0n8bhoEI1FAnMUzmRccRPV7ZIeFh0XG5krrvnvtiqICogcIjJEQPirgsNr220bRYwwVHEZkQaMFHDlMR17OWkmVyBJxJAi4NRIIRIEILExGAyBKFTKKzyVdiLXnPZXVWMV/6Kqud0T3MrgolcSw5kPdGlMETdLlt4vlFXV9voiHh6MDVyzWWll836kdKWiA8IReWG4mLwVMpe7ryQXBEBICQGgIDbrKkv0/ubCBEIhhEXbXIeoN9JLso2Cqh1NdHnalTypY4YfJaNkMNxK0zz7jpNvnWS7sB1V1kgltPeX+qW11ree7bzcZOl/5vqP9KuDNVNHiCtbd0NhlMRF4HxFPQyWzE2Z6jbmTZkUYjTfDrgdQM3hOV3eIi4pyDqNWojQIZ4/l5JumXYnXbT7/9lBl8GQH3F6UAOalErpfvPgiP4oIjeI3AruWHMYcnz+e1Z9GSEUPKM/CSjIZFYykQHnWNmxs1b/KY+tX5EDDHkPblkNZAEZ2a9/w2kbAtltOlX7fpyvpqiEDqLGJtn1ptqOy1KW1czX/hM7nHE9Q+PqR1OIlDDdzhJe1nxZCMNhkIpOo6sdQ+JSa1SCIx6FRGw4mVSj6aD3TWlYLv7D+lmxRIMntK2stcQ9iE7xEYm/veu0O/52PaPKlXVPrmhLiELX2tAtwME6cpP3BuAs7m4QIsNU5AoFCfv91SH/WOBZF3zx+U0KupqWKkqxK+xqS0oW7+SrLtPdvpo9t+UFnOsThuHcyWnlF3010IVkMzh6VSVrrtkr1oufKje6WuaWD2NfoF7NtVLhd1azGx1mCzUoqFm4NCQegKHu0QdnWqm1LGm39Jaeyf0NSwseACxRSUhZfFVRj7xaAWBGQxEcrLommUIknvNtTSJuGClkIN02EUUg1R53eHpshGwgZLAEqITqIQWlkSiTekObHuvCYENpj0bfwVbiNbUT738GumF3T4aSiU/GMllL07ie0NiMYzpcmNDhM9cMMscOimxa+g8yM/lMX1ZVpVN8ZRY6IuPndwcAHiNSEFX9xCZlLIsO85kD60REVLM8Q1Sg2l+mBfXFmQ40VqeRS0rcUJpbdJ68+Xdvbk78CatS+5y1S72MAX18WWlKNcyBuILunOjkGTG/SW/UeYwryEGmaCdK3FOaXiNhWfFNsmIh0EcTQ9fMrlXrL3ETxqs5qh7ifShHwU02/eDDl9UEA4w+QaMKWYFhCxo0KQK1RSB7JHjDg/28JIWFFTdfmYMoTCDmnUDo22z7I7im0UlqPv74k2tFRvm8RZW5rCITZEwYLLaCTxvkJjBwp+zyKwad3GXX7lWms9hM0XmEfnk5+Ux4soyUeiu4oWZ5lerMB5E0QuYazC/GxpkKuwMnuZISdygXUT0RsARwDpAEPDNjCgvAv/oEUIokp/4MlJ25AqlAwA2bdhRL5xpgmiNsPSmQiHSXnoMPftDZk5+lDb1FJXkk+udqQOmfagLNvW+zdazyyjrXPCLzXvhz18w/AY34ZhXYvZL0T2MVb5dDmytVBvqiUOE9x2qD71m1O38MISQuM5+DBqjo7o+52ZR7Rv2BPQABRgBTxOQLSCddQ44x2XkYm7QECnpUCnLGastofjyNwXeY+Zf5Ka6jOhgOsJp70dfen8CznZFhtKgFAOHnSWBd3ZhJhEtcRnx78RwSgmUQTUYdJ5GsW71yGRRv1uVZo3nAzluZks7WuZiq0VWPbDKdpf0bdkV2nWvSWUd1x8TOeSe3NqKJKjr0ADXB/xxQGlBHmO/arZPArOjHqIRiX2MKm/lDFKBshG+pVK8gDkUmlkVcrfoFfPH7WFZCN1u5e+6OipT3VXoedwxRzY2xExfejHAxWRRM75jnhyoyAY2zHd0a6lOUkf+LfOQH+lIaZ/EGiGrsL6npH7ITRAqyp0/dn9JekT6HySMFzWeaAJNmwEBG1mAJ0TurVt+6ZViYSSbhoAQMgQloFQXyZNzx8QpzGIJ85EwawIey1KZOKImrVMpNP3F7nkhykpoc91fKgFMsV9pH572E40f1jltbpYSwVHfW36rFJKlSoL0kB/1WlUKpuYuMj+U4oc2oqHQWpQKZVVD+5BLleY5j2zwky8+/ZPwkp2q7zf3AeAEjGfA3YHyqlarpTXimyOozN0bhYAf/bRgAjGunAdcuZw4Gx0uVACxD+2RrCj7RR7ghiczTDkJ3rUEUxBI3yVuElfQ5B7LCSlTKuJDrNXCUzhjjOnZeJHA/sK8klF7GCPRQNfQQZseb+gKfi9f6EXHPFUlyhe5zFXLe1uhVLHUJi6CpX5akWZa9N/ZkgBrA3w3QAcoByMSJRIjZGAJQmpLcIASL76PAfkTJjT5ROPR7NGd1bZEQJPP+CM+wML2xV/IclGjLL7Z9P0bnZeWrbwfZYIOlz4zNZlRVWlZrwxCLDH4SepVcxFNjvpsS2s3pIzGBsY09gbG3JpTx5rS39ISKpq+wlcFC59FFqFO/al1TN/VCoy7N9uA9hRgmwFSCMaEbhiTuaoyJG6t0BKilLYTTFyQA+kkDQWhwFNJP60WBuSHe0EklCBmdiXc6aG6wqx01CKSFLR/qqWo85PupqJLboOfD1xMyhTTBE3rlcPSailLMyEYDtPmYBKaiaN3Zd0ISd28RpkUhKUO7n5cdmKvb9+f8f6wnN7JpLFFXCSEsJbaKMQPB7A1gA/kAGQ07gFHCQx8OH3y2Smb0YVAM3kVxFEoJw0If4krgqFqhgp5vZkP1qoomrk0WL0Xr0QsUO7V79o+rO37O0LDAgf78e1MQOs6z+aGQrqSVPzKggTFNW3G55TgpUrKsckOc7Ei6WpvbVeRpTljoduKa6KPWrN0otuKTTXDIrmUU0URNYzOPIfT2aSGS1ZrqeAphNWQzK8kFPKzHwrGWLaI2VQKAvc6vcSBmLXLfsOR46NWJYjkhgLHTJLQGhAvUZGrBqq4t91L7ScPFZR5y4pDVepaq7mqg3yTxuu4q45xZTjIKBlbeCQpBUmAifsg2GH3gKqxFgBByNnipd2JO0k8r7yuJvSaoEbLaDnJKHv2qLG8mFDMPc3nkol2cDWiiudx/q3XeU9Ajgp3hisiGQiG6Ggtb8DEeEkgEo9PjqIykFiQZpKQkCdDQuEpAWMVCBEVkmyr90/3/4hZouTNqiMfSPtXz/Chb1JZtfkN0vSKBUu6aGmUS4IpuA4WFjALLxM6Da0XKUcj5QsIKzrk24TuOHeE5i8OZBT0pId3YjQlZfQN1a8nciO0J3PYpFdHoJ/hqRhLgLx3mVincJ5V5iIVLOaL/AVrIbQrjEVGEXnfygBEWI9MSqF+cEggJeqevZm7BFs8qD1z4UEP2XMxJ5YkmQjVPdhQf6xgXZ+5Vi7q9ZpUTCxbv+4rcb7poQ0IkUqZKWiuZlCWvbrEZuwWKTwSXqwnvW1SfXKBE1rCXGiofoQ/WXShrS2uz9JB/eSi2ImpNH+m7aRJYcEVTZeh3VyITcbT0QRHfO++JQEPi7DepaZt0WD6yywwFkcwdhZRTIHAJa0sPRBWC1q50kLFs8j0oVm3LANC0EWKorIgSOVRCFEUoQJzrG4CQMTYUVE7AWGNbRdy6caS4tEqUXUEBfE8ivFj9SfQpCE0WkJMev3U9qlnPwWlPfTt7p837Bb1H8xsFX28hdGO9MtJrBX4PsRPVC5sZANezUBP4CMT7bNyZCXBaFysTIP9lKmRs8SxiMSYlnd5zNVdkB7B0gvj3wzGO06DjEowZFYdNXpK46RlfJQikySHK5CDDIB1FXxE02YfcmtWCbWvk/CAMM/os0R4Lmp+igHqKqSMkehhuR5lDvpWtLtTlHP+U59qzWCDBSHj8nt3o9XfBzmUx14RKeRshsPsVxJ3c5D56tJSaEacy/KMxildlOtSMEaJQce4UA+0s2ihkqzghl/cxApa+NYEvexAk7cEb5Yz+jTWswJKukbGpF4NHVRkAh5FMgs/egVjrF3TZG7pnllZ5g2eXFIOIeEQDBmTGq4/1q3yg5eziYQVExy4DgmCoMXZFyXf2YXudUdIGnItHzFhRD45qIfD82k4xf4672b/fcrEQO6PdgxdR3p+cvvCqBxycE4GdWhOClzEc4f/7GeDJu9G1UFPDONiJ6HUH/ZRDT8DDwTKztXLkezpEwXIE7RjFRRmXOsDl36nSVjybT9uy4K74YMk3f25vhuRsiswduC4m4DZg3xnxQwZYpKQ6orhv5oglYWH6RtEDfiFWs04TIvN0WkWqVbwEqbJ9Hm6+tp3T9S1nDo1ExEh2ygjKF/3JkFfKlUhSSR9Sp2TKTodbV9svFKHH3t8kHprTFbhF78uzwqr6cizhYi9Ra7NPFQUwlKSRf4yW0koCKZGjG/x2/hd8Mu+cDB83XkqfPiigjcQ5uPgyx32m4Mn9V1Ls3eFgsOIbYhPbx3BdQNJFibeTSIEX/H9kYUnnPJ0mB2JoX5lghDRtuEWNK0837c0JyYmVRUo+GDjPEKupLya71HToUlAhURASfCb6H1qG3HCEkuQI9W9xBBb+kf/4wNwjM19cCm8/wquFlTUU4+pjfBnaeEqIHxXyE2HHlYY/IcZ1pNMmKjLiYbsolAIBLJn//jFCAxLEgDGFjS3NHSCcn60laOKr7QS6EbWTWW5dnpMDFCAZl32Iqe1N9wjStiJgd2Ml63w3pHtdM+DW1gycFlevSP/VjFfV8hJzDTnitGNIl6ktQm8ohLZcXJM7pkIhCvuJRFJrmGuTz74wBC5VGfEwqyi+NulZEMEWu2m27bxrxqEzqbfdPEfp8ZlV0CjdBi3nLAVenUqPxxKMa9LJRBYetDLPHYzCXEiKJaqV2CAOT/EibefutGFjuUbveevKebFP34Iru/MUBh4us3nWuyKNz3IM/ZiaLur+sWpBbVriDxpkN/o8+nk+/Bu6YSZb0d/xlhpZw1yO7NpvM7f0cpxyvkuQjk6uWkOyZJ0akipJqyBtfB0EHjWmKoHLIUhlqMSgC5W3pwUvhi5pLHAVOMxllMsCFiIHKPqzIh2KFNJxGQNbqHCetQiNFXJGMB03hXCSzaL+9ENL8oJGE/bScBJRuJjXghY2FpbnxE+I+x4pnjU/dcJDa/CS/DVnO+uIU0hjR8u8JxwPuoPunsrToesYKW3JubhVljJRs3hLZwbnMrgudsfJu1+367tRjbYs/mSyhpjj2aiD8mMntqLz2F/E8t7ysp41mdc0w6r9LZwVNYLAt6jhHDQp+HwExWD5x9kRwivIbiEdwlZzVXSRJ7uwSQw6c1dHLV10Z9mvi8j61wdNwJM9d6YTZ68izEqmojPCGoQQpL2vOEj+CVlPqskKMOOZolaAlu3RrZ2PIUsp5nuEaXyJNOa7NJfnMPTL1gbhg4p6/tG7bOUurr4n0Scgd8DWDQlpEgjhl283z7ngm46YlXCPXcj+EJ2JLjF4iPJ84PUxsDi/J9CtGthLsq3C64G3XLD8BgVAUbk3ODu5Q211DnEPpyGipGnr20166fWSJmRzDvCehQTjkGdQ0uFEOtZmywYISEoVuhTh+6zcYza0LVKD29QZI4LekMTpK2Pdz0CBr0sm736ctkhhbUQRc+h75ik0DyJDwTYaXBWcSgb2gjCCEptSel4VMbP0SmDwTK/aK9eezEmRSYwzl+MbhEkjJh3ca5j13RCbAnvYUXSbUsU21LfSu2QHh9WOoI/yEkjr+hwhAC9UjTCnle1TM9upjCDSgRiUpiXVSECMn49+kgnbnFScUu57imw6+b0zlN5B0csJUlc3R/37VKXHDEhYvTSBuzYiRtEaQ761bcUSuinhgamtnqqCNbheeHLGYs8lit//s7AJBsD48E5jaUU+RCVVKjeAi2rbSqzmZmXoruWVrWS+n5CUl99SsbVCv9MxCHqGBOZ04dV9XaJbFmmOH1sNi9DTCPCK5BNo8g+eRP5YqwyX2fNnVgRT4kLJYogj7OXXsJ2z17wMOn+t/06sMRSBA2EJfC02R4kdubb3o/pkc0+YZlrlFxuLG2R0/JOq9qULOgXmZIRASFk6nyY1BOisvdIaHT+cjPJLoUX2UdfFdQy4+O+J8yPGp8UzcXtSzjeBD2O73zr8+YAisQUrS/sWTSoqeoiSCdni27osogCq7Le06wod+Y6YwQ9eLjQEjTDOJT+aET5mcXcIw0b/IkWnZYbT3KxQtQUSmKSJaipYO48f/M1ODylk0KS4ZJOLM6rYJRItbDvUktRihABZ0g+WtraoQIgJsJiu+w0SY7UxyQknIUlhVUYRJucVyWaZ9rOGraCEYevPK+yy37CmpSboyaMRbVb3mwYjECfst5yMFPtxVD3o1GVI7s9p8Jahv4+nV1WtVLBX1/OMnpQyue4lObdRXAkZBn2bN+xxLSLeVDURAk6mU2dXSt+tFvf/KkQtUITmGxKEdkkFy6NF9CPp6Zz9yZmybREkJhvzUb1OdlIbTFbpzU+++qujTt0hcpIIsN75TZHPy4yxxdS/Esb9COkSVdqRfyHl+vTMwnCRvQuBxHBhC1C5iG1dxjjoALsLbM2I1heSJT1j+1cObdYIu0ScFMCUiGHXaL/EL1IuBs+tqdh/+IvzK1ZnyDVeao+mmZ1SNN3laM8R4XeSpOSRm++ORtn4zMWvutrjTObdINiLhp5GppVqrjchBcehJLO/E+FFK7W+2Tgg8XfiFlrUJZFtQUuzRsuL5BBjSRcpAditGiJicJw4jv2+pxm1kURdY1/omXpjXSpemwRGcNCE0aOqUlmPjsDC8oknTZ9oO4K2ggoAhNZLRthM9EboRm2EeZFmTkQZBcTLKEozc5KUoE7cRNUe9KmQ2vVjs1Y5H9KlmoTfPYBy7QQqBDUmSZ48fLESz4w5niPGb/JMI7kaOlzoo8mhc64kVnrDEt5qml/Vw+7CFfTq4+i84WTpdM5yu7IS/E96m7uYfLa72EMsGj1cJeiDmzWLdS9J1+1OZlr6bM+YvkIXHns9LmhbzX2uFpld7HQsylHF3ahc5zYqQp647wFsOX3KIjxT1GIMaWRKVv8CkVHZNzKTR7ZMGBkQiQn8nfKCvuuyRrldCF1Rbqkf0tFScvlLovKtnGj5f+ksDSpdtYdUtI3vwui/pQuyjknHiI6m6HMg8aYU78pi5Ug5s1QU6RL8VHFP4u7ulqpjA0lqLrgYRGIb3I+qekQwq7JYx994+z7oWcKviGp8QBi21dJyjqpNzP7Fc9rNqi7Idv5Mm6TeoV1+xStXGYXWrJs4ZEZvWfZrBA2IKoUvvmsJLyIddaZ7llnXegCJxlaqUn+JTYogSWyC3dEQF7M1FCd+hilf0vQ0mliM4W9NHoKXrSmb1GYcgnCae6Lo3MeUzR9WPt9ij2IyC8iBjKQwlvNFqYkiJXNwMuW68WVCVwR/1nOypz34RLWtOQjz6qGQitouTLcofhmidf1kkjqxzjNTmEwW/0xUm7s/Y8SRxfkQr7oVkihupCpPx8dYvyh2cbvrWLFEPXS4ZFGWSTneVlehMS7JGQwXd6oDXvjTUGqsI2fUil8S31cGuQu+eWzQFIFLnmOvd4rPWWtiPu0BLEAQ2hpqEIZ14aBtvTiAYakxhoNyCv3i07wuCoXzEl5yVbZW0EQp8hNHx/WjWVIpxalDOT3BWw84ESbf262BzwMD3F8EgwuyhnfdGxoOpiV2bVSLZuoKLusVPeHClLNrmjR0fF6l28KY1k7Kr5Famh5FpLlryHUyRcdCPdQgNAOnmfBNxgHXDjKKRQqoQPzLFwmAwKsxGhRhdDzhumYIttVPCZjH1m9mrlbCxtQtAZiEAM4OYC4U8TYjeCCsWXjZRGU8ks5JQI+YTJlr+XezIou3ShmpSdRT+O+T4o2U6u93JiyvXYpz/GRuWHmBxa3HXy5ecLRBXSqnr0E8JKadWfWL1TYcdraInZOfJxGX0Pxn9yydlqWa9xeS/Waxh1EH2mRd4vR2d2OhWdK9R19VH96IuDHGpUF3S/hSl9HtKw0oz/d7EHepkI+IUns6XM8lLxq7JtFbvpjfzSDChBSnW3WpjEEIEdZFvuCSVpPTyp4hMOm3ctDMRhEIqVqOm1Fkq8WVnzmppc1Fu3FYgiqh36ZnsxsqNw0m7nSJxCp52tEN+qqehbuWhSfSSndqUDKmcm9vWO4oruYtvTsfGYlNa1dpS2SybM2aiCsIYhBhVqZqsuXX5Eff2+mv1KaTq4286lEKwQyHGOODjCBSpR0RaRZJZaaa9JJtpWuFyrMcjI7qRX4xiN30W3/s3WtE7Mo5Now+UjVYUgjndOImkO5jE7EpWk19tUqudkQRSleggqIIRuWu1T9o5ZdiUlhp78euDlTVIRGQxQxqMQrxp3Q1t9RKGiueSu3vE1VEFaCmKOQiHKTIIy15nX65pjLfKwOwUMpdrv2sUppquymJYp6NfwdvDavmFk7zlVfaJNbkiqk0HmFdLXUvn2oL1KJ9VSLHyrC2h+xgMxhjAeEQqEADCoAdAkApcBcQLbc8A6NAtkfdcZc5+abpmIs6pNSG+zTQK96/BvLie/uESSxmQvxmoimjj9aJ19BKBF6bLjfLfps8qniO0oTcZ2EQpBtdlz6IL4zdTaFRzgQISBzzVdPNksby6VCYpmG8SKMg3l70cfagcgyqyVvWwzH9V+g9B1Jj2OAyso5ZetYpEFKJKNNEAZz0Y3ThCmE/Z7reBHiaFfqSxwFClyk0l/qpCO5C1N4vSsS/QrWgXBZlGVDEYrDsxBbrfq9qF0vXqqk/pUt0V5iVrZ1ltm6aiZa8raGm1/FwEYEOsu7cDJF9Md6LvLOUhMYpWdrKGtVHkYcUTTHlWQWe8rEMJlvVFCoqPLraGHU1u31BBL9jLh/60HORu4i8yTd1spUCbhgQx1mWZR2BX2wTzjME3sM288WSuGrJnNLGCvu73LcRXOj3db2hpuBMc5FqpIeelsOGRWzBYXbr9XMjV3ovp9mtbRnCbYuCd9Fw3Um8KiBSc1Yog1qO6EC4xvXq1kbL/0piobOZ/dWTqUBWmaMBtEjXYj0Nn3e10jSAo0aZIsIMh/Q3leV5VVfuUYuHm+3gu6jDh7vrLT8QZ245YTSOUNCq+xzbq1dJlaiTuSSnO+8X6Tcg5DVNNkdUZZrRL7NjGaTEWrTnxlGG8zc0lLQv5k2quJnPPR3GiS7o9K/XmMRdLPrzTK5dO+mUETd7zFFtr3a1LrNbqMxrVTWKpymUJ9hm5kM0lnEELoiWhxW0QnsnZ8FSzSO3CVqmAqSARa4mQBP60QxNz6Qzi4LSxxhkR1EuJFUMl7cilegRoTidCFb2EcaUkLSUKb8oQCPE+pxEzKZ81ncw0gzLBzJbgWGfnv8gTOwohPHBiCLQEbtjOZtmiA/H2CVmM2rBse3/gMB+7gxgmgpAvfQx2i5/x1LSlyVe61TJeRMxZMqXH6Ges6KWIXnQpCNKDgedn7P86tUmYWA8Ug/MRM4ynm3G0gTlOWLQMtBqUk1/KMbREY59AoBU7ALdQMBsKRGFKM2JPEF4hRmFmVSNOtiWBM2GYzyFDQViWsUCilvNcJVKg2WW+yOGZzORQJycQBBBa3zcbUp8IEterLzt7hssH2auBpszoOPi/fpYm3JU5ssdqURtSU1qFhG/VKGyMv/KDDc5sdXJ7aVN2mTvffKRw4Vr6FDlzk2dctb8rJfHxIrD9WHBJ2/nUIoOV/CbKv+unvtQcLoFKu6HmTB9irS0pNrqKIscbabvI0TNFCYysCDRnPSPkF7uZM7krRCvcQfvnMkuzYIKuoCjH0aMFpbrK/9axGfhLSp8Tocyv9BCuaIUTRmppWTxZr7pWXmCjUM5v3uObR/vqPd2xkyrOyN2BJ7bvDTBtaUZiHKcZr1+tu+atJLaEISXDuz5KIy0K7cQUcYhSmmniW5Bad25WuXTsKtsxEa4wQitq5T5EczP2/vsqbeThGXCr1ZKauL5P8QVJKeGwIYhMcqT6ITi/s2HKqu0k8TLCG8IhmymotMEkjveYRjEGnufqKKiJo/f93LirC+xmUwggQIwQnESYwgwwRIUUocFOUy//jFCA1MQgAB//q1NvZ8glhCUlFMnkpKshLUEoUQaVUKnbpPYQer0f8QrCCk8VYtPSJ+QTo/FTTkiiRTIfWRFQiEpYGotX0mYI1a3x4mdNK2EH5sz73KTVMb98j1RhLNlCqG2lj+hPCxCTmQtSPSxQZDxiwR11uYmchiyN1IabZtVykIxsssmmEZDIjdydtiGqKgzhtMqSfI09VkwcjRQMGBSjdSUe6oi7qifLJkeVFYmqGIjTNyJGGMimi5iaEQSkMjoSSiXmzobkJ10TVCRCFvm6YaG8jGJaGdyERmjEMlRbqyREvMeK9oIWGMslMt0QQygZzYkgidMa+SxJ26oJEaIMTG5EjWkSdiEJnIe+ftmgmqqnuyBDELjdkJkGjFys1VoljtW6M2GWwhKjMyMIa+bplTZG/2S7bCfTEcQpBG1jESMy1nzG0nXK3GEEYiKVBDmbEoy6aKxiG86Km0jkjGc2Js2SxHu0piMMyexRYjm6ZEeU3aks16QlY3vWZlI205JNleLU5LohiERMqZUQzLMkjJZpJ89s0JvoxGLDJuhVJs2ZnqnsaCEkJXQWzXcjGimH1SkT51YujGXEo1q97YjhJv5X1LO11T5UyITySvBNiNoaVWLiLYiL8pP2kYliVFE6kESkVOuhcSRmqiLXh+VHzQyYSov3kvyXIRVJVF79/jaIQVLWSiGNDNfi26BoRibOtFKKyZXJ0fklRskJWbvJE9RmfX6C8slTRuvxGyJFStvENajdEqJq2vsfpXUhnbdk/Vs3a+J+hkhKJP3TqTojrUdOVvnlnMkj1OKxKQjGM2vz5pzXVJKWkXpojFqNLYhLoRDLNVTqTPBNmPJ+UpETRI1uasM0RYSo1Rp7IkvmKkTWsiqkbWUmqFR+9E6dtI/6HVsZJecv6TVLDnJKqQ20fIqImQRuiWMMKQkMRou3W/Zka3pfcRmitGYVJupr2LJuuWr5YeFz2I0R4lT8lI0ZCJc6pmcRGWzJytyEcypujMZPkaiS2mzQ38PK9aVI83nWEG17WPoxIsJN+rK00i/MxWUkbGiJ5eb7ZpEiK8FiJ0U1TRFXkWTNXbOJCL6lkeIkRcqKqNEIxv1VlZYlRchVTzk1zXMhkzcIRGhIlTVZKJMyCf186xd25NHzSbx78mQ1ciipXxl7TKXpUWtENUlyaRJt22o3xE00Q023LujobaQ9ML9sjYifvXiTIRuRZZ7V/bqNka6yyq26UhGbZHNIyr27EjM6/E5iURVIXPZkRp/r5lU3TEqtC1nQlZENNvtsqRJ9liWq7eeLfkmiKyKiFEVIgnZrZWXW2c+URFqM/KqbjdozEIpqUSoSXEP3YSc24ncj+6kcJyCab5SEjJmaopLd1s8RHkkm+hyJxJozymkStDtq6tv0X2W9rojISWXEaakTbeS6GVGs1RM3MyIJmyd2dJq0yIqX2GLZHy+jJGNUtIHTy7Uvh4mZ0jwlnRrmRKkQpDSVDJ5hL9Bkhk7RCbm+6MYj3KKRNqEiBHVe9QI0dBP8TLtLeVIsSMcTLdtPLkIiGhvmzFmdm3YiS6Gj9IbQ3hESDXWaEKEikkkWRJWrvdzQiET9rUyTIyCLsoiELclQl02jfEWQkyE9T4iaGgm8vXdPCfMiVoxXlTIYksym8nZOyQZEWKssybmM2ZZ4tKbjIxKhPaZGUTTEtuuRGkblj2VfURje2RdSRNNqbm2LFkS6wM/rr79ERMRNqhGzdESVeZEkEVNF2VjztO5tNUV6pLCkRlm6tMm7t0qtprnS9ibXX6fDImJd5LkhKSMsPrjbZll0vImlJVaNnlRvctbtffvvkWp2pKVHzpG2KIUjUh2KJiDJiVP37RiN0ixTOyzEVUiOuSGpcaSIcluWsrCrHZPpVZVXr4rGI+ysvye25k2s1Qkz+Uu7NDIhsRf+kzdGuEiWsMdk5NOSYsYpGz9Sr0nSVN8uT3+qIE0ui2Po2j/pBnQj53zYxGELYIToyYhXQZJ4/6IulOgzHM8rRpUhG13ZUkiE8dO6VF69iogSSO2ksxG5iJfEWGEcEV3y3YNrk+tWkSsxIJTHTL7+I0REESUi36CPZlNhMnRlftFKJO5GsSzy+CVWIg2bs0JOxclpkpk1vvS58iKMyCLlYXWIjIgnVLoTeLix4ybkqG6MHRPN3YlQSNnthMIuxqhNo0qE3JEjt+N6xpHyVkRiWPCRxEOVK9hln2dDkKurZrBm4niyW9DKmVExXtqxLciEkIlJ4bGtyJzSSRyTZxydk5spLGvKIS3lVOOyHRO6yQjWLTKthORsJy3OdlVEKYXN1sxGM90QMzSlWkhCQTP1pUWW77oyryLNZG3zaztV6PVbpl9ilkmcaS+S4iEN2QypVMkNaiIlSLRJq2TxVezZtF+l1MUuX5GUl/9z9ZJ41SnksMqNtEii7NRiIJyf9u+niXFtiNdrbtmrPuN6SFVksyzri+ZCuRCORV1vrNKkRdqjbiKzq1zZLa7ISG6IRjok2JEtST+wu3yEppWvdqmpqwu1/ESpYUpH82yLW6Ul32UkEYxdc7JMze+ryGqskshGkERmVqQE3/+HUIDg6/OUgAHAAUABAADgANtTQ2+/t/vgPIAwORkoEJtpjHiFgFK0SbGaiCCxSEgoTED7wgIi1zEaeAhALmJXESEmRBDIbZEBFMzwjSZaYRB0ARCjIkeQQCQQkzCTIYwgkQWQCNCCRHQEIQKwJCMEkQIEGPMSgkJNayBoiJRLLQQT0YiohkQiY0lYsJgxsQCQUJCWhAgEUt4kEZBBCZCIZCBAkEumIijQhGJJiCQUWbAlwsjFYRjLCFsFtjDCEIAovSYQgJIJA1giMqwQsxr5MEBEQRTgIEAhQEAtsBCCJweEYfkMEjzDYj4kECxCIIgjwlGQQKWRmmBsGpyIpotkBaCAhAECAgahQJ4RAhNII28EP4Q1xBVljFDEghBIAe5C4hGy9J2AZkCoiCvXAmcAQQlqgWICKFkd6GwoCStoMWIVCzBINiIQQg0GGDFpaZGGoPqFwkGJYYJ8XBILYJA4IaZEQhMkLSEQieQJGKIEEucBUhORAdEwzFCAscgNGaGxplo2Y9ostCzQyRxI2JGIMWRgkTEZApFCXiRCk0Asj8wiwR9BgTSMFiEJAsjxBCfgxNBPKMRnmPKDEEIbME4Ii4EOJeBbLoKKIU60IIwhfgUZCXBBQ4rbjgjSBYBFksa4j0SEYJ5mSQeFVfBRECAEsihaSJGIhuikPIkG1CQsCCS3iIJ6wpKMDmbqBECSHucILcmEIJMWfiw/RBCsQWQFCyhEUFOZTEi95GYhJARCIoW5hRCYoEID3g4hpIxxQxBLaAmxYsxAQSRECGDeLMkyJi8SFJCASBKwgzGCEaBPCJCZHkLm1YjCOPQaAogSxrZmBPBRFFuJBRsQ0EIoQlIYENBMFAhBD0RJAURLdYloTg2F+BMsFhIs4zCMIcdCGJLbhAYLnDJGRKAgtIfk2iETZIEMSJCMSksSEAgkLYgHAgibZEYWNCiI/E89ZPAlAz2DhG4RVjYzzmTZBHEJQo03IWFBEjonBQIRITQI0J0iZkgtkJCEMDeGvZYiBFpkcNoz8ljzEYOQabxG2UiwRFEk0QwQjgLDQuASHbEBJIhgEZNHKECEIEaCyTSGHsjasoIs6aNkoeUUV5wMbRkJeAoxWMReQQsnrKXZEG0UmjCGorZggseAjEibEDpSV+xIm6jRCxEE4DEahAIrLmEGqyEMueqolC4ESoxbViyFY3mBFjepyYmizzECRFqOwIDKASRPBRoIihYpASYmCAqAoklI5M9DECwBOC4YZ6QhoQjIJClmhRC3zVmgoMLKL5YXMoQApQEygoQQMV5EwXiVfMiHKKYk6FkBFKGdAGKEQoI3EqpCgi0CSJKgxSaFoQshZqK8BFAgQFInEkuSQ0S47iltILMLGEEQomDVjQQRygxJ0bCRATEISUmRRxQEAkQoaQzGUKCCE4CTC0XsCJgwIJ1BAxC2DeERhpEYkY15EE0KUE/zhaGFCDnYQAsmJDFGghCBQSCLTAiCwlWEJNkARsotOpMRiWag5bwjozDYxmWCBRRNmtTBfiMTEOAkdESYxEDgKLBYSRECIQigiYpgiSuMbZlBCLg71ghgSCYg1EYTFC+JmFMzgvRsJCUKCFphBEbEILFIdK3iUkkixeiE+MIC8CMRjAZaxUaIYgzRR6SYggLbFolwQMwQaQKKRYIcQKBKIGkRIC2ggg/8TMhZHiNpSVkAtDFeYZLIIxItjdmghGIlkYEFExHmhGhJCo4ECCMJmwsnKxKBUakUXHMRrxWRN62SW0IA0IBDBWl6JsJjaGEYCdBhXzIRGHCZAIEDhAFGQoYnYggQMMPCEEHxaRA/NiJYiRRIELHCI8BG0Y/Q2QptbiAgRiDjSJIQCWb9sUSTBSPFQhVZH1OQQIVCZJBe8EIYQRiA9iCIDQmYiEOsGKGMCEwIQLBMDkKLAtXTyEtm2FVHBQCFGIoImTEhEd74RRk/BiaIooiGLRDOAJiNNMjMQCGIkGxOCzERkhAo8TUkCcIEjxRswQJ9ETkWSBOAkUxT2NQIEMT2SGEhCFG1TCSEgTDgRGMYlmwoERSRQciAWiCEmRoTBIQI9m1qKBYgAiAiUmcCTnCCZGEYZbCDgKBiRwEcInEISsquKkMFIyDZiJJCwoQwIWQLEgEoRjYiBhU0Qgo8ZEghPCIzILWJEI4JJtCcMRshCEwtCW04BQCwSIRyEbT8Zk5wRAwh58CQKCIFFpkEE9OIU8+yZ5H0KOZCyRBTER5OxCJkwGxd6NgSU8KKBEoWFECCGBNZY1TlBzCxohTYbLIvhGEMmgkEAgkw03uRJAoRkXeJF8mTEUIhYiCeiMSZAwkCGBCEEbs2Q7BoQQpgQMgRHHUTI9CbjaAQbZVrZvY1IQAlAsJmEIKeLIHgCjBgEREEVEzUoBQICIWEhpRJLAiVHjML+bJINRxSoItaCAhMBu+g==\" type=\"audio/flac\" />\n",
              "                    Your browser does not support the audio element.\n",
              "                </audio>\n",
              "              "
            ],
            "text/plain": [
              "<IPython.lib.display.Audio object>"
            ]
          },
          "metadata": {
            "tags": []
          },
          "execution_count": 16
        }
      ]
    },
    {
      "cell_type": "markdown",
      "metadata": {
        "id": "M8jJ7Ed81p_A"
      },
      "source": [
        "Now, we will combine all the speech & text samples and will define the function (in next cell) for that purpose."
      ]
    },
    {
      "cell_type": "code",
      "metadata": {
        "id": "MI-5YCzaTsei"
      },
      "source": [
        "def fetch_sound_text_mapping(data_dir):\n",
        "  all_files = os.listdir(data_dir)\n",
        "\n",
        "  flac_files = [os.path.join(data_dir, f) for f in all_files if f.endswith(\".flac\")]\n",
        "  txt_files = [os.path.join(data_dir, f) for f in all_files if f.endswith(\".txt\")]\n",
        "\n",
        "  txt_samples = {}\n",
        "  for f in txt_files:\n",
        "    txt_samples.update(read_txt_file(f))\n",
        "\n",
        "  speech_samples = {}\n",
        "  for f in flac_files:\n",
        "    speech_samples.update(read_flac_file(f))\n",
        "\n",
        "  assert len(txt_samples) == len(speech_samples)\n",
        "\n",
        "  samples = [(txt_samples[file_id], speech_samples[file_id]) for file_id in speech_samples.keys()]\n",
        "  return samples"
      ],
      "execution_count": 17,
      "outputs": []
    },
    {
      "cell_type": "markdown",
      "metadata": {
        "id": "mx95Lxvu0nT4"
      },
      "source": [
        "It's time to have a look at a few samples ..."
      ]
    },
    {
      "cell_type": "code",
      "metadata": {
        "colab": {
          "base_uri": "https://localhost:8080/"
        },
        "id": "_Ls7X_jqIz4R",
        "outputId": "6680f01a-373b-4d1b-ee16-72c5af15a0c6"
      },
      "source": [
        "samples = fetch_sound_text_mapping(data_dir)\n",
        "samples[:5]"
      ],
      "execution_count": 18,
      "outputs": [
        {
          "output_type": "execute_result",
          "data": {
            "text/plain": [
              "[('THERE WERE NO SIGNS OF FALTERING ABOUT HER FLOW OF LANGUAGE',\n",
              "  array([-0.00036621, -0.00015259, -0.00012207, ..., -0.0005188 ,\n",
              "         -0.00048828, -0.00048828])),\n",
              " (\"A BIRD IN THE HAND IS WORTH TWO IN A BUSH' AND IT WILL BE SOMETHING TO HAVE BY US\",\n",
              "  array([0.00085449, 0.00073242, 0.0005188 , ..., 0.00048828, 0.00054932,\n",
              "         0.0005188 ])),\n",
              " ('THERE SHE OWNS A COTTAGE OR IT MAY BE A PIGSTYE FOR ALL I KNOW',\n",
              "  array([-0.00027466, -0.00033569, -0.00036621, ...,  0.00021362,\n",
              "          0.        ,  0.        ])),\n",
              " ('WHEN SHE HEARD OF MY ENGAGEMENT WITH MARY ANN SHE WROTE AND SUGGESTED THAT WE SHOULD SPEND OUR HONEYMOON IN HER COTTAGE OR PIGSTYE AND THAT I SHOULD PAY HER RENT FOR IT',\n",
              "  array([ 6.10351562e-05,  9.15527344e-05,  9.15527344e-05, ...,\n",
              "         -3.05175781e-04, -5.79833984e-04, -8.23974609e-04])),\n",
              " ('I SHALL MAKE PAPA GIVE ME FIVE HUNDRED POUNDS AT LEAST',\n",
              "  array([0.00036621, 0.00027466, 0.00015259, ..., 0.00039673, 0.00048828,\n",
              "         0.00079346]))]"
            ]
          },
          "metadata": {
            "tags": []
          },
          "execution_count": 18
        }
      ]
    },
    {
      "cell_type": "markdown",
      "metadata": {
        "id": "xg8Zia1kzw0J"
      },
      "source": [
        "Let's pre-process the data now !!!\n",
        "\n",
        "We will first define the tokenizer & processor using `gsoc-wav2vec2` package. Then, we will do very simple pre-processing. Speech will be normalized over time axis and text will be tokenized using `processor` and `tokenizer` respectively."
      ]
    },
    {
      "cell_type": "code",
      "metadata": {
        "colab": {
          "base_uri": "https://localhost:8080/"
        },
        "id": "gaat_hMLNVHF",
        "outputId": "389d605f-e3b7-492b-8fab-17873c018ec6"
      },
      "source": [
        "from wav2vec2 import Wav2Vec2Processor\n",
        "tokenizer = Wav2Vec2Processor(is_tokenizer=True)\n",
        "processor = Wav2Vec2Processor(is_tokenizer=False)\n",
        "\n",
        "def preprocess_text(text):\n",
        "  label = tokenizer(text)\n",
        "  return tf.constant(label, dtype=tf.int32)\n",
        "\n",
        "def preprocess_speech(audio):\n",
        "  audio = tf.constant(audio, dtype=tf.float32)\n",
        "  return processor(tf.transpose(audio))"
      ],
      "execution_count": 19,
      "outputs": [
        {
          "output_type": "stream",
          "text": [
            "Downloading `vocab.json` from https://github.com/vasudevgupta7/gsoc-wav2vec2/raw/main/data/vocab.json ... DONE\n"
          ],
          "name": "stdout"
        }
      ]
    },
    {
      "cell_type": "markdown",
      "metadata": {
        "id": "GyKl8QP-zRFC"
      },
      "source": [
        "Now, we will define the python generator to call the preprocessing functions we defined in above cells."
      ]
    },
    {
      "cell_type": "code",
      "metadata": {
        "id": "PoQrRalwMpQ6"
      },
      "source": [
        "def inputs_generator(samples):\n",
        "  for text, speech in samples:\n",
        "    yield preprocess_text(text), preprocess_speech(speech)"
      ],
      "execution_count": 20,
      "outputs": []
    },
    {
      "cell_type": "code",
      "metadata": {
        "colab": {
          "base_uri": "https://localhost:8080/"
        },
        "id": "8GruDUhROZwD",
        "outputId": "3249466e-d3f5-49de-adf2-2580016dc3c8"
      },
      "source": [
        "from functools import partial\n",
        "generator = partial(inputs_generator, samples=samples)\n",
        "next(iter(generator()))"
      ],
      "execution_count": 21,
      "outputs": [
        {
          "output_type": "execute_result",
          "data": {
            "text/plain": [
              "(<tf.Tensor: shape=(59,), dtype=int32, numpy=\n",
              " array([ 6, 11,  5, 13,  5,  4, 18,  5, 13,  5,  4,  9,  8,  4, 12, 10, 21,\n",
              "         9, 12,  4,  8, 20,  4, 20,  7, 15,  6,  5, 13, 10,  9, 21,  4,  7,\n",
              "        24,  8, 16,  6,  4, 11,  5, 13,  4, 20, 15,  8, 18,  4,  8, 20,  4,\n",
              "        15,  7,  9, 21, 16,  7, 21,  5], dtype=int32)>,\n",
              " <tf.Tensor: shape=(58240,), dtype=float32, numpy=\n",
              " array([-0.00590616, -0.00194895, -0.00138363, ..., -0.00873275,\n",
              "        -0.00816743, -0.00816743], dtype=float32)>)"
            ]
          },
          "metadata": {
            "tags": []
          },
          "execution_count": 21
        }
      ]
    },
    {
      "cell_type": "markdown",
      "metadata": {
        "id": "7Vlm3ySFULsG"
      },
      "source": [
        "## Setting up `tf.data.Dataset`\n",
        "\n",
        "Following cell will setup `tf.data.Dataset` object using its `.from_generator(...)` method. We will be using the `generator` object, we defined in the above cell.\n",
        "\n",
        "**Note:** For distributed training (especially on TPUs), `.from_generator(...)` doesn't work currently and it is recommended to train on data stored in `.tfrecord` format. The TFRecords should ideally be stored inside a GCS Bucket in order for the TPUs to work to the fullest extent.\n",
        "\n",
        "You can refer to [this script](https://github.com/vasudevgupta7/gsoc-wav2vec2/blob/main/src/make_tfrecords.py) for more details on how to convert LibriSpeech data into tfrecords."
      ]
    },
    {
      "cell_type": "code",
      "metadata": {
        "id": "LbQ_dMwGO62h"
      },
      "source": [
        "output_signature = (\n",
        "    tf.TensorSpec(shape=(None), dtype=tf.int32),\n",
        "    tf.TensorSpec(shape=(None),  dtype=tf.float32),\n",
        ")\n",
        "dataset = tf.data.Dataset.from_generator(generator, output_signature=output_signature)"
      ],
      "execution_count": 22,
      "outputs": []
    },
    {
      "cell_type": "markdown",
      "metadata": {
        "id": "M1eDBZjkogsG"
      },
      "source": [
        "Let's shuffle the dataset using `.shuffle(...)` method. Argument buffer size leads to approximate shuffling as many times the complete dataset can't be fitted into memory for actual shuffling (Eg. complete LibriSpeech tfrecords takes around 250 GB on disk)."
      ]
    },
    {
      "cell_type": "code",
      "metadata": {
        "id": "HXBbNsRyPyw3"
      },
      "source": [
        "BUFFER_SIZE = len(flac_files)\n",
        "SEED = 42\n",
        "\n",
        "dataset = dataset.shuffle(BUFFER_SIZE, seed=SEED)"
      ],
      "execution_count": 23,
      "outputs": []
    },
    {
      "cell_type": "markdown",
      "metadata": {
        "id": "9DAUmns3pXfr"
      },
      "source": [
        "We will pass the dataset into multiple batches, so let's prepare batches in the following cell. Now, all the sequences in a batch should be padded to a constant length. We will use the`.padded_batch(...)` method for that purpose. We also need to restrict sequence length to some particular value as some of the sequences are very long."
      ]
    },
    {
      "cell_type": "code",
      "metadata": {
        "id": "Okhko1IWRida"
      },
      "source": [
        "dataset = dataset.map(lambda labels, speech: (labels[: LABEL_MAXLEN], speech[: AUDIO_MAXLEN]))\n",
        "dataset = dataset.padded_batch(BATCH_SIZE, padded_shapes=(LABEL_MAXLEN, AUDIO_MAXLEN), padding_values=(0, 0.))"
      ],
      "execution_count": 24,
      "outputs": []
    },
    {
      "cell_type": "markdown",
      "metadata": {
        "id": "A45CjQG5qSbV"
      },
      "source": [
        "Accelerators (like GPUs/TPUs) are very fast and often data-loading (& pre-processing) becomes the bottleneck during training as the data-loading part happens on CPUs. This can increase the training time significantly especially when there is a lot of online pre-processing involved or data is streamed online from GCS buckets. To handle those issues, `tf.data.Dataset` offers the `.prefetch(...)` method. This method helps in preparing the next few batches in parallel (on CPUs) while the model is making predictions (on GPUs/TPUs) on the current batch."
      ]
    },
    {
      "cell_type": "code",
      "metadata": {
        "id": "f-bKu2YjRior"
      },
      "source": [
        "dataset = dataset.prefetch(tf.data.AUTOTUNE)"
      ],
      "execution_count": 25,
      "outputs": []
    },
    {
      "cell_type": "markdown",
      "metadata": {
        "id": "Lqk2cs6LxVIh"
      },
      "source": [
        "Since this notebook is made for demonstration purposes, we will be taking first `num_batches` and will perform training over only that. You are encouraged to train on the whole dataset though."
      ]
    },
    {
      "cell_type": "code",
      "metadata": {
        "id": "z6GO5oYUxXtz"
      },
      "source": [
        "num_train_batches = 16\n",
        "num_val_batches = 6\n",
        "\n",
        "train_dataset = dataset.take(num_train_batches)\n",
        "val_dataset = dataset.skip(num_train_batches).take(num_val_batches)"
      ],
      "execution_count": 38,
      "outputs": []
    },
    {
      "cell_type": "markdown",
      "metadata": {
        "id": "SJtSLgCvxvBG"
      },
      "source": [
        "## Training\n",
        "\n",
        "Let's define our `train_step` function now. There are 3 main steps in `train_step`: \n",
        "1. forward pass with variables tracking\n",
        "2. backward pass for calculating gradients\n",
        "3. variables update to minimize training loss\n",
        "\n",
        "All the trainable variables in the scope of `tf.GradientTape(...)` will get tracked during the forward pass. Further, `.gradient(...)` will help us find gradient of loss w.r.to those tracked variables & `.apply_gradients(...)` will update the trainable variables based on our `optimizer` defined above."
      ]
    },
    {
      "cell_type": "code",
      "metadata": {
        "id": "2RYI8ra_ZvNA"
      },
      "source": [
        "@tf.function\n",
        "def train_step(speech, labels):\n",
        "    with tf.GradientTape() as gtape:\n",
        "        speech = forward(speech)\n",
        "        loss = loss_fn(labels, speech)\n",
        "    grads = gtape.gradient(loss, model.trainable_variables)\n",
        "    optimizer.apply_gradients(zip(grads, model.trainable_variables))\n",
        "    return loss"
      ],
      "execution_count": 27,
      "outputs": []
    },
    {
      "cell_type": "markdown",
      "metadata": {
        "id": "vOuhcSPkytaN"
      },
      "source": [
        "Let's kick start training finally !!!\n",
        "\n",
        "We will iterate over our dataset (instance of `tf.data.Dataset`) and each batch will be fed to `train_step(...)` for calculating loss, gradients & updating parameters."
      ]
    },
    {
      "cell_type": "code",
      "metadata": {
        "id": "zUujvZn4ZvNA",
        "colab": {
          "base_uri": "https://localhost:8080/",
          "height": 222,
          "referenced_widgets": [
            "1a2c66eaebce410688bd272ed219e4f4",
            "576d36e73e3246b48e7fd41d9d4d6220",
            "8407bca8262948bab2b84d731c271dda",
            "6b3f3ac67bfb425baa127008caa7ad70",
            "b9e133a31dc94f9b87b863646e366409",
            "dd451758dc3e458f8c8cd957e6bc0f26",
            "1612fbbf78da4b94b67ce8ac4f5fe477",
            "bec74d8765724fa2a2fc2db2f1ca4ab1"
          ]
        },
        "outputId": "13a61459-c49b-40b0-814f-d9a35e9c34a1"
      },
      "source": [
        "from tqdm.auto import tqdm\n",
        "EPOCHS = 3\n",
        "\n",
        "pbar = tqdm(range(EPOCHS), total=EPOCHS)\n",
        "for e in pbar:\n",
        "  running_loss, steps = tf.constant(0.), 0\n",
        "  for labels, speech in train_dataset:\n",
        "      loss = train_step(speech, labels)\n",
        "      running_loss += loss\n",
        "      steps += 1\n",
        "  pbar.set_postfix(tr_loss=running_loss.numpy().item()/steps, epoch=e)"
      ],
      "execution_count": 28,
      "outputs": [
        {
          "output_type": "display_data",
          "data": {
            "application/vnd.jupyter.widget-view+json": {
              "model_id": "1a2c66eaebce410688bd272ed219e4f4",
              "version_minor": 0,
              "version_major": 2
            },
            "text/plain": [
              "HBox(children=(FloatProgress(value=0.0, max=3.0), HTML(value='')))"
            ]
          },
          "metadata": {
            "tags": []
          }
        },
        {
          "output_type": "stream",
          "text": [
            "WARNING:tensorflow:From /usr/local/lib/python3.7/dist-packages/tensorflow/python/ops/ctc_ops.py:1408: alias_inplace_add (from tensorflow.python.ops.inplace_ops) is deprecated and will be removed in a future version.\n",
            "Instructions for updating:\n",
            "Prefer tf.tensor_scatter_nd_add, which offers the same functionality with well-defined read-write semantics.\n",
            "WARNING:tensorflow:From /usr/local/lib/python3.7/dist-packages/tensorflow/python/ops/ctc_ops.py:1391: alias_inplace_update (from tensorflow.python.ops.inplace_ops) is deprecated and will be removed in a future version.\n",
            "Instructions for updating:\n",
            "Prefer tf.tensor_scatter_nd_update, which offers the same functionality with well-defined read-write semantics.\n",
            "WARNING:tensorflow:Gradients do not exist for variables ['wav2vec2/masked_spec_embed:0'] when minimizing the loss.\n",
            "WARNING:tensorflow:Gradients do not exist for variables ['wav2vec2/masked_spec_embed:0'] when minimizing the loss.\n",
            "\n"
          ],
          "name": "stdout"
        }
      ]
    },
    {
      "cell_type": "markdown",
      "metadata": {
        "id": "SJfPlTgezD0i"
      },
      "source": [
        "## Evaluation\n",
        "\n",
        "Let's compute loss over validation dataset using `eval_step(...)` defined in the following cell."
      ]
    },
    {
      "cell_type": "code",
      "metadata": {
        "id": "ssWXWc7CZvNB"
      },
      "source": [
        "@tf.function(jit_compile=True)\n",
        "def eval_fwd(batch):\n",
        "  return model(batch, training=False)\n",
        "\n",
        "@tf.function\n",
        "def eval_step(speech, labels):\n",
        "    speech = eval_fwd(speech)\n",
        "    loss = loss_fn(labels, speech)\n",
        "    return loss, tf.argmax(speech, axis=-1)"
      ],
      "execution_count": 29,
      "outputs": []
    },
    {
      "cell_type": "markdown",
      "metadata": {
        "id": "Io_91Y7-r3xu"
      },
      "source": [
        "We need to compute `WER` (word error rate) over our validation data. We will use `load_metric(...)` function from [HuggingFace datasets](https://huggingface.co/docs/datasets/) library. Let's first install the `datasets` library using `pip` and then define the `metric` object."
      ]
    },
    {
      "cell_type": "code",
      "metadata": {
        "colab": {
          "base_uri": "https://localhost:8080/",
          "height": 134,
          "referenced_widgets": [
            "f8c0233b1459468ab4361c5a5528b521",
            "023cc71c325a4a9d8caeace64571507a",
            "ba49841f135b4d578e66787c6b07a5ab",
            "4b36dd7106a4421fb88ddc706f95481d",
            "e2461fd9f3224c9f81ad956bc90b68d2",
            "bbdd2374c1ad46f2aaecfabd04dc78f4",
            "1764d4adeaed45cdb9ff7f100bd3a7b1",
            "44298e50f8aa454389d25ef77608ce02"
          ]
        },
        "id": "GW9F_oVDU1TZ",
        "outputId": "08b7b2ea-b03d-4781-9c33-6f95d15e346d"
      },
      "source": [
        "!pip3 install -q datasets\n",
        "\n",
        "from datasets import load_metric\n",
        "metric = load_metric(\"wer\")"
      ],
      "execution_count": 30,
      "outputs": [
        {
          "output_type": "stream",
          "text": [
            "\u001b[K     |████████████████████████████████| 542 kB 7.5 MB/s \n",
            "\u001b[K     |████████████████████████████████| 76 kB 5.6 MB/s \n",
            "\u001b[K     |████████████████████████████████| 243 kB 71.5 MB/s \n",
            "\u001b[K     |████████████████████████████████| 118 kB 71.2 MB/s \n",
            "\u001b[?25h"
          ],
          "name": "stdout"
        },
        {
          "output_type": "display_data",
          "data": {
            "application/vnd.jupyter.widget-view+json": {
              "model_id": "f8c0233b1459468ab4361c5a5528b521",
              "version_minor": 0,
              "version_major": 2
            },
            "text/plain": [
              "HBox(children=(FloatProgress(value=0.0, description='Downloading', max=1947.0, style=ProgressStyle(description…"
            ]
          },
          "metadata": {
            "tags": []
          }
        },
        {
          "output_type": "stream",
          "text": [
            "\n"
          ],
          "name": "stdout"
        }
      ]
    },
    {
      "cell_type": "markdown",
      "metadata": {
        "id": "NFh1myg1x4ua"
      },
      "source": [
        "It's time to run the evaluation on validation data now."
      ]
    },
    {
      "cell_type": "code",
      "metadata": {
        "id": "EQTFVjZghckJ",
        "colab": {
          "base_uri": "https://localhost:8080/",
          "height": 66,
          "referenced_widgets": [
            "70a0803218f5497e801ccd6436c4828c",
            "950e5a6215254ae3b430d53369cfa847",
            "ceb65d22a28941b0965d72f7adc778a9",
            "1cb875983a3541d182418062718fac84",
            "ba387bbf597f4997b685c9c51e1b4047",
            "2eb016b3fe8c403ca6c1326b39eef910",
            "2c01c8fd6a8b47a2bdcc81468220b0da",
            "db4d82dda20f443c9190d991bd75eed4"
          ]
        },
        "outputId": "3c432085-ec2e-4e57-bd34-999c18464ff0"
      },
      "source": [
        "pbar = tqdm(val_dataset, total=num_val_batches)\n",
        "for labels, speech in pbar:\n",
        "    loss, predictions = eval_step(speech, labels)\n",
        "    pbar.set_postfix(val_loss=loss.numpy().item())\n",
        "    predictions = [tokenizer.decode(pred) for pred in predictions.numpy().tolist()]\n",
        "    references = [tokenizer.decode(label, group_tokens=False) for label in labels.numpy().tolist()]\n",
        "    metric.add_batch(references=references, predictions=predictions)"
      ],
      "execution_count": 33,
      "outputs": [
        {
          "output_type": "display_data",
          "data": {
            "application/vnd.jupyter.widget-view+json": {
              "model_id": "70a0803218f5497e801ccd6436c4828c",
              "version_minor": 0,
              "version_major": 2
            },
            "text/plain": [
              "HBox(children=(FloatProgress(value=0.0, max=4.0), HTML(value='')))"
            ]
          },
          "metadata": {
            "tags": []
          }
        },
        {
          "output_type": "stream",
          "text": [
            "\n"
          ],
          "name": "stdout"
        }
      ]
    },
    {
      "cell_type": "markdown",
      "metadata": {
        "id": "WWCc8qBesv3e"
      },
      "source": [
        "We are using the `tokenizer.decode(...)` method for decoding our predictions and labels back into the text and will add them to the metric for `WER` computation later."
      ]
    },
    {
      "cell_type": "markdown",
      "metadata": {
        "id": "XI_URj8Wtb2g"
      },
      "source": [
        "Now, let's calculate the metric value in following cell:"
      ]
    },
    {
      "cell_type": "code",
      "metadata": {
        "colab": {
          "base_uri": "https://localhost:8080/"
        },
        "id": "a83wekLgWMod",
        "outputId": "1acfd917-3ea7-4eb7-d7e7-dd35fa5fa4c1"
      },
      "source": [
        "metric.compute()"
      ],
      "execution_count": 34,
      "outputs": [
        {
          "output_type": "execute_result",
          "data": {
            "text/plain": [
              "1.0"
            ]
          },
          "metadata": {
            "tags": []
          },
          "execution_count": 34
        }
      ]
    },
    {
      "cell_type": "markdown",
      "metadata": {
        "id": "c_cD1OgVEjl4"
      },
      "source": [
        "**Note:** Here metric value doesn't make any sense as the model is trained on very small data and ASR-like tasks often require a very large amount of data to learn a mapping from speech to text. You should probably train on large data to get some good results. This notebook gives you a template to fine-tune a pre-trained speech model."
      ]
    },
    {
      "cell_type": "markdown",
      "metadata": {
        "id": "CzAOI78tky08"
      },
      "source": [
        "## Wrapping training in `tf.keras.Model` (Recommended)\n",
        "\n",
        "Now that we have defined the training & evaluation step and we can train the model with our custom loop, we will wrap our training pipeline with `tf.keras.Model`. This will allow us to get rid of a lot of boilerplate code & we will be able to get all benefits of the `.fit(...)` method which includes easy logging with `callbacks` argument, Early stopping, model checkpointing, auto data-sharding when running distributed training and many more.\n",
        "\n",
        "To be able to do this, we will implement `compile(...)` method for configuring `optimizer`, `metric` & `loss function` and the `train_step(...)` & `eval_step(...)` methods. `train_step` & `eval_step` are very similar to what we defined above & we are making little changes only to make them `class methods` from `functions`."
      ]
    },
    {
      "cell_type": "code",
      "metadata": {
        "id": "jBEp6soJkd7Y"
      },
      "source": [
        "class Trainer(tf.keras.Model):\n",
        "  def __init__(self, model):\n",
        "    super().__init__()\n",
        "    self.model = model\n",
        "\n",
        "  def compile(self, optimizer, loss_fn):\n",
        "      super().compile(optimizer=optimizer)\n",
        "      self.loss_fn = loss_fn\n",
        "      self.loss_tracker = tf.keras.metrics.Mean(name=\"loss\")\n",
        "\n",
        "  @property\n",
        "  def metrics(self):\n",
        "      \"\"\"TFKeras will call `metric.reset_states()` because of this method.\"\"\"\n",
        "      return [self.loss_tracker]\n",
        "\n",
        "  @tf.function(jit_compile=True)\n",
        "  def call(self, speech, training=False):\n",
        "      return self.model(speech, training=training)\n",
        "\n",
        "  def train_step(self, data):\n",
        "      labels, speech = data\n",
        "      with tf.GradientTape() as gtape:\n",
        "          speech = self(speech, training=True)\n",
        "          loss = self.loss_fn(labels, speech)\n",
        "      grads = gtape.gradient(loss, self.model.trainable_variables)\n",
        "      self.optimizer.apply_gradients(zip(grads, self.model.trainable_variables))\n",
        "\n",
        "      self.loss_tracker.update_state(loss)\n",
        "      return {m.name: m.result() for m in self.metrics}\n",
        "\n",
        "  def test_step(self, data):\n",
        "      labels, speech = data\n",
        "      speech = self(speech, training=False)\n",
        "      loss = self.loss_fn(labels, speech)\n",
        "\n",
        "      self.loss_tracker.update_state(loss)\n",
        "      return {m.name: m.result() for m in self.metrics}"
      ],
      "execution_count": 35,
      "outputs": []
    },
    {
      "cell_type": "code",
      "metadata": {
        "id": "vuBY2sZElgwg"
      },
      "source": [
        "trainer = Trainer(model)\n",
        "trainer.compile(optimizer, loss_fn)"
      ],
      "execution_count": 36,
      "outputs": []
    },
    {
      "cell_type": "markdown",
      "metadata": {
        "id": "qswxafSl0HjO"
      },
      "source": [
        "The above cell will set up our training state. Now we can initiate the model with the `.fit(...)` method."
      ]
    },
    {
      "cell_type": "code",
      "metadata": {
        "id": "vtuSfnj1l-I_",
        "colab": {
          "base_uri": "https://localhost:8080/"
        },
        "outputId": "8e8d531e-7bd3-4ec4-b3e9-9c58078a69be"
      },
      "source": [
        "trainer.fit(train_dataset, validation_data=val_dataset, epochs=EPOCHS)"
      ],
      "execution_count": 37,
      "outputs": [
        {
          "output_type": "stream",
          "text": [
            "Epoch 1/3\n",
            "WARNING:tensorflow:Gradients do not exist for variables ['wav2vec2/masked_spec_embed:0'] when minimizing the loss.\n",
            "16/16 [==============================] - 53s 2s/step - loss: 598.0236 - val_loss: 461.5457\n",
            "Epoch 2/3\n",
            "16/16 [==============================] - 28s 2s/step - loss: 546.3897 - val_loss: 637.4574\n",
            "Epoch 3/3\n",
            "16/16 [==============================] - 29s 2s/step - loss: 459.7022 - val_loss: 330.9457\n"
          ],
          "name": "stdout"
        },
        {
          "output_type": "execute_result",
          "data": {
            "text/plain": [
              "<tensorflow.python.keras.callbacks.History at 0x7f0596d85990>"
            ]
          },
          "metadata": {
            "tags": []
          },
          "execution_count": 37
        }
      ]
    },
    {
      "cell_type": "code",
      "metadata": {
        "id": "C0KEYcwydwjF",
        "outputId": "1155cfee-8cff-48d5-e146-c6c68d72b73f",
        "colab": {
          "base_uri": "https://localhost:8080/"
        }
      },
      "source": [
        "save_dir = \"finetuned-wav2vec2\"\n",
        "trainer.save(save_dir)"
      ],
      "execution_count": 39,
      "outputs": [
        {
          "output_type": "stream",
          "text": [
            "WARNING:absl:Found untraced functions such as restored_function_body, restored_function_body, restored_function_body, restored_function_body, restored_function_body while saving (showing 5 of 855). These functions will not be directly callable after loading.\n"
          ],
          "name": "stderr"
        },
        {
          "output_type": "stream",
          "text": [
            "INFO:tensorflow:Assets written to: finetuned-wav2vec2/assets\n"
          ],
          "name": "stdout"
        },
        {
          "output_type": "stream",
          "text": [
            "INFO:tensorflow:Assets written to: finetuned-wav2vec2/assets\n"
          ],
          "name": "stderr"
        }
      ]
    },
    {
      "cell_type": "markdown",
      "metadata": {
        "id": "G14o706kdTE1"
      },
      "source": [
        "## Inference"
      ]
    },
    {
      "cell_type": "code",
      "metadata": {
        "id": "wrTrExiUdaED"
      },
      "source": [
        "finetuned_model = tf.keras.models.load_model(save_dir)"
      ],
      "execution_count": 40,
      "outputs": []
    },
    {
      "cell_type": "code",
      "metadata": {
        "id": "HUE0shded6Ej",
        "outputId": "badf0d8a-3cb9-4529-e887-d4da75cd7c40",
        "colab": {
          "base_uri": "https://localhost:8080/"
        }
      },
      "source": [
        "!wget https://github.com/vasudevgupta7/gsoc-wav2vec2/raw/main/data/SA2.wav"
      ],
      "execution_count": 41,
      "outputs": [
        {
          "output_type": "stream",
          "text": [
            "--2021-07-27 11:35:10--  https://github.com/vasudevgupta7/gsoc-wav2vec2/raw/main/data/SA2.wav\n",
            "Resolving github.com (github.com)... 192.30.255.112\n",
            "Connecting to github.com (github.com)|192.30.255.112|:443... connected.\n",
            "HTTP request sent, awaiting response... 302 Found\n",
            "Location: https://raw.githubusercontent.com/vasudevgupta7/gsoc-wav2vec2/main/data/SA2.wav [following]\n",
            "--2021-07-27 11:35:10--  https://raw.githubusercontent.com/vasudevgupta7/gsoc-wav2vec2/main/data/SA2.wav\n",
            "Resolving raw.githubusercontent.com (raw.githubusercontent.com)... 185.199.108.133, 185.199.109.133, 185.199.111.133, ...\n",
            "Connecting to raw.githubusercontent.com (raw.githubusercontent.com)|185.199.108.133|:443... connected.\n",
            "HTTP request sent, awaiting response... 200 OK\n",
            "Length: 94252 (92K) [audio/wav]\n",
            "Saving to: ‘SA2.wav’\n",
            "\n",
            "SA2.wav             100%[===================>]  92.04K  --.-KB/s    in 0.01s   \n",
            "\n",
            "2021-07-27 11:35:10 (9.11 MB/s) - ‘SA2.wav’ saved [94252/94252]\n",
            "\n"
          ],
          "name": "stdout"
        }
      ]
    },
    {
      "cell_type": "code",
      "metadata": {
        "id": "z7CARje4d5_H",
        "outputId": "04a2890c-ccfe-4255-e764-d91d3050c00e",
        "colab": {
          "base_uri": "https://localhost:8080/"
        }
      },
      "source": [
        "import numpy as np\n",
        "\n",
        "speech, _ = sf.read(\"SA2.wav\")\n",
        "speech = np.pad(speech, (0, AUDIO_MAXLEN - len(speech)))\n",
        "speech = tf.expand_dims(tf.constant(speech), 0)\n",
        "\n",
        "outputs = finetuned_model(speech)\n",
        "outputs"
      ],
      "execution_count": 43,
      "outputs": [
        {
          "output_type": "execute_result",
          "data": {
            "text/plain": [
              "<tf.Tensor: shape=(1, 768, 32), dtype=float32, numpy=\n",
              "array([[[ 1.7183228 , -0.85034037, -1.0313914 , ..., -1.2755425 ,\n",
              "         -1.0585048 , -1.2861346 ],\n",
              "        [ 1.4849069 , -0.73765254, -0.9256569 , ..., -1.061569  ,\n",
              "         -0.81141865, -1.3527607 ],\n",
              "        [ 1.6891884 , -1.2361852 , -0.9793967 , ..., -1.4525627 ,\n",
              "         -1.1310242 , -1.7152848 ],\n",
              "        ...,\n",
              "        [ 1.8763846 , -0.06146083,  0.15416975, ..., -1.529478  ,\n",
              "         -0.7728075 , -0.4524945 ],\n",
              "        [ 1.7784934 , -0.11706376,  0.19549124, ..., -1.4768647 ,\n",
              "         -0.8392049 , -0.43076077],\n",
              "        [ 1.6242267 , -0.2248601 ,  0.10749584, ..., -1.4436699 ,\n",
              "         -0.9423501 , -0.47027552]]], dtype=float32)>"
            ]
          },
          "metadata": {
            "tags": []
          },
          "execution_count": 43
        }
      ]
    },
    {
      "cell_type": "code",
      "metadata": {
        "id": "RYdJqxQ4llgI",
        "outputId": "9a891bfc-18c5-452b-d7bb-ab7963623b77",
        "colab": {
          "base_uri": "https://localhost:8080/"
        }
      },
      "source": [
        "predictions = tf.argmax(outputs, axis=-1)\n",
        "predictions = [tokenizer.decode(pred) for pred in predictions.numpy().tolist()]\n",
        "predictions"
      ],
      "execution_count": 44,
      "outputs": [
        {
          "output_type": "execute_result",
          "data": {
            "text/plain": [
              "['H']"
            ]
          },
          "metadata": {
            "tags": []
          },
          "execution_count": 44
        }
      ]
    },
    {
      "cell_type": "markdown",
      "metadata": {
        "id": "7DXC757bztJc"
      },
      "source": [
        "Finally, we have reached an end to this notebook. But it's not an end of learning TensorFlow for speech-related tasks, this [repository](https://github.com/tulasiram58827/TTS_TFLite) contains some more amazing tutorials. In case you encountered any bug in this notebook, please create an issue [here](https://github.com/vasudevgupta7/gsoc-wav2vec2/issues)."
      ]
    },
    {
      "cell_type": "code",
      "metadata": {
        "id": "sBEm6caxYDyK"
      },
      "source": [
        ""
      ],
      "execution_count": null,
      "outputs": []
    }
  ]
}