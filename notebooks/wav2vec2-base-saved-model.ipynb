{
 "metadata": {
  "language_info": {
   "codemirror_mode": {
    "name": "ipython",
    "version": 3
   },
   "file_extension": ".py",
   "mimetype": "text/x-python",
   "name": "python",
   "nbconvert_exporter": "python",
   "pygments_lexer": "ipython3",
   "version": "3.8.10"
  },
  "orig_nbformat": 4,
  "kernelspec": {
   "name": "python3",
   "display_name": "Python 3.8.10 64-bit ('t5': conda)"
  },
  "interpreter": {
   "hash": "184c0bf4d405d4a36e719b504ff2a22c838d19108535bf816dff1a5aad495b87"
  }
 },
 "nbformat": 4,
 "nbformat_minor": 2,
 "cells": [
  {
   "cell_type": "code",
   "execution_count": 1,
   "metadata": {},
   "outputs": [],
   "source": [
    "import tensorflow as tf"
   ]
  },
  {
   "cell_type": "code",
   "execution_count": 2,
   "metadata": {},
   "outputs": [],
   "source": [
    "# TODO: update it to load from TFHub later\n",
    "loaded = tf.saved_model.load(\"../src/saved-model\")"
   ]
  },
  {
   "cell_type": "code",
   "execution_count": 3,
   "metadata": {},
   "outputs": [
    {
     "output_type": "execute_result",
     "data": {
      "text/plain": [
       "['infer', 'train']"
      ]
     },
     "metadata": {},
     "execution_count": 3
    }
   ],
   "source": [
    "list(loaded.signatures.keys())"
   ]
  },
  {
   "cell_type": "code",
   "execution_count": 4,
   "metadata": {},
   "outputs": [],
   "source": [
    "model = loaded.signatures[\"train\"]\n",
    "\n",
    "@tf.function(jit_compile=True)\n",
    "def forward(batch):\n",
    "    return model(batch)"
   ]
  },
  {
   "cell_type": "code",
   "execution_count": 5,
   "metadata": {},
   "outputs": [
    {
     "output_type": "execute_result",
     "data": {
      "text/plain": [
       "{'output_0': <tf.Tensor: shape=(2, 768, 768), dtype=float32, numpy=\n",
       " array([[[ 0.04981414, -0.11246528,  0.22671068, ...,  0.4736007 ,\n",
       "           0.0594595 , -0.16712372],\n",
       "         [-0.05188152, -0.14415626,  0.21715117, ...,  0.4496262 ,\n",
       "           0.19341631, -0.128913  ],\n",
       "         [ 0.21963328, -0.04843174,  0.10294376, ...,  0.36572003,\n",
       "           0.15869941,  0.03712311],\n",
       "         ...,\n",
       "         [ 0.033603  , -0.12690043,  0.10068704, ...,  0.47456473,\n",
       "           0.06561999, -0.08360367],\n",
       "         [ 0.14492346, -0.14835656,  0.09673587, ...,  0.53533024,\n",
       "           0.25344235, -0.00547679],\n",
       "         [ 0.04792857, -0.21567795,  0.177122  , ...,  0.3946013 ,\n",
       "           0.12262318, -0.16006427]],\n",
       " \n",
       "        [[ 0.08920608, -0.00930583,  0.224908  , ...,  0.2948055 ,\n",
       "           0.02860889, -0.05696075],\n",
       "         [-0.031082  , -0.05461206,  0.19720137, ...,  0.28247502,\n",
       "           0.0928454 , -0.06703105],\n",
       "         [ 0.22385038, -0.17530268,  0.2455038 , ...,  0.3629407 ,\n",
       "           0.22896694, -0.00575246],\n",
       "         ...,\n",
       "         [ 0.11078387, -0.14083627,  0.28719676, ...,  0.58891124,\n",
       "           0.23505788, -0.1006375 ],\n",
       "         [-0.06454392, -0.11049275,  0.08029447, ...,  0.43157318,\n",
       "           0.07856634, -0.07067369],\n",
       "         [ 0.17163242, -0.10659251,  0.34340432, ...,  0.14162482,\n",
       "           0.2449391 , -0.02186076]]], dtype=float32)>}"
      ]
     },
     "metadata": {},
     "execution_count": 5
    }
   ],
   "source": [
    "batch = tf.random.uniform(shape=(2, 246000))\n",
    "forward(batch)"
   ]
  },
  {
   "cell_type": "code",
   "execution_count": null,
   "metadata": {},
   "outputs": [],
   "source": [
    "# TODO: add how to train?"
   ]
  }
 ]
}