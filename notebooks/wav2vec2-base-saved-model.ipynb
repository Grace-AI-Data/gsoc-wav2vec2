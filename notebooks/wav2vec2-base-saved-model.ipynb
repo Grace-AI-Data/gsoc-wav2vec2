{
 "metadata": {
  "language_info": {
   "codemirror_mode": {
    "name": "ipython",
    "version": 3
   },
   "file_extension": ".py",
   "mimetype": "text/x-python",
   "name": "python",
   "nbconvert_exporter": "python",
   "pygments_lexer": "ipython3",
   "version": "3.8.10"
  },
  "orig_nbformat": 4,
  "kernelspec": {
   "name": "python3",
   "display_name": "Python 3.8.10 64-bit ('t5': conda)"
  },
  "interpreter": {
   "hash": "184c0bf4d405d4a36e719b504ff2a22c838d19108535bf816dff1a5aad495b87"
  }
 },
 "nbformat": 4,
 "nbformat_minor": 2,
 "cells": [
  {
   "cell_type": "code",
   "execution_count": null,
   "metadata": {},
   "outputs": [],
   "source": [
    "!git clone https://github.com/vasudevgupta7/gsoc-wav2vec2 --branch=export\n",
    "\n",
    "import sys\n",
    "import os\n",
    "\n",
    "os.chdir(\"gsoc-wav2vec2\")\n",
    "sys.path.append(\"src\")"
   ]
  },
  {
   "cell_type": "code",
   "execution_count": 29,
   "metadata": {},
   "outputs": [],
   "source": [
    "import tensorflow as tf\n",
    "import tensorflow_hub as hub\n",
    "\n",
    "from wav2vec2 import Wav2Vec2Config, CTCLoss\n",
    "\n",
    "config = Wav2Vec2Config()"
   ]
  },
  {
   "cell_type": "code",
   "execution_count": 30,
   "metadata": {},
   "outputs": [
    {
     "output_type": "stream",
     "name": "stdout",
     "text": [
      "Available signatures are: ['infer', 'train']\n"
     ]
    }
   ],
   "source": [
    "# TODO: update it to load from TFHub later\n",
    "loaded = hub.load(\"saved-model\")\n",
    "print(\"Available signatures are:\", list(loaded.signatures.keys()))\n",
    "pretrained_model = loaded.signatures[\"train\"]"
   ]
  },
  {
   "cell_type": "code",
   "execution_count": 31,
   "metadata": {},
   "outputs": [],
   "source": [
    "pretrained_model = hub.KerasLayer(pretrained_model, trainable=False)\n",
    "lm_head = tf.keras.layers.Dense(config.vocab_size)"
   ]
  },
  {
   "cell_type": "code",
   "execution_count": 37,
   "metadata": {},
   "outputs": [
    {
     "output_type": "stream",
     "name": "stdout",
     "text": [
      "Number of trainable variables: 2\n"
     ]
    }
   ],
   "source": [
    "print(\"Number of trainable variables:\", len(pretrained_model.trainable_variables) + len(lm_head.trainable_variables))"
   ]
  },
  {
   "cell_type": "code",
   "execution_count": null,
   "metadata": {},
   "outputs": [],
   "source": [
    "BATCH_SIZE_PER_DEVICE = 8\n",
    "BATCH_SIZE = BATCH_SIZE_PER_DEVICE\n",
    "LEARNING_RATE = 5e-5"
   ]
  },
  {
   "cell_type": "code",
   "execution_count": null,
   "metadata": {},
   "outputs": [],
   "source": [
    "loss_fn = CTCLoss(config, (BATCH_SIZE_PER_DEVICE, 246000), division_factor=BATCH_SIZE)\n",
    "optimizer = tf.keras.optimizers.Adam(LEARNING_RATE)"
   ]
  },
  {
   "cell_type": "code",
   "execution_count": 35,
   "metadata": {},
   "outputs": [],
   "source": [
    "@tf.function(jit_compile=True)\n",
    "def forward(batch):\n",
    "    return lm_head(pretrained_model(batch)[\"output_0\"])"
   ]
  },
  {
   "cell_type": "code",
   "execution_count": null,
   "metadata": {},
   "outputs": [],
   "source": [
    "@tf.function\n",
    "def train_step(speech, labels):\n",
    "    with tf.GradientTape() as gtape:\n",
    "        speech = forward(speech)\n",
    "        loss = loss_fn(labels, speech)\n",
    "    trainable_variables = list(pretrained_model.trainable_variables) + lm_head.trainable_variables\n",
    "    grads = gtape.gradient(loss, trainable_variables)\n",
    "    optimizer.apply_gradients(zip(grads, trainable_variables))\n",
    "    return loss"
   ]
  },
  {
   "cell_type": "code",
   "execution_count": null,
   "metadata": {},
   "outputs": [],
   "source": [
    "from data_utils import LibriSpeechDataLoaderArgs, LibriSpeechDataLoader\n",
    "\n",
    "data_args = LibriSpeechDataLoaderArgs(from_tfrecords=False, data_dir=\"data/LibriSpeech/test-clean\")\n",
    "dataloader = LibriSpeechDataLoader(data_args)\n",
    "dataset = dataloader(seed=None)\n",
    "\n",
    "dataset = dataset.take(2)"
   ]
  },
  {
   "cell_type": "code",
   "execution_count": null,
   "metadata": {},
   "outputs": [],
   "source": [
    "from tqdm import tqdm\n",
    "\n",
    "for speech, label in tqdm(dataset):\n",
    "    train_step(speech, label)"
   ]
  },
  {
   "cell_type": "code",
   "execution_count": null,
   "metadata": {},
   "outputs": [],
   "source": []
  }
 ]
}